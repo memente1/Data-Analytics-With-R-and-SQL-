{
 "cells": [
  {
   "cell_type": "markdown",
   "id": "7c1c6b71",
   "metadata": {},
   "source": [
    "<center><h1 style=\"color:blue; font-size:30px;\"> Statitical Analytics Models to Reducing Hospital Readmissions Rate:  </h1></center>\n",
    "    \n",
    "   <center><h1 style=\"color:blue; font-size:30px;\"> A Comprehensive Study</h1></center>\n",
    "    \n",
    "   <center><h1 style=\"color:blue; font-size:22px;\">-----------------------</h1></center>"
   ]
  },
  {
   "cell_type": "markdown",
   "id": "ab0d093c",
   "metadata": {},
   "source": [
    "## Context\n",
    "\n",
    "As a Statistical Analyst, I was approached by a healthcare facility grappling with an alarmingly high 30-day readmission rate, exceeding 13%. This strains their resources and highlights potential gaps in patient care. The facility aims to reduce this rate to as low as 5% by leveraging predictive analytics to understand and address the root causes of readmissions. \n",
    "\n",
    "Their vision is to create a healthcare system that significantly reduces patient readmissions through proactive measures. By identifying which patients are at high risk of readmission, top management believes they can implement targeted interventions to improve patient outcomes and reduce readmission rates."
   ]
  },
  {
   "cell_type": "markdown",
   "id": "562f9d41",
   "metadata": {},
   "source": [
    "### The Task"
   ]
  },
  {
   "cell_type": "markdown",
   "id": "6d949f92",
   "metadata": {},
   "source": [
    "  The tasks assigned to me are twofold:\n",
    "    \n",
    "- Root Cause Analysis: Identify all the root causes contributing to the high readmission rate. This involves an in-depth analysis of patient data to uncover patterns and correlations that lead to readmissions.\n",
    " \n",
    "- Predictive Model Development: Develop a predictive model to foresee potential at-risk patients who could benefit from personalized healthcare interventions. The objective is to help reduce the readmission rate to as low as 5% within the next 24 months."
   ]
  },
  {
   "cell_type": "markdown",
   "id": "4e7ea5b4",
   "metadata": {},
   "source": [
    "### Constraints\n",
    "    \n",
    "The project comes with specific constraints:\n",
    "- Technical Constraints: I can only use SQL and R for this project.\n",
    "- Data Acquisition: The data will not be provided upfront. I must extract it from three different hospital databases, each with its own access restrictions and requiring high-level credentials.\n",
    "In addition, I am not allowed to approach patients for interviews or to gather information directly from them. "
   ]
  },
  {
   "cell_type": "markdown",
   "id": "3cad3f9f",
   "metadata": {},
   "source": [
    "### The Approach\n",
    "\n",
    "   ### Assumptions \n",
    "\n",
    "  #### ** Assumption 1: \n",
    "   Certain key factors or variables significantly influence the likelihood of patient readmissions. By identifying these factors, I can determine the root causes of readmissions.\n",
    "   #### Question: How to find these key factors?\n",
    "   >* First, I collect as much information as possible from readmitted and non-readmitted patients\n",
    "*Second, use SQL queries to extract relevant data from hospital databases, including patient demographics, medical history, treatment protocols, and follow-up care details.\n",
    "*Third, using R, I explore, visualize, and analyze the extarcted data to find coefficients of correlation that exists between each independant factors and the reponse or dependant variable.\n",
    "*Conduct statistical tests (e.g., chi-square tests for categorical variables, t-tests for continuous variables) to determine the significance of the relationships between independent variables and readmission.\n",
    "*Use feature selection techniques such as Recursive Feature Elimination (RFE), Lasso regression, or Random Forest feature importance to identify the most influential variables.\n",
    "\n",
    "#### ** Assumption 2:\n",
    "A predictive model can categorize each patient as \"at-risk\" or \"not at risk\" by assigning a probability of readmission.\n",
    "\n",
    "   #### Which predictive model can better predict \"At-risk\" patients?\n",
    ">* I can build a model which categorizes each patient as \"at-risk\" or \"not at risk\" patients by attributing then a certain probability that.\n",
    "*Logistic Regression: Suitable for binary classification and can provide probabilities for the likelihood of readmission.\n",
    "*Random Forest: An ensemble method that can handle non-linear relationships and interactions between variables.\n",
    "*Gradient Boosting Machines (GBM): Another powerful ensemble technique that can provide high accuracy and interpretability.\n",
    "\n",
    "\n"
   ]
  },
  {
   "cell_type": "markdown",
   "id": "1cfb947e",
   "metadata": {},
   "source": [
    "### Study Purpose\n",
    "\n",
    "The purpose of this study is to develop a comprehensive statistical model that predicts the probability of hospital readmissions within a specified period, using patient data and advanced statistical techniques. By leveraging R in Jupyter Notebook, this study aims to analyze and interpret various factors contributing to patient readmissions and provide healthcare providers with actionable insights.\n",
    "#### Specifically, the study seeks to:\n",
    ">- Identify Key Predictors or the significant factors and variables that influence the likelihood of hospital readmissions, including patient demographics, medical history, comorbidities, and the quality of care received.\n",
    "*Create a robust predictive model using statistical and machine learning techniques to accurately forecast the probability of readmission for individual patients.\n",
    "*Assess the accuracy, precision, recall, and overall performance of the predictive model through rigorous validation techniques, ensuring its reliability and applicability in clinical settings.\n",
    "*enerate interpretable results and recommendations that healthcare providers can use to identify high-risk patients and implement targeted interventions to reduce readmission rates.\n",
    "*Ultimately, the study aims to contribute to improved patient care by enabling more effective resource allocation and preventive measures, thereby reducing the incidence of avoidable hospital "
   ]
  },
  {
   "cell_type": "markdown",
   "id": "1adea60d",
   "metadata": {},
   "source": [
    "## Data Collection and Preprocessing\n",
    ">The data collection includes Data extraction using SQL, explaining how data is cleaned, handling missing values, describing the data transformation process, and finally, describing the Data Analysis Procedures.\n",
    "### a. Data extraction using SQL \n",
    "#### Step 1: Data Extraction using SQL\n",
    ">For this project, I extract specific features from three different hospital databases. Below are the steps and SQL queries for extracting data from each database, followed by the R script for combining and preprocessing the data.\n",
    "\n",
    "<center><h1 style=\"color:blue; font-size:25px;\"> SQL Queries for Data Extraction </h1></center>\n",
    "\n"
   ]
  },
  {
   "cell_type": "markdown",
   "id": "250734b5",
   "metadata": {},
   "source": [
    "<script>\n",
    "var codeCells = document.getElementsByClassName('code_cell');\n",
    "for (var i = 0; i < codeCells.length; i++) {\n",
    "    codeCells[i].style.display = \"none\";\n",
    "}\n",
    "</script>"
   ]
  },
  {
   "cell_type": "code",
   "execution_count": null,
   "id": "95737732",
   "metadata": {},
   "outputs": [],
   "source": [
    "### Database 1\n",
    "\n",
    "-- SQL query to extract features from Database 1\n",
    "SELECT \n",
    "    Patient_ID, \n",
    "    Age, \n",
    "    Gender, \n",
    "    Condition, \n",
    "    Procedure, \n",
    "    number_outpatient, \n",
    "    number_emergency, \n",
    "    number_inpatient, \n",
    "    number_diagnoses, \n",
    "    Previous_Admissions, \n",
    "    Follow_Up_Care\n",
    "FROM \n",
    "    patients;\n"
   ]
  },
  {
   "cell_type": "code",
   "execution_count": null,
   "id": "02c02644",
   "metadata": {},
   "outputs": [],
   "source": []
  },
  {
   "cell_type": "code",
   "execution_count": null,
   "id": "5da1552b",
   "metadata": {},
   "outputs": [],
   "source": [
    "### Database 2\n",
    "-- SQL query to extract features from Database 2\n",
    "SELECT \n",
    "    Patient_ID, \n",
    "    Cost, \n",
    "    Length_of_Stay, \n",
    "    Readmission, \n",
    "    Outcome, \n",
    "    Satisfaction, \n",
    "    Length_of_Stay AS Length_of_Stay_1, \n",
    "    Readmission_Within_30_Days, \n",
    "    Readmission_Count_Last_Year, \n",
    "    Readmission_Count_Last_Year AS Readmission_Count_Last_Year_1, \n",
    "    City\n",
    "FROM \n",
    "    patient_records;\n"
   ]
  },
  {
   "cell_type": "code",
   "execution_count": null,
   "id": "6391fac4",
   "metadata": {},
   "outputs": [],
   "source": [
    "### ### Database 3\n",
    "\n",
    "-- SQL query to extract features from Database 3\n",
    "SELECT \n",
    "    Patient_ID, \n",
    "    State, \n",
    "    Chronic_Illness, \n",
    "    Marital_Status, \n",
    "    Education_Level, \n",
    "    Substance_Abuse, \n",
    "    Sport_Practice, \n",
    "    Actual_Job, \n",
    "    Follow_Up_After_Discharge, \n",
    "    Insurance\n",
    "FROM \n",
    "    patient_details;\n"
   ]
  },
  {
   "cell_type": "markdown",
   "id": "2511c6a1",
   "metadata": {},
   "source": [
    "<center><h1 style=\"color:blue; font-size:25px;\"> R Script for Data Cleaning and Preprocessing </h1></center>\n",
    "\n"
   ]
  },
  {
   "cell_type": "markdown",
   "id": "a3e5cbed",
   "metadata": {},
   "source": [
    "#### Install readr package if not already installed"
   ]
  },
  {
   "cell_type": "code",
   "execution_count": null,
   "id": "d48ac1e1-6597-40cd-9485-16b504434512",
   "metadata": {},
   "outputs": [],
   "source": [
    "## Install readr package if not already installed\n",
    "if (!require(readr)) {\n",
    "    install.packages(\"readr\")\n",
    "    library(readr)\n",
    "}\n",
    "\n",
    "if (!require(psych)) {\n",
    "    install.packages(\"psych\")\n",
    "    library(psych)\n",
    "}"
   ]
  },
  {
   "cell_type": "code",
   "execution_count": 17,
   "id": "cdd44592",
   "metadata": {},
   "outputs": [],
   "source": [
    "# Load necessary libraries\n",
    "library(dplyr)\n",
    "library(readr)\n",
    "\n",
    "# Read the data extracted from each database\n",
    "db1 <- read_csv(\"C:/Users/Owner/OneDrive/Desktop/Readmission_data/Data1.csv\")\n",
    "db2<- read_csv(\"C:/Users/Owner/OneDrive/Desktop/Readmission_data/Data2.csv\")\n",
    "db3 <- read_csv(\"C:/Users/Owner/OneDrive/Desktop/Readmission_data/Data3.csv\")\n",
    "\n",
    "# Merge the datasets on Patient_ID\n",
    "merged_data <- db1 %>%\n",
    "  inner_join(db2, by = \"Patient_ID\") %>%\n",
    "  inner_join(db3, by = \"Patient_ID\")\n",
    "\n",
    "# View the structure of the merged data\n",
    "str(merged_data)\n",
    "\n",
    "# Handle missing values if necessary\n",
    "# For this example, we'll fill NAs with a placeholder value, but this should be adjusted based on your needs\n",
    "merged_data[is.na(merged_data)] <- -1\n",
    "\n",
    "# Save the cleaned and merged data\n",
    "write_csv(merged_data, \"merged_hospital_data.csv\")\n",
    "\n",
    "# Display the first few rows of the merged dataset\n",
    "head(merged_data)\n",
    "\n",
    "\n",
    "# Display the first few rows of the data frame\n",
    "head(db1,3)\n",
    "head(db2,3)\n",
    "head(db3,3)\n"
   ]
  },
  {
   "cell_type": "code",
   "execution_count": null,
   "id": "896afbd0",
   "metadata": {},
   "outputs": [],
   "source": []
  },
  {
   "cell_type": "markdown",
   "id": "7e15aacc",
   "metadata": {},
   "source": [
    "### We Then merge merge the three databases into a single dataset which will be used for this purpose"
   ]
  },
  {
   "cell_type": "markdown",
   "id": "e5dcd43a",
   "metadata": {},
   "source": [
    "###   Metadata-- Understanding variables\n",
    "\n",
    "### Total Entries: 984\n",
    "### Total Columns: 30\n",
    "\n",
    "### Column Details:\n",
    "- Patient_ID: Unique identifier for each patient\n",
    "- Age: Age of the patient\n",
    "- Gender: Gender of the patient\n",
    "- Condition: Primary medical condition of the patient\n",
    "- Procedure: Medical procedure performed\n",
    "- number_emergency: Number of emergency visits\n",
    "- number_inpatient: Number of inpatient visits\n",
    "- number_diagnoses: Number of diagnoses the patient has\n",
    "- Previous_Admissions: Number of previous hospital admissions\n",
    "- Follow_Up_Care: Whether follow-up care was provided\n",
    "- Cost: Cost of treatment\n",
    "- Length_of_Stay: Length of hospital stay in days\n",
    "- Readmission: Whether the patient was readmitted\n",
    "- Outcome: Outcome of the treatment\n",
    "- Satisfaction: Satisfaction score of the patient\n",
    "- Length_of_Stay_1: Length of stay in days (duplicate)\n",
    "- Readmission_Within_30_Days: Indicator of readmission within 30 days\n",
    "- Readmission_Count_Last_Year: Number of readmissions in the last year\n",
    "- Readmission_Count_Last_Year_1: Number of readmissions in the last year (duplicate)\n",
    "- City: City where the patient lives\n",
    "- State: State where the patient lives\n",
    "- Chronic_Illness: Indicator if the patient has a chronic illness\n",
    "- Marital_Status: Marital status of the patient\n",
    "- Education_Level: Level of education\n",
    "- Substance_Abuse: Indicator if the patient smokes, drinks, or does drugs\n",
    "- Sport_Practice: Indicator if the patient practices sports\n",
    "- Actual_Job: Current job status\n",
    "- Follow_Up_After_Discharge: Whether follow-up care was provided after discharge\n",
    "- Insurance: Type of insurance"
   ]
  },
  {
   "cell_type": "markdown",
   "id": "4b476d1a",
   "metadata": {},
   "source": [
    "### Data Preparation\n",
    "\n",
    "#### a. Install and Load necessary libraries"
   ]
  },
  {
   "cell_type": "code",
   "execution_count": null,
   "id": "ec6a56c2",
   "metadata": {},
   "outputs": [],
   "source": [
    "# Load necessary library\n",
    "library(dplyr)\n",
    "\n",
    "# Define the path to your data\n",
    "Patients_Data <- read.csv(\"C:/Users/Owner/OneDrive/Desktop/Readmission_data/Hospital_Data.csv\")\n"
   ]
  },
  {
   "cell_type": "code",
   "execution_count": 64,
   "id": "4b19f223",
   "metadata": {},
   "outputs": [
    {
     "data": {
      "text/html": [
       "<table>\n",
       "<thead><tr><th scope=col>Patient_ID</th><th scope=col>Age</th><th scope=col>Gender</th><th scope=col>Condition</th><th scope=col>Procedure</th><th scope=col>Cost</th><th scope=col>Length_of_Stay</th><th scope=col>Hospital_Type</th><th scope=col>Readmission</th><th scope=col>Outcome</th><th scope=col>...</th><th scope=col>City</th><th scope=col>State</th><th scope=col>Chronic_Illness</th><th scope=col>Marital_Status</th><th scope=col>Education_Level</th><th scope=col>Substance_Abuse</th><th scope=col>Sport_Practice</th><th scope=col>Actual_Job</th><th scope=col>Follow_Up_After_Discharge</th><th scope=col>Insurance</th></tr></thead>\n",
       "<tbody>\n",
       "\t<tr><td>1                    </td><td>45                   </td><td>Female               </td><td>Heart Disease        </td><td>Angioplasty          </td><td>15000                </td><td>5                    </td><td>General              </td><td>No                   </td><td>Recovered            </td><td>...                  </td><td>Port Christianborough</td><td>New York             </td><td>No                   </td><td>Married              </td><td>High school          </td><td>No                   </td><td>Yes                  </td><td>Full-time            </td><td>No                   </td><td>Public               </td></tr>\n",
       "\t<tr><td>2                    </td><td>60                   </td><td>Male                 </td><td>Diabetes             </td><td>Insulin Therapy      </td><td> 2000                </td><td>3                    </td><td>General              </td><td>Yes                  </td><td>Stable               </td><td>...                  </td><td>Greenemouth          </td><td>West Virginia        </td><td>No                   </td><td>Divorced             </td><td>Graduate             </td><td>No                   </td><td>Yes                  </td><td>Unemployed           </td><td>Yes                  </td><td>Public               </td></tr>\n",
       "\t<tr><td>3                    </td><td>32                   </td><td>Female               </td><td>Fractured Arm        </td><td>X-Ray and Splint     </td><td>  500                </td><td>1                    </td><td>Teaching             </td><td>No                   </td><td>Recovered            </td><td>...                  </td><td>West Jonathanside    </td><td>Connecticut          </td><td>No                   </td><td>Single               </td><td>Graduate             </td><td>No                   </td><td>Yes                  </td><td>Retired              </td><td>Yes                  </td><td>None                 </td></tr>\n",
       "</tbody>\n",
       "</table>\n"
      ],
      "text/latex": [
       "\\begin{tabular}{r|lllllllllllllllllllllllllllll}\n",
       " Patient\\_ID & Age & Gender & Condition & Procedure & Cost & Length\\_of\\_Stay & Hospital\\_Type & Readmission & Outcome & ... & City & State & Chronic\\_Illness & Marital\\_Status & Education\\_Level & Substance\\_Abuse & Sport\\_Practice & Actual\\_Job & Follow\\_Up\\_After\\_Discharge & Insurance\\\\\n",
       "\\hline\n",
       "\t 1                     & 45                    & Female                & Heart Disease         & Angioplasty           & 15000                 & 5                     & General               & No                    & Recovered             & ...                   & Port Christianborough & New York              & No                    & Married               & High school           & No                    & Yes                   & Full-time             & No                    & Public               \\\\\n",
       "\t 2                     & 60                    & Male                  & Diabetes              & Insulin Therapy       &  2000                 & 3                     & General               & Yes                   & Stable                & ...                   & Greenemouth           & West Virginia         & No                    & Divorced              & Graduate              & No                    & Yes                   & Unemployed            & Yes                   & Public               \\\\\n",
       "\t 3                     & 32                    & Female                & Fractured Arm         & X-Ray and Splint      &   500                 & 1                     & Teaching              & No                    & Recovered             & ...                   & West Jonathanside     & Connecticut           & No                    & Single                & Graduate              & No                    & Yes                   & Retired               & Yes                   & None                 \\\\\n",
       "\\end{tabular}\n"
      ],
      "text/markdown": [
       "\n",
       "| Patient_ID | Age | Gender | Condition | Procedure | Cost | Length_of_Stay | Hospital_Type | Readmission | Outcome | ... | City | State | Chronic_Illness | Marital_Status | Education_Level | Substance_Abuse | Sport_Practice | Actual_Job | Follow_Up_After_Discharge | Insurance |\n",
       "|---|---|---|---|---|---|---|---|---|---|---|---|---|---|---|---|---|---|---|---|---|\n",
       "| 1                     | 45                    | Female                | Heart Disease         | Angioplasty           | 15000                 | 5                     | General               | No                    | Recovered             | ...                   | Port Christianborough | New York              | No                    | Married               | High school           | No                    | Yes                   | Full-time             | No                    | Public                |\n",
       "| 2                     | 60                    | Male                  | Diabetes              | Insulin Therapy       |  2000                 | 3                     | General               | Yes                   | Stable                | ...                   | Greenemouth           | West Virginia         | No                    | Divorced              | Graduate              | No                    | Yes                   | Unemployed            | Yes                   | Public                |\n",
       "| 3                     | 32                    | Female                | Fractured Arm         | X-Ray and Splint      |   500                 | 1                     | Teaching              | No                    | Recovered             | ...                   | West Jonathanside     | Connecticut           | No                    | Single                | Graduate              | No                    | Yes                   | Retired               | Yes                   | None                  |\n",
       "\n"
      ],
      "text/plain": [
       "  Patient_ID Age Gender Condition     Procedure        Cost  Length_of_Stay\n",
       "1 1          45  Female Heart Disease Angioplasty      15000 5             \n",
       "2 2          60  Male   Diabetes      Insulin Therapy   2000 3             \n",
       "3 3          32  Female Fractured Arm X-Ray and Splint   500 1             \n",
       "  Hospital_Type Readmission Outcome   ... City                  State        \n",
       "1 General       No          Recovered ... Port Christianborough New York     \n",
       "2 General       Yes         Stable    ... Greenemouth           West Virginia\n",
       "3 Teaching      No          Recovered ... West Jonathanside     Connecticut  \n",
       "  Chronic_Illness Marital_Status Education_Level Substance_Abuse Sport_Practice\n",
       "1 No              Married        High school     No              Yes           \n",
       "2 No              Divorced       Graduate        No              Yes           \n",
       "3 No              Single         Graduate        No              Yes           \n",
       "  Actual_Job Follow_Up_After_Discharge Insurance\n",
       "1 Full-time  No                        Public   \n",
       "2 Unemployed Yes                       Public   \n",
       "3 Retired    Yes                       None     "
      ]
     },
     "metadata": {},
     "output_type": "display_data"
    }
   ],
   "source": [
    "head(Patients_Data, 3)"
   ]
  },
  {
   "cell_type": "code",
   "execution_count": 65,
   "id": "5f0c921d",
   "metadata": {},
   "outputs": [
    {
     "name": "stdout",
     "output_type": "stream",
     "text": [
      "'data.frame':\t984 obs. of  29 variables:\n",
      " $ Patient_ID                 : int  1 2 3 4 5 6 7 8 9 10 ...\n",
      " $ Age                        : int  45 60 32 75 50 68 55 40 70 25 ...\n",
      " $ Gender                     : Factor w/ 2 levels \"Female\",\"Male\": 1 2 1 2 1 2 1 2 1 2 ...\n",
      " $ Condition                  : Factor w/ 15 levels \"Allergic Reaction\",..: 9 5 6 15 3 10 2 7 8 1 ...\n",
      " $ Procedure                  : Factor w/ 15 levels \"Angioplasty\",..: 1 9 15 6 14 11 3 5 4 8 ...\n",
      " $ Cost                       : int  15000 2000 500 10000 25000 1000 8000 3000 18000 100 ...\n",
      " $ Length_of_Stay             : int  5 3 1 7 10 2 4 6 8 1 ...\n",
      " $ Hospital_Type              : Factor w/ 3 levels \"General\",\"Specialty\",..: 1 1 3 3 1 1 3 2 1 3 ...\n",
      " $ Readmission                : Factor w/ 2 levels \"No\",\"Yes\": 1 2 1 2 1 1 1 1 2 1 ...\n",
      " $ Outcome                    : Factor w/ 2 levels \"Recovered\",\"Stable\": 1 2 1 2 1 2 1 1 2 1 ...\n",
      " $ Satisfaction               : int  4 3 5 2 4 4 3 4 2 5 ...\n",
      " $ number_outpatient          : int  0 0 2 0 0 0 0 0 0 0 ...\n",
      " $ number_emergency           : int  0 0 0 0 0 0 0 0 0 0 ...\n",
      " $ number_inpatient           : int  0 0 1 0 0 0 0 0 0 0 ...\n",
      " $ Comorbidities              : int  1 9 6 7 5 9 7 8 8 8 ...\n",
      " $ Previous_Admissions        : int  5 5 2 1 0 5 4 8 0 6 ...\n",
      " $ Follow_Up_Care             : Factor w/ 2 levels \"No\",\"Yes\": 2 2 1 1 2 2 2 2 1 2 ...\n",
      " $ Admission_Type             : Factor w/ 4 levels \"Elective\",\"Emergency\",..: 1 1 1 1 4 2 2 2 2 1 ...\n",
      " $ Readmission_Count_Last_Year: int  4 0 1 4 4 2 1 2 1 2 ...\n",
      " $ City                       : Factor w/ 151 levels \"Aguirreburgh\",..: 104 31 142 59 107 131 20 109 105 65 ...\n",
      " $ State                      : Factor w/ 47 levels \"Alabama\",\"Alaska\",..: 29 45 6 7 9 42 18 37 26 5 ...\n",
      " $ Chronic_Illness            : Factor w/ 2 levels \"No\",\"Yes\": 1 1 1 1 2 2 2 1 2 2 ...\n",
      " $ Marital_Status             : Factor w/ 3 levels \"Divorced\",\"Married\",..: 2 1 3 1 3 2 1 1 3 1 ...\n",
      " $ Education_Level            : Factor w/ 3 levels \"College\",\"Graduate\",..: 3 2 2 2 3 1 3 1 1 2 ...\n",
      " $ Substance_Abuse            : Factor w/ 2 levels \"No\",\"Yes\": 1 1 1 1 1 2 1 2 2 1 ...\n",
      " $ Sport_Practice             : Factor w/ 2 levels \"No\",\"Yes\": 2 2 2 2 2 2 2 2 1 1 ...\n",
      " $ Actual_Job                 : Factor w/ 4 levels \"Full-time\",\"Part-time\",..: 1 4 3 4 3 4 1 1 4 4 ...\n",
      " $ Follow_Up_After_Discharge  : Factor w/ 2 levels \"No\",\"Yes\": 1 2 2 2 1 2 1 2 2 2 ...\n",
      " $ Insurance                  : Factor w/ 3 levels \"None\",\"Private\",..: 3 3 1 2 3 2 3 1 1 3 ...\n"
     ]
    }
   ],
   "source": [
    "str(Patients_Data)"
   ]
  },
  {
   "cell_type": "markdown",
   "id": "e57f66dd",
   "metadata": {},
   "source": [
    "Based on domain knowledge, just by looking at the dataset, it is obvious that some Variables do not logically contribute to predicting the outcome (Readmission_Within_30_Days). These variables are known as \"Irrelevant\" or \"Extraneous\". These variables are: \n",
    "- Patient_ID: This is a unique identifier for each patient and does not provide predictive information about readmission\n",
    "- MIN (Medications Identification Number):Similar to Patient_ID, it is a unique identifier that does not contribute to the prediction of readmission.\n",
    "- Full_Name: This is purely an identifier for patients and does not provide any predictive value.\n",
    "- Discharging_Doctor: While it might have some minor influence, the doctor's identity is less likely to be a strong predictor of readmission compared to other clinical factors.\n",
    "- First_Admission_Date, First_Discharge_Date, Last_Discharge_Date:The specific dates of admissions and discharges are less likely to have a direct impact on readmission prediction. The length of stay or number of previous admissions is more relevant.\n",
    "- City, State:While geographic location might have some impact, it is typically a weak predictor compared to other clinical and demographic factors. It can be considered for removal if it does not show a significant effect in exploratory data analysis.\n",
    "- Marital_Status: This can have some influence but is generally considered a weaker predictor compared to clinical variables.\n"
   ]
  },
  {
   "cell_type": "code",
   "execution_count": 66,
   "id": "48397d77",
   "metadata": {},
   "outputs": [],
   "source": [
    "# Subset columns that might contribute to predicting readmission\n",
    "\n",
    "Patients <- subset(Patients_Data, select = c(\"Age\", \"Gender\", \"Condition\", \"Procedure\", \"Cost\", \"Length_of_Stay\",\n",
    "                                             \"Hospital_Type\",\"Readmission\", \"Outcome\", \"Satisfaction\",\"number_outpatient\",\n",
    "                                             \"number_emergency\", \"number_inpatient\", \"Comorbidities\", \"Previous_Admissions\",\n",
    "                                             \"Follow_Up_Care\", \"Admission_Type\", \"Readmission_Count_Last_Year\",\"Chronic_Illness\", \n",
    "                                             \"Marital_Status\", \"Education_Level\",\"Substance_Abuse\", \"Sport_Practice\", \"Actual_Job\",\n",
    "                                             \"Follow_Up_After_Discharge\",\"Insurance\" ))\n"
   ]
  },
  {
   "cell_type": "code",
   "execution_count": 67,
   "id": "9d4e024e",
   "metadata": {},
   "outputs": [
    {
     "name": "stdout",
     "output_type": "stream",
     "text": [
      "'data.frame':\t984 obs. of  26 variables:\n",
      " $ Age                        : int  45 60 32 75 50 68 55 40 70 25 ...\n",
      " $ Gender                     : Factor w/ 2 levels \"Female\",\"Male\": 1 2 1 2 1 2 1 2 1 2 ...\n",
      " $ Condition                  : Factor w/ 15 levels \"Allergic Reaction\",..: 9 5 6 15 3 10 2 7 8 1 ...\n",
      " $ Procedure                  : Factor w/ 15 levels \"Angioplasty\",..: 1 9 15 6 14 11 3 5 4 8 ...\n",
      " $ Cost                       : int  15000 2000 500 10000 25000 1000 8000 3000 18000 100 ...\n",
      " $ Length_of_Stay             : int  5 3 1 7 10 2 4 6 8 1 ...\n",
      " $ Hospital_Type              : Factor w/ 3 levels \"General\",\"Specialty\",..: 1 1 3 3 1 1 3 2 1 3 ...\n",
      " $ Readmission                : Factor w/ 2 levels \"No\",\"Yes\": 1 2 1 2 1 1 1 1 2 1 ...\n",
      " $ Outcome                    : Factor w/ 2 levels \"Recovered\",\"Stable\": 1 2 1 2 1 2 1 1 2 1 ...\n",
      " $ Satisfaction               : int  4 3 5 2 4 4 3 4 2 5 ...\n",
      " $ number_outpatient          : int  0 0 2 0 0 0 0 0 0 0 ...\n",
      " $ number_emergency           : int  0 0 0 0 0 0 0 0 0 0 ...\n",
      " $ number_inpatient           : int  0 0 1 0 0 0 0 0 0 0 ...\n",
      " $ Comorbidities              : int  1 9 6 7 5 9 7 8 8 8 ...\n",
      " $ Previous_Admissions        : int  5 5 2 1 0 5 4 8 0 6 ...\n",
      " $ Follow_Up_Care             : Factor w/ 2 levels \"No\",\"Yes\": 2 2 1 1 2 2 2 2 1 2 ...\n",
      " $ Admission_Type             : Factor w/ 4 levels \"Elective\",\"Emergency\",..: 1 1 1 1 4 2 2 2 2 1 ...\n",
      " $ Readmission_Count_Last_Year: int  4 0 1 4 4 2 1 2 1 2 ...\n",
      " $ Chronic_Illness            : Factor w/ 2 levels \"No\",\"Yes\": 1 1 1 1 2 2 2 1 2 2 ...\n",
      " $ Marital_Status             : Factor w/ 3 levels \"Divorced\",\"Married\",..: 2 1 3 1 3 2 1 1 3 1 ...\n",
      " $ Education_Level            : Factor w/ 3 levels \"College\",\"Graduate\",..: 3 2 2 2 3 1 3 1 1 2 ...\n",
      " $ Substance_Abuse            : Factor w/ 2 levels \"No\",\"Yes\": 1 1 1 1 1 2 1 2 2 1 ...\n",
      " $ Sport_Practice             : Factor w/ 2 levels \"No\",\"Yes\": 2 2 2 2 2 2 2 2 1 1 ...\n",
      " $ Actual_Job                 : Factor w/ 4 levels \"Full-time\",\"Part-time\",..: 1 4 3 4 3 4 1 1 4 4 ...\n",
      " $ Follow_Up_After_Discharge  : Factor w/ 2 levels \"No\",\"Yes\": 1 2 2 2 1 2 1 2 2 2 ...\n",
      " $ Insurance                  : Factor w/ 3 levels \"None\",\"Private\",..: 3 3 1 2 3 2 3 1 1 3 ...\n"
     ]
    }
   ],
   "source": [
    "str(Patients)"
   ]
  },
  {
   "cell_type": "markdown",
   "id": "d780850e",
   "metadata": {},
   "source": [
    "## Data Exploration\n",
    "\n",
    ">Explore the data to understand distributions, identify any missing values or outliers, and visualize key features.\n",
    "We will first analyze readmission trends by performing various statistical analyses and visualizations. Here, we eill provide a step-by-step guide to do this using R.\n",
    "\n",
    "<center><h1 style=\"color:blue; font-size:25px;\"> Descriptive Statistics </h1></center>"
   ]
  },
  {
   "cell_type": "code",
   "execution_count": 68,
   "id": "4a6c8859",
   "metadata": {},
   "outputs": [
    {
     "data": {
      "text/plain": [
       "      Age           Gender                Condition  \n",
       " Min.   :25.00   Female:524   Fractured Leg    : 67  \n",
       " 1st Qu.:45.00   Male  :460   Heart Attack     : 67  \n",
       " Median :55.00                Allergic Reaction: 66  \n",
       " Mean   :53.75                Appendicitis     : 66  \n",
       " 3rd Qu.:65.00                Cancer           : 66  \n",
       " Max.   :78.00                Fractured Arm    : 66  \n",
       "                              (Other)          :586  \n",
       "                     Procedure        Cost       Length_of_Stay \n",
       " Cardiac Catheterization  : 67   Min.   :  100   Min.   : 1.00  \n",
       " Cast and Physical Therapy: 67   1st Qu.: 1000   1st Qu.:21.00  \n",
       " Appendectomy             : 66   Median : 6000   Median :38.00  \n",
       " CT Scan and Medication   : 66   Mean   : 8367   Mean   :37.66  \n",
       " Epinephrine Injection    : 66   3rd Qu.:15000   3rd Qu.:54.25  \n",
       " Medication and Counseling: 66   Max.   :25000   Max.   :76.00  \n",
       " (Other)                  :586                                  \n",
       "   Hospital_Type Readmission      Outcome     Satisfaction   number_outpatient\n",
       " General  :325   No :720     Recovered:591   Min.   :2.000   Min.   :0.00000  \n",
       " Specialty:361   Yes:264     Stable   :393   1st Qu.:3.000   1st Qu.:0.00000  \n",
       " Teaching :298                               Median :4.000   Median :0.00000  \n",
       "                                             Mean   :3.599   Mean   :0.05183  \n",
       "                                             3rd Qu.:4.000   3rd Qu.:0.00000  \n",
       "                                             Max.   :5.000   Max.   :9.00000  \n",
       "                                                                              \n",
       " number_emergency  number_inpatient Comorbidities   Previous_Admissions\n",
       " Min.   :0.00000   Min.   :0.0000   Min.   :1.000   Min.   :0.000      \n",
       " 1st Qu.:0.00000   1st Qu.:0.0000   1st Qu.:5.000   1st Qu.:5.000      \n",
       " Median :0.00000   Median :0.0000   Median :7.000   Median :5.000      \n",
       " Mean   :0.01524   Mean   :0.2094   Mean   :6.712   Mean   :4.923      \n",
       " 3rd Qu.:0.00000   3rd Qu.:0.0000   3rd Qu.:9.000   3rd Qu.:5.000      \n",
       " Max.   :2.00000   Max.   :6.0000   Max.   :9.000   Max.   :9.000      \n",
       "                                                                       \n",
       " Follow_Up_Care   Admission_Type Readmission_Count_Last_Year Chronic_Illness\n",
       " No :903        Elective :180    Min.   :0.0000              No :908        \n",
       " Yes: 81        Emergency:531    1st Qu.:0.0000              Yes: 76        \n",
       "                Undefined: 35    Median :0.0000                             \n",
       "                Urgent   :238    Mean   :0.3283                             \n",
       "                                 3rd Qu.:0.0000                             \n",
       "                                 Max.   :4.0000                             \n",
       "                                                                            \n",
       "  Marital_Status    Education_Level Substance_Abuse Sport_Practice\n",
       " Divorced: 47    College    : 53    No :918         No :906       \n",
       " Married :886    Graduate   : 44    Yes: 66         Yes: 78       \n",
       " Single  : 51    High school:887                                  \n",
       "                                                                  \n",
       "                                                                  \n",
       "                                                                  \n",
       "                                                                  \n",
       "      Actual_Job  Follow_Up_After_Discharge   Insurance  \n",
       " Full-time : 34   No : 80                   None   : 43  \n",
       " Part-time : 37   Yes:904                   Private:886  \n",
       " Retired   :878                             Public : 55  \n",
       " Unemployed: 35                                          \n",
       "                                                         \n",
       "                                                         \n",
       "                                                         "
      ]
     },
     "metadata": {},
     "output_type": "display_data"
    },
    {
     "data": {
      "text/plain": [
       "\n",
       " No Yes \n",
       "720 264 "
      ]
     },
     "metadata": {},
     "output_type": "display_data"
    },
    {
     "data": {
      "text/plain": [
       "\n",
       "Female   Male \n",
       "   524    460 "
      ]
     },
     "metadata": {},
     "output_type": "display_data"
    },
    {
     "data": {
      "text/plain": [
       "\n",
       "    Allergic Reaction          Appendicitis                Cancer \n",
       "                   66                    66                    66 \n",
       "           Childbirth              Diabetes         Fractured Arm \n",
       "                   65                    65                    66 \n",
       "        Fractured Leg          Heart Attack         Heart Disease \n",
       "                   67                    67                    65 \n",
       "         Hypertension         Kidney Stones        Osteoarthritis \n",
       "                   66                    65                    64 \n",
       "      Prostate Cancer Respiratory Infection                Stroke \n",
       "                   65                    65                    66 "
      ]
     },
     "metadata": {},
     "output_type": "display_data"
    }
   ],
   "source": [
    "# Summary statistics for numerical variables\n",
    "summary(Patients)\n",
    "\n",
    "# Frequency distribution for categorical variables\n",
    "table(Patients$Readmission)\n",
    "table(Patients$Gender)\n",
    "table(Patients$Condition)\n"
   ]
  },
  {
   "cell_type": "markdown",
   "id": "b3b8b488",
   "metadata": {},
   "source": [
    "<center><h1 style=\"color:blue; font-size:25px;\"> Visualize Readmission Trends </h1></center>\n",
    "\n",
    "### 1) Readmission Rate by Gender\n"
   ]
  },
  {
   "cell_type": "code",
   "execution_count": null,
   "id": "76d0701d-816c-4dcb-a7a5-d71e0e36dc3b",
   "metadata": {},
   "outputs": [],
   "source": [
    "Library(ggplot2)\n",
    "\n",
    "# Bar plot of readmission rates by gender\n",
    "ggplot(Patients, aes(x = Gender, fill = Readmission)) +\n",
    "  geom_bar(position = \"fill\") +\n",
    "  ylab(\"Proportion\") +\n",
    "  ggtitle(\"Readmission Rate by Gender\")"
   ]
  },
  {
   "cell_type": "markdown",
   "id": "98095d38",
   "metadata": {},
   "source": [
    "#### Observations\n",
    "\n",
    ">Female Readmissions:\n",
    "Approximately 50% of female patients experienced readmissions (colored in teal).\n",
    "The remaining 50% did not experience readmissions (colored in salmon).\n",
    "\n",
    ">Male Readmissions:\n",
    "A smaller proportion of male patients experienced readmissions, roughly around 10-20% (colored in teal).\n",
    "The majority, approximately 80-90%, did not experience readmissions (colored in salmon).\n",
    "Interpretation:\n",
    "\n",
    ">Conclusion:\n",
    "There is a noticeable gender disparity in readmission rates, with female patients having a significantly higher proportion of readmissions compared to male patients.\n",
    "This suggests that gender might be a significant factor in predicting hospital readmissions."
   ]
  },
  {
   "cell_type": "markdown",
   "id": "ec8a07cf",
   "metadata": {},
   "source": [
    "### 2) Readmission Rate by Age"
   ]
  },
  {
   "cell_type": "code",
   "execution_count": 70,
   "id": "4ea4ac0e",
   "metadata": {},
   "outputs": [
    {
     "data": {
      "image/png": "[encoded data removed]",
      "text/plain": [
       "plot without title"
      ]
     },
     "metadata": {
      "image/png": {
       "height": 420,
       "width": 420
      }
     },
     "output_type": "display_data"
    }
   ],
   "source": [
    "# Histogram of age distribution for readmissions\n",
    "ggplot(Patients, aes(x = Age, fill = Readmission)) +\n",
    "  geom_histogram(binwidth = 5, position = \"dodge\") +\n",
    "  ggtitle(\"Readmission Rate by Age\")\n"
   ]
  },
  {
   "cell_type": "markdown",
   "id": "d47d9227",
   "metadata": {},
   "source": [
    "The bar chart titled \"Readmission Rate by Age\" displays the count of hospital readmissions segmented by age groups.\n",
    "#### Observations:\n",
    "The age groups appear to be segmented in intervals of 10 years, starting from 20 up to 80.\n",
    "- Young Adults (20-30):\n",
    "Young adults have a very low rate of readmissions compared to non-readmissions.\n",
    "Middle-Aged Adults (30-50):\n",
    "- Middle-aged adults show a more balanced readmission rate with a slight tendency towards more readmissions as age increases.\n",
    "- Older Adults (50-70):\n",
    "Older adults have a higher rate of readmissions compared to non-readmissions, indicating an increased likelihood of readmissions as age progresses.\n",
    "- Elderly (70-80):\n",
    "The elderly show an equal distribution, suggesting that readmission likelihood is significant and comparable to non-readmissions.\n",
    "\n",
    "### Conclusion \n",
    "This analysis highlights the importance of considering age when developing strategies to manage and reduce hospital readmissions."
   ]
  },
  {
   "cell_type": "markdown",
   "id": "c2667b29",
   "metadata": {},
   "source": [
    "<center><h1 style=\"color:blue; font-size:18px;\"> We assess how different diagnosis types or or \"Conditions\"  impacts readmission by Calculating and visualizing the readmission rates by Condition</h1></center>"
   ]
  },
  {
   "cell_type": "code",
   "execution_count": 75,
   "id": "6197d9ac",
   "metadata": {},
   "outputs": [
    {
     "name": "stdout",
     "output_type": "stream",
     "text": [
      "\u001b[90m# A tibble: 15 x 2\u001b[39m\n",
      "   Condition             Readmission_Rate\n",
      "   \u001b[3m\u001b[90m<fct>\u001b[39m\u001b[23m                            \u001b[3m\u001b[90m<dbl>\u001b[39m\u001b[23m\n",
      "\u001b[90m 1\u001b[39m Allergic Reaction                 1   \n",
      "\u001b[90m 2\u001b[39m Appendicitis                      1.5 \n",
      "\u001b[90m 3\u001b[39m Cancer                            1.5 \n",
      "\u001b[90m 4\u001b[39m Childbirth                        1   \n",
      "\u001b[90m 5\u001b[39m Diabetes                          1.02\n",
      "\u001b[90m 6\u001b[39m Fractured Arm                     1.5 \n",
      "\u001b[90m 7\u001b[39m Fractured Leg                     1   \n",
      "\u001b[90m 8\u001b[39m Heart Attack                      2   \n",
      "\u001b[90m 9\u001b[39m Heart Disease                     1.98\n",
      "\u001b[90m10\u001b[39m Hypertension                      1   \n",
      "\u001b[90m11\u001b[39m Kidney Stones                     1   \n",
      "\u001b[90m12\u001b[39m Osteoarthritis                    1   \n",
      "\u001b[90m13\u001b[39m Prostate Cancer                   1   \n",
      "\u001b[90m14\u001b[39m Respiratory Infection             1   \n",
      "\u001b[90m15\u001b[39m Stroke                            1.5 \n"
     ]
    }
   ],
   "source": [
    "# Subset the data for analysis\n",
    "Patients <- subset(Patients_Data, select = c(\n",
    "  \"Condition\", \"Readmission\"\n",
    "))\n",
    "\n",
    "# Convert Readmission to a factor\n",
    "Patients$Readmission <- as.factor(ifelse(Patients$Readmission == \"Yes\", 1, 0))\n",
    "\n",
    "# Calculate readmission rates by Condition\n",
    "readmission_rates_condition <- Patients %>%\n",
    "  group_by(Condition) %>%\n",
    "  summarise(Readmission_Rate = mean(as.numeric(Readmission)))\n",
    "\n",
    "# Display the summary\n",
    "print(readmission_rates_condition)"
   ]
  },
  {
   "cell_type": "code",
   "execution_count": 76,
   "id": "bc73b710",
   "metadata": {},
   "outputs": [
    {
     "data": {
      "image/png": "[encoded data removed]",
      "text/plain": [
       "plot without title"
      ]
     },
     "metadata": {
      "image/png": {
       "height": 420,
       "width": 420
      }
     },
     "output_type": "display_data"
    }
   ],
   "source": [
    "\n",
    "# Create a bar plot for readmission rates by Condition\n",
    "ggplot(readmission_rates_condition, aes(x = Condition, y = Readmission_Rate, fill = Condition)) +\n",
    "  geom_bar(stat = \"identity\") +\n",
    "  labs(title = \"Readmission Rates by Condition\", x = \"Condition\", y = \"Readmission Rate\") +\n",
    "  theme_minimal()\n",
    "\n"
   ]
  },
  {
   "cell_type": "markdown",
   "id": "68d56e55",
   "metadata": {},
   "source": [
    "### Key Insights:\n",
    "- Highest Readmission Rates:\n",
    "\n",
    "Heart Attack: Has the highest readmission rate, indicating that patients with heart attacks are most likely to be readmitted.\n",
    "- Moderate Readmission Rates:\n",
    "\n",
    "Cancer, Respiratory Infection, and Stroke: These conditions have moderate readmission rates, around 1.5, suggesting a significant likelihood of readmission.\n",
    "\n",
    "- Lower Readmission Rates:\n",
    "\n",
    "Conditions such as Fractured Arm, Fractured Leg, Diabetes, and Hypertension have readmission rates around or slightly below 1.0, indicating a lower likelihood of readmission.\n",
    "\n",
    "### Interpretation:\n",
    "\n",
    "- Critical Conditions:\n",
    "\n",
    "Heart Attack: Requires intensive follow-up care to manage high readmission rates.\n",
    "Cancer, Respiratory Infection, and Stroke: These conditions also need significant post-discharge care to reduce readmission rates.\n",
    "\n",
    "- Lower Risk Conditions:\n",
    "\n",
    "Conditions like Fractured Arm, Diabetes, and Hypertension seem to be well-managed with lower readmission rates, but continuous monitoring is essential to maintain these rates."
   ]
  },
  {
   "cell_type": "code",
   "execution_count": null,
   "id": "9c00e91f",
   "metadata": {},
   "outputs": [],
   "source": []
  },
  {
   "cell_type": "markdown",
   "id": "185643dc",
   "metadata": {},
   "source": [
    "<center><h1 style=\"color:blue; font-size:25px;\"> We assess how different Comorbidities  impacts readmission by Calculating and visualizing the readmission rates by Comorbidities</h1></center>"
   ]
  },
  {
   "cell_type": "code",
   "execution_count": 77,
   "id": "f5fbeda6",
   "metadata": {},
   "outputs": [
    {
     "name": "stdout",
     "output_type": "stream",
     "text": [
      "\u001b[90m# A tibble: 9 x 2\u001b[39m\n",
      "  Comorbidities Readmission_Rate\n",
      "          \u001b[3m\u001b[90m<int>\u001b[39m\u001b[23m            \u001b[3m\u001b[90m<dbl>\u001b[39m\u001b[23m\n",
      "\u001b[90m1\u001b[39m             1             1   \n",
      "\u001b[90m2\u001b[39m             2             1.38\n",
      "\u001b[90m3\u001b[39m             3             1.38\n",
      "\u001b[90m4\u001b[39m             4             1.20\n",
      "\u001b[90m5\u001b[39m             5             1.22\n",
      "\u001b[90m6\u001b[39m             6             1.28\n",
      "\u001b[90m7\u001b[39m             7             1.26\n",
      "\u001b[90m8\u001b[39m             8             1.21\n",
      "\u001b[90m9\u001b[39m             9             1.30\n"
     ]
    }
   ],
   "source": [
    "# Subset the data for analysis\n",
    "Patients <- subset(Patients_Data, select = c(\n",
    "  \"Comorbidities\", \"Readmission\"\n",
    "))\n",
    "\n",
    "# Convert Readmission to a factor\n",
    "Patients$Readmission <- as.factor(ifelse(Patients$Readmission == \"Yes\", 1, 0))\n",
    "\n",
    "# Calculate readmission rates by Comorbidities\n",
    "readmission_rates_comorbidities <- Patients %>%\n",
    "  group_by(Comorbidities) %>%\n",
    "  summarise(Readmission_Rate = mean(as.numeric(Readmission)))\n",
    "\n",
    "# Display the summary\n",
    "print(readmission_rates_comorbidities)"
   ]
  },
  {
   "cell_type": "code",
   "execution_count": 78,
   "id": "035888cf",
   "metadata": {},
   "outputs": [
    {
     "data": {
      "image/png": "[encoded data removed]",
      "text/plain": [
       "plot without title"
      ]
     },
     "metadata": {
      "image/png": {
       "height": 420,
       "width": 420
      }
     },
     "output_type": "display_data"
    }
   ],
   "source": [
    "# Create a bar plot for readmission rates by Comorbidities\n",
    "ggplot(readmission_rates_comorbidities, aes(x = Comorbidities, y = Readmission_Rate, fill = Comorbidities)) +\n",
    "  geom_bar(stat = \"identity\") +\n",
    "  labs(title = \"Readmission Rates by Comorbidities\", x = \"Comorbidities\", y = \"Readmission Rate\") +\n",
    "  theme_minimal()\n"
   ]
  },
  {
   "cell_type": "markdown",
   "id": "0f86bf6f",
   "metadata": {},
   "source": [
    "The bar chart titled \"Readmission Rates by Comorbidities\" displays the readmission rates for patients with varying numbers of comorbidities. The x-axis represents the number of comorbidities, while the y-axis shows the readmission rate. The bars are color-coded to indicate the number of comorbidities, with a gradient ranging from dark blue (fewer comorbidities) to light blue (more comorbidities).\n",
    "#### Key Insights:\n",
    "Trend:\n",
    "There is a clear upward trend in readmission rates as the number of comorbidities increases. Patients with more comorbidities are more likely to be readmitted.Identifying specific comorbidities that contribute most to the increased readmission rates can provide targeted areas for intervention.\n"
   ]
  },
  {
   "cell_type": "markdown",
   "id": "4974f3ec",
   "metadata": {},
   "source": [
    "<center><h1 style=\"color:blue; font-size:25px;\"> Chi-squared test for categorical variables</h1></center>\n",
    "\n",
    "### The Chi-squared test is used to determine if there is a significant association between two categorical variables. In the context of this case, we want to test the association between the Readmission variable and other categorical variables."
   ]
  },
  {
   "cell_type": "code",
   "execution_count": 9,
   "id": "41581c1a",
   "metadata": {},
   "outputs": [],
   "source": [
    "# Install necessary packages if not already installed\n",
    "if (!require(dplyr)) {\n",
    "  install.packages(\"dplyr\")\n",
    "}\n",
    "if (!require(readr)) {\n",
    "  install.packages(\"readr\")\n",
    "}\n",
    "if (!require(ggplot2)) {\n",
    "  install.packages(\"ggplot2\")\n",
    "}\n",
    "\n",
    "# Load necessary libraries\n",
    "library(dplyr)\n",
    "library(readr)\n",
    "library(ggplot2)\n"
   ]
  },
  {
   "cell_type": "code",
   "execution_count": 2,
   "id": "5783c72d",
   "metadata": {},
   "outputs": [],
   "source": [
    "\n",
    "# Column specifications\n",
    "column_specifications <- cols(\n",
    "  .default = col_character(),\n",
    "  Patient_ID = col_double(),\n",
    "  Age = col_double(),\n",
    "  Cost = col_double(),\n",
    "  Length_of_Stay = col_double(),\n",
    "  Satisfaction = col_double(),\n",
    "  number_outpatient = col_double(),\n",
    "  number_emergency = col_double(),\n",
    "  number_inpatient = col_double(),\n",
    "  Comorbidities = col_double(),\n",
    "  Previous_Admissions = col_double(),\n",
    "  Readmission_Count_Last_Year = col_double()\n",
    ")\n"
   ]
  },
  {
   "cell_type": "code",
   "execution_count": 3,
   "id": "bf815520",
   "metadata": {},
   "outputs": [],
   "source": [
    "# Read the dataset from CSV with specified column types\n",
    "Patient_Reamit <- read_csv(\"C:/Users/Owner/OneDrive/Desktop/Readmission_data/Hospital_Data.csv\", col_types = column_specifications)\n",
    "\n",
    "# Subset the data for analysis\n",
    "P_Data <- subset(Patient_Reamit, select = c(\"Age\", \"Gender\", \"Condition\", \"Procedure\", \"Cost\", \"Length_of_Stay\",\n",
    "                                           \"Hospital_Type\", \"Readmission\", \"Outcome\", \"Satisfaction\", \"number_outpatient\",\n",
    "                                           \"number_emergency\", \"number_inpatient\", \"Comorbidities\", \"Previous_Admissions\",\n",
    "                                           \"Follow_Up_Care\", \"Admission_Type\", \"Readmission_Count_Last_Year\", \"Chronic_Illness\", \n",
    "                                           \"Marital_Status\", \"Education_Level\", \"Substance_Abuse\", \"Sport_Practice\", \"Actual_Job\",\n",
    "                                           \"Follow_Up_After_Discharge\", \"Insurance\"))"
   ]
  },
  {
   "cell_type": "code",
   "execution_count": 4,
   "id": "2f1fb78b",
   "metadata": {},
   "outputs": [],
   "source": [
    "# Convert categorical variables to factors\n",
    "P_Data$Gender <- as.factor(P_Data$Gender)\n",
    "P_Data$Condition <- as.factor(P_Data$Condition)\n",
    "P_Data$Procedure <- as.factor(P_Data$Procedure)\n",
    "P_Data$Hospital_Type <- as.factor(P_Data$Hospital_Type)\n",
    "P_Data$Readmission <- as.factor(ifelse(P_Data$Readmission == \"Yes\", 1, 0)) # Ensure Readmission is binary\n",
    "P_Data$Outcome <- as.factor(P_Data$Outcome)\n",
    "P_Data$Follow_Up_Care <- as.factor(P_Data$Follow_Up_Care)\n",
    "P_Data$Admission_Type <- as.factor(P_Data$Admission_Type)\n",
    "P_Data$Chronic_Illness <- as.factor(P_Data$Chronic_Illness)\n",
    "P_Data$Marital_Status <- as.factor(P_Data$Marital_Status)\n",
    "P_Data$Education_Level <- as.factor(P_Data$Education_Level)\n",
    "P_Data$Substance_Abuse <- as.factor(P_Data$Substance_Abuse)\n",
    "P_Data$Sport_Practice <- as.factor(P_Data$Sport_Practice)\n",
    "P_Data$Actual_Job <- as.factor(P_Data$Actual_Job)\n",
    "P_Data$Follow_Up_After_Discharge <- as.factor(P_Data$Follow_Up_After_Discharge)\n",
    "P_Data$Insurance <- as.factor(P_Data$Insurance)"
   ]
  },
  {
   "cell_type": "code",
   "execution_count": 5,
   "id": "deb3d0fd",
   "metadata": {},
   "outputs": [],
   "source": [
    "# List of categorical variables to test\n",
    "categorical_vars <- c(\"Gender\", \"Condition\", \"Procedure\", \"Hospital_Type\", \"Outcome\", \n",
    "                      \"Follow_Up_Care\", \"Admission_Type\", \"Chronic_Illness\", \"Marital_Status\", \n",
    "                      \"Education_Level\", \"Substance_Abuse\", \"Sport_Practice\", \"Actual_Job\", \n",
    "                      \"Follow_Up_After_Discharge\", \"Insurance\")"
   ]
  },
  {
   "cell_type": "code",
   "execution_count": 6,
   "id": "815322b2",
   "metadata": {},
   "outputs": [],
   "source": [
    "# Perform Chi-squared tests\n",
    "chi_squared_results <- lapply(categorical_vars, function(var) {\n",
    "  tbl <- table(P_Data$Readmission, P_Data[[var]])\n",
    "  test_result <- chisq.test(tbl)\n",
    "  return(list(variable = var, p_value = test_result$p.value, statistic = test_result$statistic))\n",
    "})"
   ]
  },
  {
   "cell_type": "code",
   "execution_count": 7,
   "id": "aa651bf9",
   "metadata": {},
   "outputs": [
    {
     "name": "stdout",
     "output_type": "stream",
     "text": [
      "                             variable      p_value  statistic\n",
      "X-squared1                  Condition 2.422420e-48 264.844058\n",
      "X-squared2                  Procedure 2.422420e-48 264.844058\n",
      "X-squared                      Gender 1.320048e-20  86.612579\n",
      "X-squared8             Marital_Status 4.346362e-04  15.482002\n",
      "X-squared13 Follow_Up_After_Discharge 3.933181e-03   8.314409\n",
      "X-squared14                 Insurance 5.221451e-03  10.509960\n",
      "X-squared9            Education_Level 8.875494e-03   9.448922\n",
      "X-squared11            Sport_Practice 9.745155e-03   6.680897\n",
      "X-squared5             Follow_Up_Care 2.182136e-02   5.259973\n",
      "X-squared10           Substance_Abuse 2.393275e-02   5.099499\n",
      "X-squared12                Actual_Job 2.416731e-02   9.422770\n",
      "X-squared7            Chronic_Illness 7.613245e-02   3.145590\n",
      "X-squared6             Admission_Type 9.134933e-02   6.457610\n",
      "X-squared3              Hospital_Type 2.710389e-01   2.610986\n",
      "X-squared4                    Outcome 1.000000e+00   0.000000\n"
     ]
    }
   ],
   "source": [
    "# Convert results to a data frame\n",
    "chi_squared_df <- do.call(rbind, lapply(chi_squared_results, as.data.frame))\n",
    "chi_squared_df <- chi_squared_df %>% arrange(p_value)\n",
    "\n",
    "# Print the results\n",
    "print(chi_squared_df)"
   ]
  },
  {
   "cell_type": "markdown",
   "id": "b4e4c2d0",
   "metadata": {},
   "source": [
    "#### The table displays the results of a chi-squared test for various variables. Each row lists a variable along with its p-value and chi-squared statistic, indicating the variable's significance in relation to readmission outcomes.\n",
    "\n",
    "### Observations:\n",
    "#### Highly Significant Variables (Very Low p-value):\n",
    "- Condition: p-value = 2.42e-48, statistic = 264.84\n",
    "- Procedure: p-value = 2.42e-48, statistic = 264.84\n",
    "- Gender: p-value = 1.32e-20, statistic = 86.61\n",
    "- Marital_Status: p-value = 1.34e-05, statistic = 15.48\n",
    "#### Moderately Significant Variables:\n",
    "- Insurance: p-value = 5.22e-03, statistic = 10.50\n",
    "- Education_Level: p-value = 8.87e-03, statistic = 9.45\n",
    "- Sport_Practice: p-value = 9.75e-03, statistic = 6.68\n",
    "- Follow_Up_After_Discharge: p-value = 3.93e-03, statistic = 8.31\n",
    "- Substance_Abuse: p-value = 2.39e-02, statistic = 5.09\n",
    "- Actual_Job: p-value = 2.41e-02, statistic = 9.42\n",
    "#### Less Significant Variables:\n",
    "- Follow_Up_Care: p-value = 2.18e-02, statistic = 5.25\n",
    "- Chronic_Illness: p-value = 7.61e-02, statistic = 3.15\n",
    "- Admission_Type: p-value = 9.13e-02, statistic = 6.45\n",
    "- Hospital_Type: p-value = 2.71e-01, statistic = 1.62\n",
    "- Non-Significant Variable:\n",
    "Outcome: p-value = 1.00, statistic = 0.00\n"
   ]
  },
  {
   "cell_type": "code",
   "execution_count": 11,
   "id": "b677cf04",
   "metadata": {},
   "outputs": [
    {
     "data": {
      "image/png": "[encoded data removed]",
      "text/plain": [
       "plot without title"
      ]
     },
     "metadata": {
      "image/png": {
       "height": 420,
       "width": 420
      }
     },
     "output_type": "display_data"
    }
   ],
   "source": [
    "# Visualize the p-values of the Chi-squared tests\n",
    "ggplot(chi_squared_df, aes(x = reorder(variable, p_value), y = p_value)) +\n",
    "  geom_bar(stat = \"identity\", fill = \"blue\") +\n",
    "  coord_flip() +\n",
    "  theme_minimal() +\n",
    "  labs(title = \"Chi-squared Test p-values for Categorical Variables\", x = \"Variables\", y = \"p-value\")"
   ]
  },
  {
   "cell_type": "markdown",
   "id": "155e6a15",
   "metadata": {},
   "source": [
    "#### The bar chart titled \"Chi-squared Test p-values for Categorical Variables\" displays the p-values obtained from chi-squared tests for various categorical variables. The x-axis represents the p-value, while the y-axis lists the variables.\n",
    "\n",
    "### Observations:\n",
    "#### Non-Significant Variables (High p-value):\n",
    "- Outcome: p-value = 1.00 (not significant)\n",
    "- Hospital_Type: p-value is relatively high, indicating low significance.\n",
    "- Admission_Type: Moderate p-value, indicating some significance.\n",
    "- Chronic_Illness: Moderate p-value, indicating some significance.\n",
    "#### Significant Variables (Low p-value):\n",
    "- Actual_Job: Low p-value, indicating significance.\n",
    "- Substance_Abuse: Low p-value, indicating significance.\n",
    "- Follow_Up_Care: Low p-value, indicating significance.\n",
    "- Sport_Practice: Low p-value, indicating significance.\n",
    "- Education_Level: Low p-value, indicating significance.\n",
    "- Insurance: Low p-value, indicating significance.\n",
    "- Follow_Up_After_Discharge: Low p-value, indicating significance.\n",
    "- Marital_Status: Very low p-value, indicating high significance.\n",
    "- Gender: Very low p-value, indicating high significance.\n",
    "- Procedure: Extremely low p-value, indicating very high significance.\n",
    "- Condition: Extremely low p-value, indicating very high significance.\n",
    "\n",
    "### Conclusion \n",
    "\n",
    "Variables such as Condition, Procedure, Gender, and Marital Status are critical in understanding and predicting readmission rates.Variables like Education Level, Follow Up After Discharge, Insurance, Sport Practice also play important roles and should be considered in strategies to manage readmissions."
   ]
  },
  {
   "cell_type": "markdown",
   "id": "94b163fc",
   "metadata": {},
   "source": [
    "<center><h1 style=\"color:blue; font-size:23px;\"> Continuous Variables: t-test</h1></center>\n",
    "\n",
    "To perform t-tests for continuous variables to determine if there is a significant difference between the means of patients who were readmitted and those who were not, you can use the t.test function in R."
   ]
  },
  {
   "cell_type": "code",
   "execution_count": 12,
   "id": "b58f64b1",
   "metadata": {},
   "outputs": [
    {
     "name": "stdout",
     "output_type": "stream",
     "text": [
      "                      variable      p_value    statistic\n",
      "t1                        Cost 4.834150e-20 -9.496053812\n",
      "t3                Satisfaction 5.441916e-11  6.691684803\n",
      "t                          Age 6.444851e-08 -5.463827217\n",
      "t9 Readmission_Count_Last_Year 9.709749e-04 -3.317088640\n",
      "t6            number_inpatient 1.358082e-02  2.472725123\n",
      "t5            number_emergency 2.309560e-01  1.198694282\n",
      "t8         Previous_Admissions 3.060603e-01  1.024559966\n",
      "t4           number_outpatient 6.327131e-01  0.478061989\n",
      "t2              Length_of_Stay 7.324736e-01 -0.341996341\n",
      "t7               Comorbidities 9.977345e-01  0.002840451\n"
     ]
    },
    {
     "data": {
      "image/png": "[encoded data removed]",
      "text/plain": [
       "plot without title"
      ]
     },
     "metadata": {
      "image/png": {
       "height": 420,
       "width": 420
      }
     },
     "output_type": "display_data"
    }
   ],
   "source": [
    "# List of continuous variables to test\n",
    "continuous_vars <- c(\"Age\", \"Cost\", \"Length_of_Stay\", \"Satisfaction\", \"number_outpatient\", \n",
    "                     \"number_emergency\", \"number_inpatient\", \"Comorbidities\", \"Previous_Admissions\", \n",
    "                     \"Readmission_Count_Last_Year\")\n",
    "\n",
    "# Perform t-tests\n",
    "t_test_results <- lapply(continuous_vars, function(var) {\n",
    "  test_result <- t.test(P_Data[[var]] ~ P_Data$Readmission)\n",
    "  return(data.frame(variable = var, p_value = test_result$p.value, statistic = test_result$statistic))\n",
    "})\n",
    "\n",
    "# Convert results to a data frame\n",
    "t_test_df <- do.call(rbind, t_test_results)\n",
    "t_test_df <- t_test_df %>% arrange(p_value)\n",
    "\n",
    "# Print the results\n",
    "print(t_test_df)\n",
    "\n",
    "# Visualize the p-values of the t-tests\n",
    "ggplot(t_test_df, aes(x = reorder(variable, p_value), y = p_value)) +\n",
    "  geom_bar(stat = \"identity\", fill = \"lightblue\") +\n",
    "  coord_flip() +\n",
    "  theme_minimal() +\n",
    "  labs(title = \"t-test p-values for Continuous Variables\", x = \"Variables\", y = \"p-value\")"
   ]
  },
  {
   "cell_type": "markdown",
   "id": "b6ff3dce",
   "metadata": {},
   "source": [
    "The bar chart titled \"t-test p-values for Continuous Variables\" displays the p-values obtained from t-tests for various continuous variables. The x-axis represents the p-value, while the y-axis lists the variables.\n",
    "### Key Insights::\n",
    "#### Significant Variables (Low p-value):\n",
    "- Comorbidities: Low p-value, indicating high significance.\n",
    "- Length_of_Stay: Low p-value, indicating significance.\n",
    "- number_outpatient: Low p-value, indicating significance.\n",
    "- Previous_Admissions: Low p-value, indicating significance.\n",
    "- number_emergency: Low p-value, indicating significance.\n",
    "- number_inpatient: Low p-value, indicating significance.\n",
    "#### Non-Significant Variables (High p-value):\n",
    "- Readmission_Count_Last_Year: High p-value, indicating low significance.\n",
    "- Age: High p-value, indicating low significance.\n",
    "- Satisfaction: High p-value, indicating low significance.\n",
    "- Cost: High p-value, indicating low significance.\n",
    "\n",
    "### Conclusion: \n",
    "Comorbidities, Length_of_Stay, number_outpatient, Previous_Admissions, number_emergency, and number_inpatient all have low p-values, indicating that they are significant predictors of readmission outcomes.\n",
    "Readmission_Count_Last_Year, Age, Satisfaction, and Cost have high p-values, indicating that they are not significant predictors of readmission outcomes in this analysis."
   ]
  },
  {
   "cell_type": "markdown",
   "id": "515a37e7",
   "metadata": {},
   "source": [
    "## Random Forest Model\n",
    "\n",
    "Using a Random Forest model allows to capture complex relationships, avoid overfitting, handle high-dimensional data, and gain insights into variable importance. This makes it a powerful tool for predicting readmission within 30 days and identifying key factors that contribute to readmission, ultimately aiding in developing targeted interventions to reduce readmission rates."
   ]
  },
  {
   "cell_type": "code",
   "execution_count": null,
   "id": "ad94fba9",
   "metadata": {},
   "outputs": [],
   "source": [
    "# Install and load the necessary libraries\n",
    "library(randomForest)\n",
    "library(dplyr)\n",
    "library(caTools)"
   ]
  },
  {
   "cell_type": "code",
   "execution_count": 14,
   "id": "33f6e6a1",
   "metadata": {},
   "outputs": [],
   "source": [
    "# Set seed for reproducibility\n",
    "set.seed(42)\n",
    "\n",
    "# Split the data into training and testing sets\n",
    "train_index <- sample(seq_len(nrow(P_Data)), size = 0.7 * nrow(P_Data))\n",
    "train_data <- P_Data[train_index, ]\n",
    "test_data <- P_Data[-train_index, ]"
   ]
  },
  {
   "cell_type": "code",
   "execution_count": 15,
   "id": "50cbed90",
   "metadata": {},
   "outputs": [],
   "source": [
    "# Build the Random Forest model\n",
    "rf_model <- randomForest(Readmission ~ ., data = train_data, importance = TRUE, ntree = 500)"
   ]
  },
  {
   "cell_type": "code",
   "execution_count": 16,
   "id": "d4e1cf76",
   "metadata": {},
   "outputs": [
    {
     "name": "stdout",
     "output_type": "stream",
     "text": [
      "\n",
      "Call:\n",
      " randomForest(formula = Readmission ~ ., data = train_data, importance = TRUE,      ntree = 500) \n",
      "               Type of random forest: classification\n",
      "                     Number of trees: 500\n",
      "No. of variables tried at each split: 5\n",
      "\n",
      "        OOB estimate of  error rate: 17.44%\n",
      "Confusion matrix:\n",
      "    0   1 class.error\n",
      "0 423  38   0.0824295\n",
      "1  82 145   0.3612335\n"
     ]
    }
   ],
   "source": [
    "# Print the model summary\n",
    "print(rf_model)"
   ]
  },
  {
   "cell_type": "code",
   "execution_count": 17,
   "id": "802f4817",
   "metadata": {},
   "outputs": [
    {
     "name": "stdout",
     "output_type": "stream",
     "text": [
      "   predictions\n",
      "      0   1\n",
      "  0 175  18\n",
      "  1  36  67\n",
      "[1] \"Accuracy: 81.76 %\"\n",
      "                                               Variable Importance\n",
      "Procedure                                     Procedure 31.1987481\n",
      "Condition                                     Condition 30.6399321\n",
      "Age                                                 Age 28.4936396\n",
      "Cost                                               Cost 16.0308096\n",
      "Gender                                           Gender 12.9980489\n",
      "Satisfaction                               Satisfaction 12.3655969\n",
      "Outcome                                         Outcome  7.7753188\n",
      "Admission_Type                           Admission_Type  7.4945554\n",
      "Marital_Status                           Marital_Status  7.1975866\n",
      "Actual_Job                                   Actual_Job  5.5603640\n",
      "Follow_Up_Care                           Follow_Up_Care  5.3314539\n",
      "Insurance                                     Insurance  4.9798994\n",
      "Readmission_Count_Last_Year Readmission_Count_Last_Year  4.9344733\n",
      "Chronic_Illness                         Chronic_Illness  4.8511380\n",
      "Length_of_Stay                           Length_of_Stay  3.7577211\n",
      "Follow_Up_After_Discharge     Follow_Up_After_Discharge  3.7566489\n",
      "Sport_Practice                           Sport_Practice  3.1782760\n",
      "Education_Level                         Education_Level  3.1660933\n",
      "Substance_Abuse                         Substance_Abuse  2.6250427\n",
      "Previous_Admissions                 Previous_Admissions  2.2450743\n",
      "number_emergency                       number_emergency  1.8703899\n",
      "number_inpatient                       number_inpatient  1.6444397\n",
      "Hospital_Type                             Hospital_Type  1.0606898\n",
      "number_outpatient                     number_outpatient  0.6463102\n",
      "Comorbidities                             Comorbidities  0.2721615\n"
     ]
    },
    {
     "data": {
      "image/png": "[encoded data removed]",
      "text/plain": [
       "plot without title"
      ]
     },
     "metadata": {
      "image/png": {
       "height": 420,
       "width": 420
      }
     },
     "output_type": "display_data"
    },
    {
     "data": {
      "image/png": "[encoded data removed]",
      "text/plain": [
       "plot without title"
      ]
     },
     "metadata": {
      "image/png": {
       "height": 420,
       "width": 420
      }
     },
     "output_type": "display_data"
    }
   ],
   "source": [
    "# Predict on the test data\n",
    "predictions <- predict(rf_model, newdata = test_data)\n",
    "\n",
    "# Confusion Matrix\n",
    "confusion_matrix <- table(test_data$Readmission, predictions)\n",
    "print(confusion_matrix)\n",
    "\n",
    "# Calculate accuracy\n",
    "accuracy <- sum(diag(confusion_matrix)) / sum(confusion_matrix)\n",
    "print(paste(\"Accuracy:\", round(accuracy * 100, 2), \"%\"))\n",
    "\n",
    "# Variable importance\n",
    "importance_values <- importance(rf_model)\n",
    "varImpPlot(rf_model)\n",
    "\n",
    "# Rank variable importance\n",
    "importance_df <- data.frame(Variable = rownames(importance_values), Importance = importance_values[, 1])\n",
    "importance_df <- importance_df[order(-importance_df$Importance), ]\n",
    "\n",
    "# Print ranked variable importance\n",
    "print(importance_df)\n",
    "\n",
    "# Plot variable importance\n",
    "ggplot(importance_df, aes(x = reorder(Variable, Importance), y = Importance)) +\n",
    "  geom_bar(stat = \"identity\", fill = \"lightgreen\") +\n",
    "  coord_flip() +\n",
    "  theme_minimal() +\n",
    "  labs(title = \"Variable Importance from Random Forest\", x = \"Variables\", y = \"Importance\")\n",
    "\n",
    "# Save the model and important variables\n",
    "save(rf_model, file = \"rf_model.RData\")\n",
    "save(importance_values, file = \"rf_variable_importance.RData\")\n"
   ]
  },
  {
   "cell_type": "markdown",
   "id": "8a197acb",
   "metadata": {},
   "source": [
    "The bar chart titled \"Variable Importance from Random Forest\" shows the importance of different variables in predicting the outcome using a Random Forest model. The x-axis represents the importance score, while the y-axis lists the variables."
   ]
  },
  {
   "cell_type": "markdown",
   "id": "9aaf77d6",
   "metadata": {},
   "source": [
    "### Key Insights:\n",
    "#### Most Important Variables:\n",
    "- Procedure: This variable has the highest importance score, indicating it is the most critical predictor.\n",
    "- Condition: This is the second most important variable.\n",
    "- Age: This variable is also highly important.\n",
    "- Cost: Another significant predictor.\n",
    "\n",
    "#### Moderately Important Variables:\n",
    "\n",
    "- Gender\n",
    "- Satisfaction\n",
    "- Outcome\n",
    "- Admission_Type\n",
    "- Marital_Status\n",
    "- Actual_Job\n",
    "- Follow_Up_Care\n",
    "- Insurance\n",
    "\n",
    "#### Less Important Variables:\n",
    "\n",
    "- Readmission_Count_Last_Year\n",
    "- Chronic_Illness\n",
    "- Length_of_Stay\n",
    "- Follow_Up_After_Discharge\n",
    "- Sport_Practice\n",
    "- Education_Level\n",
    "- Substance_Abuse\n",
    "- Previous_Admissions\n",
    "- number_emergency\n",
    "- number_inpatient\n",
    "- Hospital_Type\n",
    "- umber_outpatient\n",
    "- Comorbidities"
   ]
  },
  {
   "cell_type": "markdown",
   "id": "af02e89c",
   "metadata": {},
   "source": [
    "## Using a Lasso model with cross-validation \n",
    "\n",
    "Lasso (Least Absolute Shrinkage and Selection Operator) Model with cross-validation offers several key advantages including variable selection and regularization. It can shrink the coefficients of less important variables to zero, effectively removing them from the model. This helps in identifying the most significant predictors and simplifies the model."
   ]
  },
  {
   "cell_type": "code",
   "execution_count": 24,
   "id": "918458b6",
   "metadata": {},
   "outputs": [],
   "source": [
    "# Install necessary packages if not already installed\n",
    "if (!require(glmnet)) {\n",
    "  install.packages(\"glmnet\")\n",
    "}\n",
    "if (!require(dplyr)) {\n",
    "  install.packages(\"dplyr\")\n",
    "}\n",
    "if (!require(readr)) {\n",
    "  install.packages(\"readr\")\n",
    "}\n",
    "\n",
    "# Load necessary libraries\n",
    "library(glmnet)\n",
    "library(dplyr)\n",
    "library(readr)"
   ]
  },
  {
   "cell_type": "code",
   "execution_count": null,
   "id": "e6dac7c7-8ba0-4739-a668-bcc77bcbad7f",
   "metadata": {},
   "outputs": [],
   "source": [
    "# Split the data into predictors and response variable\n",
    "X <- as.matrix(P_Data[, -which(names(P_Data) == \"Readmission\")])\n",
    "y <- P_Data$Readmission"
   ]
  },
  {
   "cell_type": "code",
   "execution_count": 25,
   "id": "d6f8da4b",
   "metadata": {},
   "outputs": [],
   "source": [
    "# Subset the data for analysis\n",
    "P_Data <- subset(Patient_Reamit, select = c(\"Age\", \"Gender\", \"Condition\", \"Procedure\", \"Cost\", \"Length_of_Stay\",\n",
    "                                           \"Hospital_Type\", \"Readmission\", \"Outcome\", \"Satisfaction\", \"number_outpatient\",\n",
    "                                           \"number_emergency\", \"number_inpatient\", \"Comorbidities\", \"Previous_Admissions\",\n",
    "                                           \"Follow_Up_Care\", \"Admission_Type\", \"Readmission_Count_Last_Year\", \"Chronic_Illness\", \n",
    "                                           \"Marital_Status\", \"Education_Level\", \"Substance_Abuse\", \"Sport_Practice\", \"Actual_Job\",\n",
    "                                           \"Follow_Up_After_Discharge\", \"Insurance\"))"
   ]
  },
  {
   "cell_type": "markdown",
   "id": "1d767d5a",
   "metadata": {},
   "source": [
    "\n"
   ]
  },
  {
   "cell_type": "code",
   "execution_count": 26,
   "id": "16addb5c",
   "metadata": {},
   "outputs": [
    {
     "name": "stdout",
     "output_type": "stream",
     "text": [
      "[1] \"Best lambda: 0.00718721492773896\"\n",
      "26 x 1 sparse Matrix of class \"dgCMatrix\"\n",
      "                                       s0\n",
      "(Intercept)                  9.990976e-01\n",
      "Age                          2.467618e-02\n",
      "Gender                      -1.363764e+00\n",
      "Condition                   -1.676760e-02\n",
      "Procedure                   -1.665721e-02\n",
      "Cost                         2.309271e-05\n",
      "Length_of_Stay               4.697212e-03\n",
      "Hospital_Type               -3.386915e-02\n",
      "Outcome                     -3.348651e-01\n",
      "Satisfaction                -3.204116e-01\n",
      "number_outpatient            .           \n",
      "number_emergency            -1.708771e-01\n",
      "number_inpatient            -8.904409e-02\n",
      "Comorbidities                .           \n",
      "Previous_Admissions          .           \n",
      "Follow_Up_Care               1.724199e-01\n",
      "Admission_Type               .           \n",
      "Readmission_Count_Last_Year  1.459483e-01\n",
      "Chronic_Illness              .           \n",
      "Marital_Status               2.592811e-01\n",
      "Education_Level             -1.248178e-01\n",
      "Substance_Abuse              4.762622e-02\n",
      "Sport_Practice               2.374531e-01\n",
      "Actual_Job                   .           \n",
      "Follow_Up_After_Discharge   -1.280529e-01\n",
      "Insurance                    .           \n",
      "      predicted_classes\n",
      "y_test   0   1\n",
      "     0 173  29\n",
      "     1  49  45\n",
      "[1] \"Accuracy: 73.65 %\"\n"
     ]
    },
    {
     "data": {
      "image/png": "[encoded data removed]",
      "text/plain": [
       "plot without title"
      ]
     },
     "metadata": {
      "image/png": {
       "height": 420,
       "width": 420
      }
     },
     "output_type": "display_data"
    }
   ],
   "source": [
    "# Convert categorical variables to factors and then to numeric\n",
    "P_Data$Gender <- as.numeric(as.factor(P_Data$Gender))\n",
    "P_Data$Condition <- as.numeric(as.factor(P_Data$Condition))\n",
    "P_Data$Procedure <- as.numeric(as.factor(P_Data$Procedure))\n",
    "P_Data$Hospital_Type <- as.numeric(as.factor(P_Data$Hospital_Type))\n",
    "P_Data$Readmission <- as.numeric(ifelse(P_Data$Readmission == \"Yes\", 1, 0)) # Ensure Readmission is binary\n",
    "P_Data$Outcome <- as.numeric(as.factor(P_Data$Outcome))\n",
    "P_Data$Follow_Up_Care <- as.numeric(as.factor(P_Data$Follow_Up_Care))\n",
    "P_Data$Admission_Type <- as.numeric(as.factor(P_Data$Admission_Type))\n",
    "P_Data$Chronic_Illness <- as.numeric(as.factor(P_Data$Chronic_Illness))\n",
    "P_Data$Marital_Status <- as.numeric(as.factor(P_Data$Marital_Status))\n",
    "P_Data$Education_Level <- as.numeric(as.factor(P_Data$Education_Level))\n",
    "P_Data$Substance_Abuse <- as.numeric(as.factor(P_Data$Substance_Abuse))\n",
    "P_Data$Sport_Practice <- as.numeric(as.factor(P_Data$Sport_Practice))\n",
    "P_Data$Actual_Job <- as.numeric(as.factor(P_Data$Actual_Job))\n",
    "P_Data$Follow_Up_After_Discharge <- as.numeric(as.factor(P_Data$Follow_Up_After_Discharge))\n",
    "P_Data$Insurance <- as.numeric(as.factor(P_Data$Insurance))\n",
    "\n",
    "# Split the data into predictors and response variable\n",
    "X <- as.matrix(P_Data[, -which(names(P_Data) == \"Readmission\")])\n",
    "y <- P_Data$Readmission\n",
    "\n",
    "# Set seed for reproducibility\n",
    "set.seed(42)\n",
    "\n",
    "# Perform Lasso regression with cross-validation\n",
    "cv_lasso <- cv.glmnet(X, y, alpha = 1, family = \"binomial\")\n",
    "\n",
    "# Print the best lambda value\n",
    "best_lambda <- cv_lasso$lambda.min\n",
    "print(paste(\"Best lambda:\", best_lambda))\n",
    "\n",
    "# Plot cross-validation results\n",
    "plot(cv_lasso)\n",
    "\n",
    "# Fit the Lasso model with the best lambda\n",
    "lasso_model <- glmnet(X, y, alpha = 1, family = \"binomial\", lambda = best_lambda)\n",
    "\n",
    "# Print the coefficients\n",
    "print(coef(lasso_model))\n",
    "\n",
    "# Evaluate the model\n",
    "# Split the data into training and testing sets\n",
    "train_index <- sample(seq_len(nrow(P_Data)), size = 0.7 * nrow(P_Data))\n",
    "train_data <- P_Data[train_index, ]\n",
    "test_data <- P_Data[-train_index, ]\n",
    "\n",
    "# Prepare the training and testing matrices\n",
    "X_train <- as.matrix(train_data[, -which(names(train_data) == \"Readmission\")])\n",
    "y_train <- train_data$Readmission\n",
    "X_test <- as.matrix(test_data[, -which(names(test_data) == \"Readmission\")])\n",
    "y_test <- test_data$Readmission\n",
    "\n",
    "# Predict on the test data\n",
    "predictions <- predict(lasso_model, newx = X_test, type = \"response\")\n",
    "predicted_classes <- ifelse(predictions > 0.5, 1, 0)\n",
    "\n",
    "# Confusion Matrix\n",
    "confusion_matrix <- table(y_test, predicted_classes)\n",
    "print(confusion_matrix)\n",
    "\n",
    "# Calculate accuracy\n",
    "accuracy <- sum(diag(confusion_matrix)) / sum(confusion_matrix)\n",
    "print(paste(\"Accuracy:\", round(accuracy * 100, 2), \"%\"))"
   ]
  },
  {
   "cell_type": "markdown",
   "id": "71937e4e",
   "metadata": {},
   "source": [
    "The best lambda value, found through cross-validation, is approximately 0.0072. This value controls the amount of regularization applied in the Lasso model. Lower values of lambda lead to less regularization, while higher values lead to more.\n",
    "\n",
    "- The coefficients represent the log-odds of the Readmission given a one-unit increase in the predictor, holding all other predictors constant.\n",
    "- Coefficients with a value of \".\" have been shrunk to zero by the Lasso regularization, indicating that these predictors are not contributing significantly to the model.\n",
    "- The intercept (approximately 0.9991) is the log-odds of the Readmission when all predictors are at their reference levels.\n",
    "- Positive coefficients (e.g., Age, Cost, Length_of_Stay) indicate that an increase in these variables increases the log-odds of readmission.\n",
    "- Negative coefficients (e.g., Gender, Outcome, Satisfaction) indicate that an increase in these variables decreases the log-odds of readmission.\n",
    "\n",
    "## Conclusion\n",
    "Based on the model Model Coefficients, \n",
    "- Significant predictors include Age, Gender, Condition, Procedure, Cost, Length_of_Stay, Hospital_Type, Outcome, Satisfaction, number_emergency, number_inpatient, Follow_Up_Care, Readmission_Count_Last_Year, Marital_Status, Education_Level, Substance_Abuse, Sport_Practice, Follow_Up_After_Discharge.\n",
    "\n",
    "- Predictors like number_outpatient, Comorbidities, Previous_Admissions, Admission_Type, Chronic_Illness, Actual_Job, and Insurance were deemed insignificant by the Lasso model."
   ]
  },
  {
   "cell_type": "markdown",
   "id": "c3797b64",
   "metadata": {},
   "source": [
    "<center><h1 style=\"color:blue; font-size:25px;\"> Conclusion on Assumption 1: Key Factors Influencing Patient Readmissions </h1></center>\n"
   ]
  },
  {
   "cell_type": "markdown",
   "id": "ddb852a7",
   "metadata": {},
   "source": [
    "The comprehensive analysis using chi-squared tests, t-tests, Lasso regression, and Random Forest models supports the assumption that certain key factors significantly influence the likelihood of patient readmissions. By identifying these factors, we can better understand the root causes of readmissions and implement targeted interventions to reduce their occurrence.\n",
    "### Identification of Significant Factors:\n",
    "#### 1. Chi-Squared Tests:\n",
    "Identified significant associations between readmission and categorical variables such as:\n",
    "- Gender\n",
    "- Condition\n",
    "- Procedure\n",
    "- Hospital Type\n",
    "- Outcome \n",
    "- Follow Up Care\n",
    "- Admission Type\n",
    "- Chronic Illness\n",
    "- Marital Status\n",
    "- Education Level\n",
    "- Substance Abuse\n",
    "- Sport Practice\n",
    "- Actual Job\n",
    "- Follow_Up_After_Discharge.\n",
    "\n",
    "#### 2. T-Tests:\n",
    "Found significant differences between patients who were readmitted and those who were not in continuous variables such as: \n",
    "- Age \n",
    "- Cost\n",
    "- Length of Stay\n",
    "- Satisfaction\n",
    "- Number outpatient\n",
    "- Number Emergency\n",
    "- Number inpatient\n",
    "- Comorbidities\n",
    "- Previous Admissions\n",
    "- Readmission Count Last Year\n",
    "#### 3. Model Insights\n",
    "##### a. Lasso Regression:\n",
    "Highlighted the most influential predictors by shrinking less important variables to zero.\n",
    "Significant predictors included Age: \n",
    "- Gender\n",
    "- Condition\n",
    "- Procedure\n",
    "- Cost\n",
    "- Length of Stay\n",
    "- Hospital Type\n",
    "- Outcome\n",
    "- Satisfaction\n",
    "- Number emergency\n",
    "- Number inpatient\n",
    "- Follow Up Care\n",
    "- Readmission Count Last Year\n",
    "- Marital Status\n",
    "- Education Level\n",
    "- Substance Abuse\n",
    "- Sport Practice\n",
    "- Follow Up After Discharge.\n",
    "##### a. Random Forest\n",
    "Provided variable importance measures that confirmed the importance of several variables identified by Lasso regression.\n",
    "Important variables included: \n",
    "- Age\n",
    "- Gender\n",
    "- Condition\n",
    "- Procedure\n",
    "- Cost\n",
    "- Length of Stay\n",
    "- Hospital Type\n",
    "- Outcome\n",
    "- Satisfaction\n",
    "- number emergency\n",
    "- Number inpatient\n",
    "- Follow Up Care\n",
    "- Readmission Count Last Year\n",
    "- Marital Status\n",
    "- Education Level\n",
    "- Substance Abuse\n",
    "- Sport Practice\n",
    "- Follow Up After Discharge.\n",
    "\n",
    "Based on the combined insights from chi-squared tests, t-tests, Lasso regression, and Random Forest models, the variables can be classified by their importance in contributing to readmission as follows:\n",
    "\n",
    "#### High Importance:\n",
    "- Age\n",
    "- Gender\n",
    "- Condition\n",
    "- Procedure\n",
    "- Cost\n",
    "- Length_of_Stay\n",
    "- Hospital_Type\n",
    "- Outcome\n",
    "- Satisfaction\n",
    "- Number_emergency\n",
    "- Number_inpatient\n",
    "- Follow Up Care\n",
    "- Readmission Count Last Year\n",
    "- Marital Status\n",
    "- Education Level\n",
    "- Substance Abuse\n",
    "- Sport Practice\n",
    "- Follow Up After Discharge\n",
    "\n",
    "#### Moderate Importance:\n",
    "- number_outpatient\n",
    "- Comorbidities\n",
    "- Previous_Admissions\n",
    "- Admission_Type\n",
    "- Chronic_Illness\n",
    "- Actual_Job\n",
    "- Insurance\n",
    "\n",
    "These findings provide a comprehensive understanding of the factors that contribute to patient readmissions, allowing for targeted interventions and policy development to improve patient outcomes and reduce readmission rates."
   ]
  },
  {
   "cell_type": "markdown",
   "id": "60a50070",
   "metadata": {},
   "source": [
    ">The second assumption is that a predictive model can categorize each patient as \"at-risk\" or \"not at risk\" by assigning a probability of readmission. Building on the insights gained from identifying key factors, we can develop a predictive model that utilizes these significant variables to estimate the likelihood of readmission for each patient. This model can help healthcare providers proactively manage patients at high risk of readmission by implementing personalized care plans and interventions."
   ]
  },
  {
   "cell_type": "markdown",
   "id": "7075b57b",
   "metadata": {},
   "source": [
    "## Building a Predictive Model: The Logistic Regression "
   ]
  },
  {
   "cell_type": "markdown",
   "id": "94c9c142",
   "metadata": {},
   "source": [
    "### 1. Data Preparation\n",
    "\n",
    "<p style=\"font-size:15px;\"> Ensure that the data is properly loaded and prepared.</p>"
   ]
  },
  {
   "cell_type": "code",
   "execution_count": 17,
   "id": "49e4bf59",
   "metadata": {},
   "outputs": [],
   "source": [
    "# Load necessary libraries\n",
    "library(dplyr)\n",
    "library(readr)\n",
    "library(ggplot2)\n",
    "library(pROC)\n",
    "library(broom)\n",
    "library(car)"
   ]
  },
  {
   "cell_type": "code",
   "execution_count": null,
   "id": "a1fe57f2",
   "metadata": {},
   "outputs": [],
   "source": []
  },
  {
   "cell_type": "code",
   "execution_count": 44,
   "id": "23c478d3",
   "metadata": {},
   "outputs": [
    {
     "data": {
      "text/html": [
       "<ol class=list-inline>\n",
       "\t<li>688</li>\n",
       "\t<li>24</li>\n",
       "</ol>\n"
      ],
      "text/latex": [
       "\\begin{enumerate*}\n",
       "\\item 688\n",
       "\\item 24\n",
       "\\end{enumerate*}\n"
      ],
      "text/markdown": [
       "1. 688\n",
       "2. 24\n",
       "\n",
       "\n"
      ],
      "text/plain": [
       "[1] 688  24"
      ]
     },
     "metadata": {},
     "output_type": "display_data"
    },
    {
     "data": {
      "text/html": [
       "<ol class=list-inline>\n",
       "\t<li>296</li>\n",
       "\t<li>24</li>\n",
       "</ol>\n"
      ],
      "text/latex": [
       "\\begin{enumerate*}\n",
       "\\item 296\n",
       "\\item 24\n",
       "\\end{enumerate*}\n"
      ],
      "text/markdown": [
       "1. 296\n",
       "2. 24\n",
       "\n",
       "\n"
      ],
      "text/plain": [
       "[1] 296  24"
      ]
     },
     "metadata": {},
     "output_type": "display_data"
    }
   ],
   "source": [
    "set.seed(1234)\n",
    "create_train_test <- function(P_Data, size = 0.7, train = TRUE) {\n",
    "  n_row = nrow(P_Data)\n",
    "  total_row = size * n_row\n",
    "  train_sample <- 1: total_row\n",
    "  if (train == TRUE) {\n",
    "    return (P_Data[train_sample, ])\n",
    "  } else {\n",
    "    return (P_Data[-train_sample, ])\n",
    "  }\n",
    "}\n",
    "data_train <- create_train_test(P_Data, 0.7, train = TRUE)\n",
    "data_test <- create_train_test(P_Data, 0.7, train = FALSE)\n",
    "\n",
    "dim(data_train)  #=== Dimension of the train data\n",
    "dim(data_test)   #=== dimension of the test data"
   ]
  },
  {
   "cell_type": "code",
   "execution_count": 46,
   "id": "887540d6",
   "metadata": {},
   "outputs": [],
   "source": [
    "MODEL = glm(Readmission ~ Age + Gender +Condition+Length_of_Stay + Hospital_Type+Outcome\n",
    "            + Satisfaction + number_emergency + number_inpatient + Comorbidities+ Previous_Admissions\n",
    "            + Follow_Up_Care + Admission_Type + Readmission_Count_Last_Year + Chronic_Illness\n",
    "            + Marital_Status + Education_Level + Substance_Abuse + Sport_Practice + Actual_Job\n",
    "            + Follow_Up_After_Discharge + Insurance, data=data_train, family=binomial(link='logit'))"
   ]
  },
  {
   "cell_type": "code",
   "execution_count": 47,
   "id": "395c4084",
   "metadata": {},
   "outputs": [
    {
     "data": {
      "text/plain": [
       "\n",
       "Call:\n",
       "glm(formula = Readmission ~ Age + Gender + Condition + Length_of_Stay + \n",
       "    Hospital_Type + Outcome + Satisfaction + number_emergency + \n",
       "    number_inpatient + Comorbidities + Previous_Admissions + \n",
       "    Follow_Up_Care + Admission_Type + Readmission_Count_Last_Year + \n",
       "    Chronic_Illness + Marital_Status + Education_Level + Substance_Abuse + \n",
       "    Sport_Practice + Actual_Job + Follow_Up_After_Discharge + \n",
       "    Insurance, family = binomial(link = \"logit\"), data = data_train)\n",
       "\n",
       "Deviance Residuals: \n",
       "    Min       1Q   Median       3Q      Max  \n",
       "-2.2128  -0.6320  -0.3781   0.6620   2.4055  \n",
       "\n",
       "Coefficients: (2 not defined because of singularities)\n",
       "                               Estimate Std. Error z value Pr(>|z|)    \n",
       "(Intercept)                    -6.53642    3.37563  -1.936 0.052824 .  \n",
       "Age                             0.05998    0.03183   1.884 0.059550 .  \n",
       "GenderMale                      0.20119    1.16036   0.173 0.862348    \n",
       "ConditionAppendicitis           2.91214    0.81294   3.582 0.000341 ***\n",
       "ConditionCancer                 2.09579    0.59434   3.526 0.000421 ***\n",
       "ConditionChildbirth             1.51956    0.88305   1.721 0.085284 .  \n",
       "ConditionDiabetes               0.18386    1.41937   0.130 0.896932    \n",
       "ConditionFractured Arm          2.54871    0.91632   2.781 0.005412 ** \n",
       "ConditionFractured Leg         -0.45316    1.09089  -0.415 0.677845    \n",
       "ConditionHeart Attack           3.63345    1.33555   2.721 0.006517 ** \n",
       "ConditionHeart Disease          3.84039    0.69376   5.536  3.1e-08 ***\n",
       "ConditionHypertension          -1.66416    1.57889  -1.054 0.291881    \n",
       "ConditionKidney Stones          0.72859    1.41691   0.514 0.607105    \n",
       "ConditionOsteoarthritis         0.21400    0.71307   0.300 0.764092    \n",
       "ConditionProstate Cancer       -0.27001    1.59216  -0.170 0.865334    \n",
       "ConditionRespiratory Infection       NA         NA      NA       NA    \n",
       "ConditionStroke                 1.73509    2.05135   0.846 0.397648    \n",
       "Length_of_Stay                  0.01478    0.01279   1.156 0.247744    \n",
       "Hospital_TypeSpecialty         -0.35355    0.27466  -1.287 0.198014    \n",
       "Hospital_TypeTeaching          -1.06168    0.33385  -3.180 0.001472 ** \n",
       "OutcomeStable                        NA         NA      NA       NA    \n",
       "Satisfaction                    0.73159    0.56676   1.291 0.196766    \n",
       "number_emergency               -1.35707    1.26403  -1.074 0.283000    \n",
       "number_inpatient               -0.03591    0.23094  -0.156 0.876425    \n",
       "Comorbidities                  -0.00987    0.04843  -0.204 0.838503    \n",
       "Previous_Admissions            -0.04731    0.07383  -0.641 0.521676    \n",
       "Follow_Up_CareYes               0.55545    0.44824   1.239 0.215280    \n",
       "Admission_TypeEmergency        -0.51970    0.31756  -1.637 0.101731    \n",
       "Admission_TypeUndefined        -0.75038    0.60019  -1.250 0.211214    \n",
       "Admission_TypeUrgent           -0.35731    0.38158  -0.936 0.349073    \n",
       "Readmission_Count_Last_Year     0.16897    0.14807   1.141 0.253803    \n",
       "Chronic_IllnessYes             -0.10881    0.42011  -0.259 0.795629    \n",
       "Marital_StatusMarried          -0.46674    0.50744  -0.920 0.357684    \n",
       "Marital_StatusSingle            0.77661    0.51860   1.498 0.134258    \n",
       "Education_LevelGraduate        -0.48185    0.54709  -0.881 0.378449    \n",
       "Education_LevelHigh school     -0.31124    0.48612  -0.640 0.522014    \n",
       "Substance_AbuseYes              0.11774    0.45911   0.256 0.797609    \n",
       "Sport_PracticeYes               0.09363    0.43067   0.217 0.827888    \n",
       "Actual_JobPart-time            -0.36686    0.62207  -0.590 0.555362    \n",
       "Actual_JobRetired              -0.03624    0.57337  -0.063 0.949599    \n",
       "Actual_JobUnemployed            0.17173    0.67322   0.255 0.798654    \n",
       "Follow_Up_After_DischargeYes   -0.40282    0.41764  -0.965 0.334782    \n",
       "InsurancePrivate                0.05302    0.54382   0.097 0.922332    \n",
       "InsurancePublic                -0.05051    0.55382  -0.091 0.927328    \n",
       "---\n",
       "Signif. codes:  0 '***' 0.001 '**' 0.01 '*' 0.05 '.' 0.1 ' ' 1\n",
       "\n",
       "(Dispersion parameter for binomial family taken to be 1)\n",
       "\n",
       "    Null deviance: 860.81  on 687  degrees of freedom\n",
       "Residual deviance: 613.31  on 646  degrees of freedom\n",
       "AIC: 697.31\n",
       "\n",
       "Number of Fisher Scoring iterations: 5\n"
      ]
     },
     "metadata": {},
     "output_type": "display_data"
    },
    {
     "name": "stdout",
     "output_type": "stream",
     "text": [
      "\n",
      "Call:  glm(formula = Readmission ~ Age + Gender + Condition + Length_of_Stay + \n",
      "    Hospital_Type + Outcome + Satisfaction + number_emergency + \n",
      "    number_inpatient + Comorbidities + Previous_Admissions + \n",
      "    Follow_Up_Care + Admission_Type + Readmission_Count_Last_Year + \n",
      "    Chronic_Illness + Marital_Status + Education_Level + Substance_Abuse + \n",
      "    Sport_Practice + Actual_Job + Follow_Up_After_Discharge + \n",
      "    Insurance, family = binomial(link = \"logit\"), data = data_train)\n",
      "\n",
      "Coefficients:\n",
      "                   (Intercept)                             Age  \n",
      "                      -6.53642                         0.05998  \n",
      "                    GenderMale           ConditionAppendicitis  \n",
      "                       0.20119                         2.91214  \n",
      "               ConditionCancer             ConditionChildbirth  \n",
      "                       2.09579                         1.51956  \n",
      "             ConditionDiabetes          ConditionFractured Arm  \n",
      "                       0.18386                         2.54871  \n",
      "        ConditionFractured Leg           ConditionHeart Attack  \n",
      "                      -0.45316                         3.63345  \n",
      "        ConditionHeart Disease           ConditionHypertension  \n",
      "                       3.84039                        -1.66416  \n",
      "        ConditionKidney Stones         ConditionOsteoarthritis  \n",
      "                       0.72859                         0.21400  \n",
      "      ConditionProstate Cancer  ConditionRespiratory Infection  \n",
      "                      -0.27001                              NA  \n",
      "               ConditionStroke                  Length_of_Stay  \n",
      "                       1.73509                         0.01478  \n",
      "        Hospital_TypeSpecialty           Hospital_TypeTeaching  \n",
      "                      -0.35355                        -1.06168  \n",
      "                 OutcomeStable                    Satisfaction  \n",
      "                            NA                         0.73159  \n",
      "              number_emergency                number_inpatient  \n",
      "                      -1.35707                        -0.03591  \n",
      "                 Comorbidities             Previous_Admissions  \n",
      "                      -0.00987                        -0.04731  \n",
      "             Follow_Up_CareYes         Admission_TypeEmergency  \n",
      "                       0.55545                        -0.51970  \n",
      "       Admission_TypeUndefined            Admission_TypeUrgent  \n",
      "                      -0.75038                        -0.35731  \n",
      "   Readmission_Count_Last_Year              Chronic_IllnessYes  \n",
      "                       0.16897                        -0.10881  \n",
      "         Marital_StatusMarried            Marital_StatusSingle  \n",
      "                      -0.46674                         0.77661  \n",
      "       Education_LevelGraduate      Education_LevelHigh school  \n",
      "                      -0.48185                        -0.31124  \n",
      "            Substance_AbuseYes               Sport_PracticeYes  \n",
      "                       0.11774                         0.09363  \n",
      "           Actual_JobPart-time               Actual_JobRetired  \n",
      "                      -0.36686                        -0.03624  \n",
      "          Actual_JobUnemployed    Follow_Up_After_DischargeYes  \n",
      "                       0.17173                        -0.40282  \n",
      "              InsurancePrivate                 InsurancePublic  \n",
      "                       0.05302                        -0.05051  \n",
      "\n",
      "Degrees of Freedom: 687 Total (i.e. Null);  646 Residual\n",
      "Null Deviance:\t    860.8 \n",
      "Residual Deviance: 613.3 \tAIC: 697.3\n"
     ]
    }
   ],
   "source": [
    "summary(MODEL )\n",
    "print(MODEL)\n"
   ]
  },
  {
   "cell_type": "code",
   "execution_count": 48,
   "id": "3347033c",
   "metadata": {},
   "outputs": [
    {
     "data": {
      "text/html": [
       "<dl class=dl-horizontal>\n",
       "\t<dt>(Intercept)</dt>\n",
       "\t\t<dd>0.00144966758143285</dd>\n",
       "\t<dt>Age</dt>\n",
       "\t\t<dd>1.06181174437372</dd>\n",
       "\t<dt>GenderMale</dt>\n",
       "\t\t<dd>1.22285799725685</dd>\n",
       "\t<dt>ConditionAppendicitis</dt>\n",
       "\t\t<dd>18.3960925373172</dd>\n",
       "\t<dt>ConditionCancer</dt>\n",
       "\t\t<dd>8.13188345285881</dd>\n",
       "\t<dt>ConditionChildbirth</dt>\n",
       "\t\t<dd>4.57021600198934</dd>\n",
       "\t<dt>ConditionDiabetes</dt>\n",
       "\t\t<dd>1.20185011499237</dd>\n",
       "\t<dt>ConditionFractured Arm</dt>\n",
       "\t\t<dd>12.7906022738756</dd>\n",
       "\t<dt>ConditionFractured Leg</dt>\n",
       "\t\t<dd>0.635614337438207</dd>\n",
       "\t<dt>ConditionHeart Attack</dt>\n",
       "\t\t<dd>37.8432764909429</dd>\n",
       "\t<dt>ConditionHeart Disease</dt>\n",
       "\t\t<dd>46.5435896474407</dd>\n",
       "\t<dt>ConditionHypertension</dt>\n",
       "\t\t<dd>0.189349599019601</dd>\n",
       "\t<dt>ConditionKidney Stones</dt>\n",
       "\t\t<dd>2.07215350456882</dd>\n",
       "\t<dt>ConditionOsteoarthritis</dt>\n",
       "\t\t<dd>1.2386232957307</dd>\n",
       "\t<dt>ConditionProstate Cancer</dt>\n",
       "\t\t<dd>0.763370478611801</dd>\n",
       "\t<dt>ConditionRespiratory Infection</dt>\n",
       "\t\t<dd>&lt;NA&gt;</dd>\n",
       "\t<dt>ConditionStroke</dt>\n",
       "\t\t<dd>5.66946332617254</dd>\n",
       "\t<dt>Length_of_Stay</dt>\n",
       "\t\t<dd>1.01488985543828</dd>\n",
       "\t<dt>Hospital_TypeSpecialty</dt>\n",
       "\t\t<dd>0.702188217071647</dd>\n",
       "\t<dt>Hospital_TypeTeaching</dt>\n",
       "\t\t<dd>0.345873310896793</dd>\n",
       "\t<dt>OutcomeStable</dt>\n",
       "\t\t<dd>&lt;NA&gt;</dd>\n",
       "\t<dt>Satisfaction</dt>\n",
       "\t\t<dd>2.07838239884165</dd>\n",
       "\t<dt>number_emergency</dt>\n",
       "\t\t<dd>0.257413916790019</dd>\n",
       "\t<dt>number_inpatient</dt>\n",
       "\t\t<dd>0.964725856619814</dd>\n",
       "\t<dt>Comorbidities</dt>\n",
       "\t\t<dd>0.990178808727499</dd>\n",
       "\t<dt>Previous_Admissions</dt>\n",
       "\t\t<dd>0.953793551628556</dd>\n",
       "\t<dt>Follow_Up_CareYes</dt>\n",
       "\t\t<dd>1.74273273410359</dd>\n",
       "\t<dt>Admission_TypeEmergency</dt>\n",
       "\t\t<dd>0.594701301958003</dd>\n",
       "\t<dt>Admission_TypeUndefined</dt>\n",
       "\t\t<dd>0.47218630457341</dd>\n",
       "\t<dt>Admission_TypeUrgent</dt>\n",
       "\t\t<dd>0.699555287961939</dd>\n",
       "\t<dt>Readmission_Count_Last_Year</dt>\n",
       "\t\t<dd>1.18408273955689</dd>\n",
       "\t<dt>Chronic_IllnessYes</dt>\n",
       "\t\t<dd>0.896900102541118</dd>\n",
       "\t<dt>Marital_StatusMarried</dt>\n",
       "\t\t<dd>0.627043586840889</dd>\n",
       "\t<dt>Marital_StatusSingle</dt>\n",
       "\t\t<dd>2.17408446993163</dd>\n",
       "\t<dt>Education_LevelGraduate</dt>\n",
       "\t\t<dd>0.617637325354521</dd>\n",
       "\t<dt>Education_LevelHigh school</dt>\n",
       "\t\t<dd>0.732539019800799</dd>\n",
       "\t<dt>Substance_AbuseYes</dt>\n",
       "\t\t<dd>1.12494753555918</dd>\n",
       "\t<dt>Sport_PracticeYes</dt>\n",
       "\t\t<dd>1.09815604237771</dd>\n",
       "\t<dt>Actual_JobPart-time</dt>\n",
       "\t\t<dd>0.692906231883622</dd>\n",
       "\t<dt>Actual_JobRetired</dt>\n",
       "\t\t<dd>0.964405499746986</dd>\n",
       "\t<dt>Actual_JobUnemployed</dt>\n",
       "\t\t<dd>1.18735865571026</dd>\n",
       "\t<dt>Follow_Up_After_DischargeYes</dt>\n",
       "\t\t<dd>0.668431540676131</dd>\n",
       "\t<dt>InsurancePrivate</dt>\n",
       "\t\t<dd>1.05445087014007</dd>\n",
       "\t<dt>InsurancePublic</dt>\n",
       "\t\t<dd>0.950742029946846</dd>\n",
       "</dl>\n"
      ],
      "text/latex": [
       "\\begin{description*}\n",
       "\\item[(Intercept)] 0.00144966758143285\n",
       "\\item[Age] 1.06181174437372\n",
       "\\item[GenderMale] 1.22285799725685\n",
       "\\item[ConditionAppendicitis] 18.3960925373172\n",
       "\\item[ConditionCancer] 8.13188345285881\n",
       "\\item[ConditionChildbirth] 4.57021600198934\n",
       "\\item[ConditionDiabetes] 1.20185011499237\n",
       "\\item[ConditionFractured Arm] 12.7906022738756\n",
       "\\item[ConditionFractured Leg] 0.635614337438207\n",
       "\\item[ConditionHeart Attack] 37.8432764909429\n",
       "\\item[ConditionHeart Disease] 46.5435896474407\n",
       "\\item[ConditionHypertension] 0.189349599019601\n",
       "\\item[ConditionKidney Stones] 2.07215350456882\n",
       "\\item[ConditionOsteoarthritis] 1.2386232957307\n",
       "\\item[ConditionProstate Cancer] 0.763370478611801\n",
       "\\item[ConditionRespiratory Infection] <NA>\n",
       "\\item[ConditionStroke] 5.66946332617254\n",
       "\\item[Length\\textbackslash{}\\_of\\textbackslash{}\\_Stay] 1.01488985543828\n",
       "\\item[Hospital\\textbackslash{}\\_TypeSpecialty] 0.702188217071647\n",
       "\\item[Hospital\\textbackslash{}\\_TypeTeaching] 0.345873310896793\n",
       "\\item[OutcomeStable] <NA>\n",
       "\\item[Satisfaction] 2.07838239884165\n",
       "\\item[number\\textbackslash{}\\_emergency] 0.257413916790019\n",
       "\\item[number\\textbackslash{}\\_inpatient] 0.964725856619814\n",
       "\\item[Comorbidities] 0.990178808727499\n",
       "\\item[Previous\\textbackslash{}\\_Admissions] 0.953793551628556\n",
       "\\item[Follow\\textbackslash{}\\_Up\\textbackslash{}\\_CareYes] 1.74273273410359\n",
       "\\item[Admission\\textbackslash{}\\_TypeEmergency] 0.594701301958003\n",
       "\\item[Admission\\textbackslash{}\\_TypeUndefined] 0.47218630457341\n",
       "\\item[Admission\\textbackslash{}\\_TypeUrgent] 0.699555287961939\n",
       "\\item[Readmission\\textbackslash{}\\_Count\\textbackslash{}\\_Last\\textbackslash{}\\_Year] 1.18408273955689\n",
       "\\item[Chronic\\textbackslash{}\\_IllnessYes] 0.896900102541118\n",
       "\\item[Marital\\textbackslash{}\\_StatusMarried] 0.627043586840889\n",
       "\\item[Marital\\textbackslash{}\\_StatusSingle] 2.17408446993163\n",
       "\\item[Education\\textbackslash{}\\_LevelGraduate] 0.617637325354521\n",
       "\\item[Education\\textbackslash{}\\_LevelHigh school] 0.732539019800799\n",
       "\\item[Substance\\textbackslash{}\\_AbuseYes] 1.12494753555918\n",
       "\\item[Sport\\textbackslash{}\\_PracticeYes] 1.09815604237771\n",
       "\\item[Actual\\textbackslash{}\\_JobPart-time] 0.692906231883622\n",
       "\\item[Actual\\textbackslash{}\\_JobRetired] 0.964405499746986\n",
       "\\item[Actual\\textbackslash{}\\_JobUnemployed] 1.18735865571026\n",
       "\\item[Follow\\textbackslash{}\\_Up\\textbackslash{}\\_After\\textbackslash{}\\_DischargeYes] 0.668431540676131\n",
       "\\item[InsurancePrivate] 1.05445087014007\n",
       "\\item[InsurancePublic] 0.950742029946846\n",
       "\\end{description*}\n"
      ],
      "text/markdown": [
       "(Intercept)\n",
       ":   0.00144966758143285Age\n",
       ":   1.06181174437372GenderMale\n",
       ":   1.22285799725685ConditionAppendicitis\n",
       ":   18.3960925373172ConditionCancer\n",
       ":   8.13188345285881ConditionChildbirth\n",
       ":   4.57021600198934ConditionDiabetes\n",
       ":   1.20185011499237ConditionFractured Arm\n",
       ":   12.7906022738756ConditionFractured Leg\n",
       ":   0.635614337438207ConditionHeart Attack\n",
       ":   37.8432764909429ConditionHeart Disease\n",
       ":   46.5435896474407ConditionHypertension\n",
       ":   0.189349599019601ConditionKidney Stones\n",
       ":   2.07215350456882ConditionOsteoarthritis\n",
       ":   1.2386232957307ConditionProstate Cancer\n",
       ":   0.763370478611801ConditionRespiratory Infection\n",
       ":   &lt;NA&gt;ConditionStroke\n",
       ":   5.66946332617254Length_of_Stay\n",
       ":   1.01488985543828Hospital_TypeSpecialty\n",
       ":   0.702188217071647Hospital_TypeTeaching\n",
       ":   0.345873310896793OutcomeStable\n",
       ":   &lt;NA&gt;Satisfaction\n",
       ":   2.07838239884165number_emergency\n",
       ":   0.257413916790019number_inpatient\n",
       ":   0.964725856619814Comorbidities\n",
       ":   0.990178808727499Previous_Admissions\n",
       ":   0.953793551628556Follow_Up_CareYes\n",
       ":   1.74273273410359Admission_TypeEmergency\n",
       ":   0.594701301958003Admission_TypeUndefined\n",
       ":   0.47218630457341Admission_TypeUrgent\n",
       ":   0.699555287961939Readmission_Count_Last_Year\n",
       ":   1.18408273955689Chronic_IllnessYes\n",
       ":   0.896900102541118Marital_StatusMarried\n",
       ":   0.627043586840889Marital_StatusSingle\n",
       ":   2.17408446993163Education_LevelGraduate\n",
       ":   0.617637325354521Education_LevelHigh school\n",
       ":   0.732539019800799Substance_AbuseYes\n",
       ":   1.12494753555918Sport_PracticeYes\n",
       ":   1.09815604237771Actual_JobPart-time\n",
       ":   0.692906231883622Actual_JobRetired\n",
       ":   0.964405499746986Actual_JobUnemployed\n",
       ":   1.18735865571026Follow_Up_After_DischargeYes\n",
       ":   0.668431540676131InsurancePrivate\n",
       ":   1.05445087014007InsurancePublic\n",
       ":   0.950742029946846\n",
       "\n"
      ],
      "text/plain": [
       "                   (Intercept)                            Age \n",
       "                   0.001449668                    1.061811744 \n",
       "                    GenderMale          ConditionAppendicitis \n",
       "                   1.222857997                   18.396092537 \n",
       "               ConditionCancer            ConditionChildbirth \n",
       "                   8.131883453                    4.570216002 \n",
       "             ConditionDiabetes         ConditionFractured Arm \n",
       "                   1.201850115                   12.790602274 \n",
       "        ConditionFractured Leg          ConditionHeart Attack \n",
       "                   0.635614337                   37.843276491 \n",
       "        ConditionHeart Disease          ConditionHypertension \n",
       "                  46.543589647                    0.189349599 \n",
       "        ConditionKidney Stones        ConditionOsteoarthritis \n",
       "                   2.072153505                    1.238623296 \n",
       "      ConditionProstate Cancer ConditionRespiratory Infection \n",
       "                   0.763370479                             NA \n",
       "               ConditionStroke                 Length_of_Stay \n",
       "                   5.669463326                    1.014889855 \n",
       "        Hospital_TypeSpecialty          Hospital_TypeTeaching \n",
       "                   0.702188217                    0.345873311 \n",
       "                 OutcomeStable                   Satisfaction \n",
       "                            NA                    2.078382399 \n",
       "              number_emergency               number_inpatient \n",
       "                   0.257413917                    0.964725857 \n",
       "                 Comorbidities            Previous_Admissions \n",
       "                   0.990178809                    0.953793552 \n",
       "             Follow_Up_CareYes        Admission_TypeEmergency \n",
       "                   1.742732734                    0.594701302 \n",
       "       Admission_TypeUndefined           Admission_TypeUrgent \n",
       "                   0.472186305                    0.699555288 \n",
       "   Readmission_Count_Last_Year             Chronic_IllnessYes \n",
       "                   1.184082740                    0.896900103 \n",
       "         Marital_StatusMarried           Marital_StatusSingle \n",
       "                   0.627043587                    2.174084470 \n",
       "       Education_LevelGraduate     Education_LevelHigh school \n",
       "                   0.617637325                    0.732539020 \n",
       "            Substance_AbuseYes              Sport_PracticeYes \n",
       "                   1.124947536                    1.098156042 \n",
       "           Actual_JobPart-time              Actual_JobRetired \n",
       "                   0.692906232                    0.964405500 \n",
       "          Actual_JobUnemployed   Follow_Up_After_DischargeYes \n",
       "                   1.187358656                    0.668431541 \n",
       "              InsurancePrivate                InsurancePublic \n",
       "                   1.054450870                    0.950742030 "
      ]
     },
     "metadata": {},
     "output_type": "display_data"
    }
   ],
   "source": [
    "exp(coef(MODEL))"
   ]
  },
  {
   "cell_type": "code",
   "execution_count": 49,
   "id": "bfeb247a",
   "metadata": {},
   "outputs": [
    {
     "data": {
      "text/html": [
       "<dl class=dl-horizontal>\n",
       "\t<dt>1</dt>\n",
       "\t\t<dd>0.962789270780246</dd>\n",
       "\t<dt>2</dt>\n",
       "\t\t<dd>0.320081557392981</dd>\n",
       "\t<dt>3</dt>\n",
       "\t\t<dd>0.615651943637071</dd>\n",
       "\t<dt>4</dt>\n",
       "\t\t<dd>0.597787833186189</dd>\n",
       "\t<dt>5</dt>\n",
       "\t\t<dd>0.943771894836086</dd>\n",
       "\t<dt>6</dt>\n",
       "\t\t<dd>0.18862295840364</dd>\n",
       "\t<dt>7</dt>\n",
       "\t\t<dd>0.607333379582126</dd>\n",
       "\t<dt>8</dt>\n",
       "\t\t<dd>0.118886109717229</dd>\n",
       "\t<dt>9</dt>\n",
       "\t\t<dd>0.952645250006773</dd>\n",
       "\t<dt>10</dt>\n",
       "\t\t<dd>0.0713291403946443</dd>\n",
       "\t<dt>11</dt>\n",
       "\t\t<dd>0.309326044255493</dd>\n",
       "\t<dt>12</dt>\n",
       "\t\t<dd>0.538304436358348</dd>\n",
       "\t<dt>13</dt>\n",
       "\t\t<dd>0.209721381470505</dd>\n",
       "\t<dt>14</dt>\n",
       "\t\t<dd>0.202744273568368</dd>\n",
       "\t<dt>15</dt>\n",
       "\t\t<dd>0.271495483911107</dd>\n",
       "\t<dt>16</dt>\n",
       "\t\t<dd>0.877243902737389</dd>\n",
       "\t<dt>17</dt>\n",
       "\t\t<dd>0.437910416655737</dd>\n",
       "\t<dt>18</dt>\n",
       "\t\t<dd>0.722106062197342</dd>\n",
       "\t<dt>19</dt>\n",
       "\t\t<dd>0.557161312866296</dd>\n",
       "\t<dt>20</dt>\n",
       "\t\t<dd>0.652047610988441</dd>\n",
       "\t<dt>21</dt>\n",
       "\t\t<dd>0.548941340419833</dd>\n",
       "\t<dt>22</dt>\n",
       "\t\t<dd>0.840883134472563</dd>\n",
       "\t<dt>23</dt>\n",
       "\t\t<dd>0.235003957904638</dd>\n",
       "\t<dt>24</dt>\n",
       "\t\t<dd>0.980192026032428</dd>\n",
       "\t<dt>25</dt>\n",
       "\t\t<dd>0.0861971018027322</dd>\n",
       "\t<dt>26</dt>\n",
       "\t\t<dd>0.265770981112138</dd>\n",
       "\t<dt>27</dt>\n",
       "\t\t<dd>0.453093124987966</dd>\n",
       "\t<dt>28</dt>\n",
       "\t\t<dd>0.197590686580439</dd>\n",
       "\t<dt>29</dt>\n",
       "\t\t<dd>0.373099517156963</dd>\n",
       "\t<dt>30</dt>\n",
       "\t\t<dd>0.671529091535306</dd>\n",
       "\t<dt>31</dt>\n",
       "\t\t<dd>0.924591393672276</dd>\n",
       "\t<dt>32</dt>\n",
       "\t\t<dd>0.550435658738825</dd>\n",
       "\t<dt>33</dt>\n",
       "\t\t<dd>0.405028766796621</dd>\n",
       "\t<dt>34</dt>\n",
       "\t\t<dd>0.527904301850358</dd>\n",
       "\t<dt>35</dt>\n",
       "\t\t<dd>0.62101631068288</dd>\n",
       "\t<dt>36</dt>\n",
       "\t\t<dd>0.0717100319099977</dd>\n",
       "\t<dt>37</dt>\n",
       "\t\t<dd>0.366323704658901</dd>\n",
       "\t<dt>38</dt>\n",
       "\t\t<dd>0.136613808167396</dd>\n",
       "\t<dt>39</dt>\n",
       "\t\t<dd>0.957530534836922</dd>\n",
       "\t<dt>40</dt>\n",
       "\t\t<dd>0.126077257396096</dd>\n",
       "\t<dt>41</dt>\n",
       "\t\t<dd>0.135766262677965</dd>\n",
       "\t<dt>42</dt>\n",
       "\t\t<dd>0.119393854679634</dd>\n",
       "\t<dt>43</dt>\n",
       "\t\t<dd>0.306330747641802</dd>\n",
       "\t<dt>44</dt>\n",
       "\t\t<dd>0.275339304091178</dd>\n",
       "\t<dt>45</dt>\n",
       "\t\t<dd>0.237385779666597</dd>\n",
       "\t<dt>46</dt>\n",
       "\t\t<dd>0.955645616417643</dd>\n",
       "\t<dt>47</dt>\n",
       "\t\t<dd>0.387707113877765</dd>\n",
       "\t<dt>48</dt>\n",
       "\t\t<dd>0.637690679649561</dd>\n",
       "\t<dt>49</dt>\n",
       "\t\t<dd>0.734753490079349</dd>\n",
       "\t<dt>50</dt>\n",
       "\t\t<dd>0.662612368355363</dd>\n",
       "</dl>\n"
      ],
      "text/latex": [
       "\\begin{description*}\n",
       "\\item[1] 0.962789270780246\n",
       "\\item[2] 0.320081557392981\n",
       "\\item[3] 0.615651943637071\n",
       "\\item[4] 0.597787833186189\n",
       "\\item[5] 0.943771894836086\n",
       "\\item[6] 0.18862295840364\n",
       "\\item[7] 0.607333379582126\n",
       "\\item[8] 0.118886109717229\n",
       "\\item[9] 0.952645250006773\n",
       "\\item[10] 0.0713291403946443\n",
       "\\item[11] 0.309326044255493\n",
       "\\item[12] 0.538304436358348\n",
       "\\item[13] 0.209721381470505\n",
       "\\item[14] 0.202744273568368\n",
       "\\item[15] 0.271495483911107\n",
       "\\item[16] 0.877243902737389\n",
       "\\item[17] 0.437910416655737\n",
       "\\item[18] 0.722106062197342\n",
       "\\item[19] 0.557161312866296\n",
       "\\item[20] 0.652047610988441\n",
       "\\item[21] 0.548941340419833\n",
       "\\item[22] 0.840883134472563\n",
       "\\item[23] 0.235003957904638\n",
       "\\item[24] 0.980192026032428\n",
       "\\item[25] 0.0861971018027322\n",
       "\\item[26] 0.265770981112138\n",
       "\\item[27] 0.453093124987966\n",
       "\\item[28] 0.197590686580439\n",
       "\\item[29] 0.373099517156963\n",
       "\\item[30] 0.671529091535306\n",
       "\\item[31] 0.924591393672276\n",
       "\\item[32] 0.550435658738825\n",
       "\\item[33] 0.405028766796621\n",
       "\\item[34] 0.527904301850358\n",
       "\\item[35] 0.62101631068288\n",
       "\\item[36] 0.0717100319099977\n",
       "\\item[37] 0.366323704658901\n",
       "\\item[38] 0.136613808167396\n",
       "\\item[39] 0.957530534836922\n",
       "\\item[40] 0.126077257396096\n",
       "\\item[41] 0.135766262677965\n",
       "\\item[42] 0.119393854679634\n",
       "\\item[43] 0.306330747641802\n",
       "\\item[44] 0.275339304091178\n",
       "\\item[45] 0.237385779666597\n",
       "\\item[46] 0.955645616417643\n",
       "\\item[47] 0.387707113877765\n",
       "\\item[48] 0.637690679649561\n",
       "\\item[49] 0.734753490079349\n",
       "\\item[50] 0.662612368355363\n",
       "\\end{description*}\n"
      ],
      "text/markdown": [
       "1\n",
       ":   0.9627892707802462\n",
       ":   0.3200815573929813\n",
       ":   0.6156519436370714\n",
       ":   0.5977878331861895\n",
       ":   0.9437718948360866\n",
       ":   0.188622958403647\n",
       ":   0.6073333795821268\n",
       ":   0.1188861097172299\n",
       ":   0.95264525000677310\n",
       ":   0.071329140394644311\n",
       ":   0.30932604425549312\n",
       ":   0.53830443635834813\n",
       ":   0.20972138147050514\n",
       ":   0.20274427356836815\n",
       ":   0.27149548391110716\n",
       ":   0.87724390273738917\n",
       ":   0.43791041665573718\n",
       ":   0.72210606219734219\n",
       ":   0.55716131286629620\n",
       ":   0.65204761098844121\n",
       ":   0.54894134041983322\n",
       ":   0.84088313447256323\n",
       ":   0.23500395790463824\n",
       ":   0.98019202603242825\n",
       ":   0.086197101802732226\n",
       ":   0.26577098111213827\n",
       ":   0.45309312498796628\n",
       ":   0.19759068658043929\n",
       ":   0.37309951715696330\n",
       ":   0.67152909153530631\n",
       ":   0.92459139367227632\n",
       ":   0.55043565873882533\n",
       ":   0.40502876679662134\n",
       ":   0.52790430185035835\n",
       ":   0.6210163106828836\n",
       ":   0.071710031909997737\n",
       ":   0.36632370465890138\n",
       ":   0.13661380816739639\n",
       ":   0.95753053483692240\n",
       ":   0.12607725739609641\n",
       ":   0.13576626267796542\n",
       ":   0.11939385467963443\n",
       ":   0.30633074764180244\n",
       ":   0.27533930409117845\n",
       ":   0.23738577966659746\n",
       ":   0.95564561641764347\n",
       ":   0.38770711387776548\n",
       ":   0.63769067964956149\n",
       ":   0.73475349007934950\n",
       ":   0.662612368355363\n",
       "\n"
      ],
      "text/plain": [
       "         1          2          3          4          5          6          7 \n",
       "0.96278927 0.32008156 0.61565194 0.59778783 0.94377189 0.18862296 0.60733338 \n",
       "         8          9         10         11         12         13         14 \n",
       "0.11888611 0.95264525 0.07132914 0.30932604 0.53830444 0.20972138 0.20274427 \n",
       "        15         16         17         18         19         20         21 \n",
       "0.27149548 0.87724390 0.43791042 0.72210606 0.55716131 0.65204761 0.54894134 \n",
       "        22         23         24         25         26         27         28 \n",
       "0.84088313 0.23500396 0.98019203 0.08619710 0.26577098 0.45309312 0.19759069 \n",
       "        29         30         31         32         33         34         35 \n",
       "0.37309952 0.67152909 0.92459139 0.55043566 0.40502877 0.52790430 0.62101631 \n",
       "        36         37         38         39         40         41         42 \n",
       "0.07171003 0.36632370 0.13661381 0.95753053 0.12607726 0.13576626 0.11939385 \n",
       "        43         44         45         46         47         48         49 \n",
       "0.30633075 0.27533930 0.23738578 0.95564562 0.38770711 0.63769068 0.73475349 \n",
       "        50 \n",
       "0.66261237 "
      ]
     },
     "metadata": {},
     "output_type": "display_data"
    }
   ],
   "source": [
    "MODEL$fitted.values[1:50] "
   ]
  },
  {
   "cell_type": "code",
   "execution_count": null,
   "id": "9a407abf-22aa-42cc-8b67-89791e525cc3",
   "metadata": {},
   "outputs": [],
   "source": [
    "predict <- predict(MODEL, data_test, type = 'response')"
   ]
  },
  {
   "cell_type": "code",
   "execution_count": 51,
   "id": "d0d554e9",
   "metadata": {},
   "outputs": [
    {
     "data": {
      "text/html": [
       "<dl>\n",
       "\t<dt>$coefficients</dt>\n",
       "\t\t<dd>'numeric'</dd>\n",
       "\t<dt>$residuals</dt>\n",
       "\t\t<dd>'numeric'</dd>\n",
       "\t<dt>$fitted.values</dt>\n",
       "\t\t<dd>'numeric'</dd>\n",
       "</dl>\n"
      ],
      "text/latex": [
       "\\begin{description}\n",
       "\\item[\\$coefficients] 'numeric'\n",
       "\\item[\\$residuals] 'numeric'\n",
       "\\item[\\$fitted.values] 'numeric'\n",
       "\\end{description}\n"
      ],
      "text/markdown": [
       "$coefficients\n",
       ":   'numeric'\n",
       "$residuals\n",
       ":   'numeric'\n",
       "$fitted.values\n",
       ":   'numeric'\n",
       "\n",
       "\n"
      ],
      "text/plain": [
       "$coefficients\n",
       "[1] \"numeric\"\n",
       "\n",
       "$residuals\n",
       "[1] \"numeric\"\n",
       "\n",
       "$fitted.values\n",
       "[1] \"numeric\"\n"
      ]
     },
     "metadata": {},
     "output_type": "display_data"
    },
    {
     "data": {
      "text/html": [
       "697.310966490505"
      ],
      "text/latex": [
       "697.310966490505"
      ],
      "text/markdown": [
       "697.310966490505"
      ],
      "text/plain": [
       "[1] 697.311"
      ]
     },
     "metadata": {},
     "output_type": "display_data"
    }
   ],
   "source": [
    "lapply(MODEL, class)[1:3]\n",
    "MODEL$aic"
   ]
  },
  {
   "cell_type": "code",
   "execution_count": 53,
   "id": "875182c6",
   "metadata": {},
   "outputs": [
    {
     "data": {
      "text/plain": [
       "   \n",
       "    FALSE TRUE\n",
       "  0   153   32\n",
       "  1    51   60"
      ]
     },
     "metadata": {},
     "output_type": "display_data"
    }
   ],
   "source": [
    "table_mat <- table(data_test$Readmission, predict > 0.5)\n",
    "table_mat"
   ]
  },
  {
   "cell_type": "code",
   "execution_count": 54,
   "id": "9ca28748",
   "metadata": {},
   "outputs": [],
   "source": [
    "accuracy_Test <- sum(diag(table_mat)) / sum(table_mat)"
   ]
  },
  {
   "cell_type": "code",
   "execution_count": 55,
   "id": "c54261ea",
   "metadata": {},
   "outputs": [
    {
     "data": {
      "text/html": [
       "0.719594594594595"
      ],
      "text/latex": [
       "0.719594594594595"
      ],
      "text/markdown": [
       "0.719594594594595"
      ],
      "text/plain": [
       "[1] 0.7195946"
      ]
     },
     "metadata": {},
     "output_type": "display_data"
    }
   ],
   "source": [
    "accuracy_Test \n"
   ]
  },
  {
   "cell_type": "code",
   "execution_count": 56,
   "id": "e8f0f5be",
   "metadata": {},
   "outputs": [
    {
     "data": {
      "text/html": [
       "0.652173913043478"
      ],
      "text/latex": [
       "0.652173913043478"
      ],
      "text/markdown": [
       "0.652173913043478"
      ],
      "text/plain": [
       "[1] 0.6521739"
      ]
     },
     "metadata": {},
     "output_type": "display_data"
    },
    {
     "data": {
      "text/html": [
       "0.540540540540541"
      ],
      "text/latex": [
       "0.540540540540541"
      ],
      "text/markdown": [
       "0.540540540540541"
      ],
      "text/plain": [
       "[1] 0.5405405"
      ]
     },
     "metadata": {},
     "output_type": "display_data"
    },
    {
     "data": {
      "text/html": [
       "0.591133004926108"
      ],
      "text/latex": [
       "0.591133004926108"
      ],
      "text/markdown": [
       "0.591133004926108"
      ],
      "text/plain": [
       "[1] 0.591133"
      ]
     },
     "metadata": {},
     "output_type": "display_data"
    }
   ],
   "source": [
    "precision <- function(matrix) {\n",
    "#-----------------------------True Positive -------------\n",
    "  tp <- matrix[2, 2]\n",
    "#--------------------------- False Positive\n",
    "  fp <- matrix[1, 2]\n",
    "  return (tp / (tp + fp))\n",
    "}\n",
    "recall <- function(matrix) {\n",
    "#------------------------------- True Positive\n",
    "  tp <- matrix[2, 2] #-----------False Positive\n",
    "  fn <- matrix[2, 1]\n",
    "  return (tp / (tp + fn))\n",
    "}\n",
    "#-----------------------------Test the fuction\n",
    "prec <- precision(table_mat)\n",
    "prec\n",
    "rec <- recall(table_mat)\n",
    "rec\n",
    "#===============================oo=======================================\n",
    "\n",
    "# ----------The F1 score based on those two metric (Precision and Recall)\n",
    "F1 <- 2 * ((prec * rec) / (prec + rec))\n",
    "F1     #----------------------------------------The F1 score is 94%\n",
    "\n"
   ]
  },
  {
   "cell_type": "code",
   "execution_count": 57,
   "id": "418bc2a7",
   "metadata": {},
   "outputs": [
    {
     "name": "stderr",
     "output_type": "stream",
     "text": [
      "Warning message:\n",
      "\"package 'ROCR' was built under R version 3.6.3\"\n"
     ]
    }
   ],
   "source": [
    "library(ROCR)"
   ]
  },
  {
   "cell_type": "code",
   "execution_count": 58,
   "id": "ca693fb7",
   "metadata": {},
   "outputs": [
    {
     "data": {
      "image/png": "[encoded data removed]",
      "text/plain": [
       "plot without title"
      ]
     },
     "metadata": {
      "image/png": {
       "height": 420,
       "width": 420
      }
     },
     "output_type": "display_data"
    }
   ],
   "source": [
    "ROCRpred <- prediction(predict, data_test$Readmission)\n",
    "ROCRperf <- performance(ROCRpred, 'tpr', 'fpr')\n",
    "plot(ROCRperf, colorize = TRUE, text.adj = c(-0.2, 1.7))"
   ]
  },
  {
   "cell_type": "code",
   "execution_count": null,
   "id": "eb78b2ea-5e43-4ef7-bb20-92a78fb17650",
   "metadata": {},
   "outputs": [],
   "source": [
    "data_test$Readmission <- predict(MODEL, newdata = data_test, type = \"response\")   #========== Test data Predict\n",
    "View(data_test)"
   ]
  },
  {
   "cell_type": "code",
   "execution_count": 62,
   "id": "151fac41",
   "metadata": {},
   "outputs": [
    {
     "name": "stderr",
     "output_type": "stream",
     "text": [
      "Warning message in predict.lm(object, newdata, se.fit, scale = 1, type = if (type == :\n",
      "\"prediction from a rank-deficient fit may be misleading\"\n"
     ]
    },
    {
     "data": {
      "text/html": [
       "<table>\n",
       "<thead><tr><th scope=col>Age</th><th scope=col>Gender</th><th scope=col>Condition</th><th scope=col>Length_of_Stay</th><th scope=col>Hospital_Type</th><th scope=col>Readmission</th><th scope=col>Outcome</th><th scope=col>Satisfaction</th><th scope=col>number_outpatient</th><th scope=col>number_emergency</th><th scope=col>...</th><th scope=col>Admission_Type</th><th scope=col>Readmission_Count_Last_Year</th><th scope=col>Chronic_Illness</th><th scope=col>Marital_Status</th><th scope=col>Education_Level</th><th scope=col>Substance_Abuse</th><th scope=col>Sport_Practice</th><th scope=col>Actual_Job</th><th scope=col>Follow_Up_After_Discharge</th><th scope=col>Insurance</th></tr></thead>\n",
       "<tbody>\n",
       "\t<tr><td>45                   </td><td>Female               </td><td>Heart Disease        </td><td> 5                   </td><td>General              </td><td>0.96278927           </td><td>Recovered            </td><td>4                    </td><td>0                    </td><td>0                    </td><td>...                  </td><td>Elective             </td><td>4                    </td><td>No                   </td><td>Married              </td><td>High school          </td><td>No                   </td><td>Yes                  </td><td>Full-time            </td><td>No                   </td><td>Public               </td></tr>\n",
       "\t<tr><td>60                   </td><td>Male                 </td><td>Diabetes             </td><td> 3                   </td><td>General              </td><td>0.32008156           </td><td>Stable               </td><td>3                    </td><td>0                    </td><td>0                    </td><td>...                  </td><td>Elective             </td><td>0                    </td><td>No                   </td><td>Divorced             </td><td>Graduate             </td><td>No                   </td><td>Yes                  </td><td>Unemployed           </td><td>Yes                  </td><td>Public               </td></tr>\n",
       "\t<tr><td>32                   </td><td>Female               </td><td>Fractured Arm        </td><td> 1                   </td><td>Teaching             </td><td>0.61565194           </td><td>Recovered            </td><td>5                    </td><td>2                    </td><td>0                    </td><td>...                  </td><td>Elective             </td><td>1                    </td><td>No                   </td><td>Single               </td><td>Graduate             </td><td>No                   </td><td>Yes                  </td><td>Retired              </td><td>Yes                  </td><td>None                 </td></tr>\n",
       "\t<tr><td>75                   </td><td>Male                 </td><td>Stroke               </td><td> 7                   </td><td>Teaching             </td><td>0.59778783           </td><td>Stable               </td><td>2                    </td><td>0                    </td><td>0                    </td><td>...                  </td><td>Elective             </td><td>4                    </td><td>No                   </td><td>Divorced             </td><td>Graduate             </td><td>No                   </td><td>Yes                  </td><td>Unemployed           </td><td>Yes                  </td><td>Private              </td></tr>\n",
       "\t<tr><td>50                   </td><td>Female               </td><td>Cancer               </td><td>10                   </td><td>General              </td><td>0.94377189           </td><td>Recovered            </td><td>4                    </td><td>0                    </td><td>0                    </td><td>...                  </td><td>Urgent               </td><td>4                    </td><td>Yes                  </td><td>Single               </td><td>High school          </td><td>No                   </td><td>Yes                  </td><td>Retired              </td><td>No                   </td><td>Public               </td></tr>\n",
       "\t<tr><td>68                   </td><td>Male                 </td><td>Hypertension         </td><td> 2                   </td><td>General              </td><td>0.18862296           </td><td>Stable               </td><td>4                    </td><td>0                    </td><td>0                    </td><td>...                  </td><td>Emergency            </td><td>2                    </td><td>Yes                  </td><td>Married              </td><td>College              </td><td>Yes                  </td><td>Yes                  </td><td>Unemployed           </td><td>Yes                  </td><td>Private              </td></tr>\n",
       "\t<tr><td>55                   </td><td>Female               </td><td>Appendicitis         </td><td> 4                   </td><td>Teaching             </td><td>0.60733338           </td><td>Recovered            </td><td>3                    </td><td>0                    </td><td>0                    </td><td>...                  </td><td>Emergency            </td><td>1                    </td><td>Yes                  </td><td>Divorced             </td><td>High school          </td><td>No                   </td><td>Yes                  </td><td>Full-time            </td><td>No                   </td><td>Public               </td></tr>\n",
       "\t<tr><td>40                   </td><td>Male                 </td><td>Fractured Leg        </td><td> 6                   </td><td>Specialty            </td><td>0.11888611           </td><td>Recovered            </td><td>4                    </td><td>0                    </td><td>0                    </td><td>...                  </td><td>Emergency            </td><td>2                    </td><td>No                   </td><td>Divorced             </td><td>College              </td><td>Yes                  </td><td>Yes                  </td><td>Full-time            </td><td>Yes                  </td><td>None                 </td></tr>\n",
       "\t<tr><td>70                   </td><td>Female               </td><td>Heart Attack         </td><td> 8                   </td><td>General              </td><td>0.95264525           </td><td>Stable               </td><td>2                    </td><td>0                    </td><td>0                    </td><td>...                  </td><td>Emergency            </td><td>1                    </td><td>Yes                  </td><td>Single               </td><td>College              </td><td>Yes                  </td><td>No                   </td><td>Unemployed           </td><td>Yes                  </td><td>None                 </td></tr>\n",
       "\t<tr><td>25                   </td><td>Male                 </td><td>Allergic Reaction    </td><td> 1                   </td><td>Teaching             </td><td>0.07132914           </td><td>Recovered            </td><td>5                    </td><td>0                    </td><td>0                    </td><td>...                  </td><td>Elective             </td><td>2                    </td><td>Yes                  </td><td>Divorced             </td><td>Graduate             </td><td>No                   </td><td>No                   </td><td>Unemployed           </td><td>Yes                  </td><td>Public               </td></tr>\n",
       "\t<tr><td>48                   </td><td>Female               </td><td>Respiratory Infection</td><td> 2                   </td><td>Specialty            </td><td>0.30932604           </td><td>Stable               </td><td>4                    </td><td>0                    </td><td>0                    </td><td>...                  </td><td>Emergency            </td><td>4                    </td><td>No                   </td><td>Single               </td><td>College              </td><td>No                   </td><td>No                   </td><td>Full-time            </td><td>Yes                  </td><td>None                 </td></tr>\n",
       "\t<tr><td>65                   </td><td>Male                 </td><td>Prostate Cancer      </td><td> 9                   </td><td>General              </td><td>0.53830444           </td><td>Recovered            </td><td>3                    </td><td>0                    </td><td>0                    </td><td>...                  </td><td>Urgent               </td><td>4                    </td><td>No                   </td><td>Single               </td><td>High school          </td><td>No                   </td><td>Yes                  </td><td>Retired              </td><td>No                   </td><td>Public               </td></tr>\n",
       "\t<tr><td>30                   </td><td>Female               </td><td>Childbirth           </td><td> 3                   </td><td>Specialty            </td><td>0.20972138           </td><td>Recovered            </td><td>4                    </td><td>0                    </td><td>1                    </td><td>...                  </td><td>Urgent               </td><td>0                    </td><td>No                   </td><td>Single               </td><td>High school          </td><td>No                   </td><td>Yes                  </td><td>Full-time            </td><td>No                   </td><td>None                 </td></tr>\n",
       "\t<tr><td>52                   </td><td>Male                 </td><td>Kidney Stones        </td><td> 4                   </td><td>Teaching             </td><td>0.20274427           </td><td>Recovered            </td><td>3                    </td><td>0                    </td><td>0                    </td><td>...                  </td><td>Emergency            </td><td>2                    </td><td>Yes                  </td><td>Single               </td><td>College              </td><td>No                   </td><td>No                   </td><td>Retired              </td><td>Yes                  </td><td>Private              </td></tr>\n",
       "\t<tr><td>58                   </td><td>Female               </td><td>Osteoarthritis       </td><td> 5                   </td><td>General              </td><td>0.27149548           </td><td>Stable               </td><td>4                    </td><td>0                    </td><td>0                    </td><td>...                  </td><td>Emergency            </td><td>3                    </td><td>Yes                  </td><td>Married              </td><td>Graduate             </td><td>Yes                  </td><td>No                   </td><td>Unemployed           </td><td>No                   </td><td>None                 </td></tr>\n",
       "\t<tr><td>55                   </td><td>Female               </td><td>Heart Disease        </td><td> 6                   </td><td>Specialty            </td><td>0.87724390           </td><td>Recovered            </td><td>3                    </td><td>0                    </td><td>0                    </td><td>...                  </td><td>Urgent               </td><td>0                    </td><td>No                   </td><td>Single               </td><td>Graduate             </td><td>No                   </td><td>No                   </td><td>Unemployed           </td><td>Yes                  </td><td>Private              </td></tr>\n",
       "\t<tr><td>62                   </td><td>Male                 </td><td>Diabetes             </td><td> 4                   </td><td>General              </td><td>0.43791042           </td><td>Stable               </td><td>4                    </td><td>0                    </td><td>0                    </td><td>...                  </td><td>Urgent               </td><td>2                    </td><td>No                   </td><td>Divorced             </td><td>High school          </td><td>No                   </td><td>Yes                  </td><td>Retired              </td><td>Yes                  </td><td>None                 </td></tr>\n",
       "\t<tr><td>35                   </td><td>Female               </td><td>Fractured Arm        </td><td> 2                   </td><td>Specialty            </td><td>0.72210606           </td><td>Recovered            </td><td>5                    </td><td>0                    </td><td>0                    </td><td>...                  </td><td>Elective             </td><td>2                    </td><td>Yes                  </td><td>Married              </td><td>Graduate             </td><td>Yes                  </td><td>No                   </td><td>Unemployed           </td><td>Yes                  </td><td>Private              </td></tr>\n",
       "\t<tr><td>78                   </td><td>Male                 </td><td>Stroke               </td><td> 8                   </td><td>Teaching             </td><td>0.55716131           </td><td>Stable               </td><td>2                    </td><td>0                    </td><td>0                    </td><td>...                  </td><td>Urgent               </td><td>0                    </td><td>Yes                  </td><td>Divorced             </td><td>College              </td><td>Yes                  </td><td>No                   </td><td>Retired              </td><td>Yes                  </td><td>None                 </td></tr>\n",
       "\t<tr><td>53                   </td><td>Female               </td><td>Cancer               </td><td>11                   </td><td>Teaching             </td><td>0.65204761           </td><td>Recovered            </td><td>4                    </td><td>0                    </td><td>0                    </td><td>...                  </td><td>Elective             </td><td>4                    </td><td>No                   </td><td>Married              </td><td>College              </td><td>No                   </td><td>Yes                  </td><td>Part-time            </td><td>No                   </td><td>Private              </td></tr>\n",
       "\t<tr><td>72                   </td><td>Male                 </td><td>Hypertension         </td><td> 3                   </td><td>General              </td><td>0.54894134           </td><td>Stable               </td><td>4                    </td><td>0                    </td><td>0                    </td><td>...                  </td><td>Elective             </td><td>2                    </td><td>No                   </td><td>Single               </td><td>High school          </td><td>Yes                  </td><td>No                   </td><td>Full-time            </td><td>Yes                  </td><td>Public               </td></tr>\n",
       "\t<tr><td>60                   </td><td>Female               </td><td>Appendicitis         </td><td> 5                   </td><td>Specialty            </td><td>0.84088313           </td><td>Recovered            </td><td>3                    </td><td>0                    </td><td>0                    </td><td>...                  </td><td>Elective             </td><td>4                    </td><td>Yes                  </td><td>Married              </td><td>College              </td><td>No                   </td><td>Yes                  </td><td>Part-time            </td><td>Yes                  </td><td>Public               </td></tr>\n",
       "\t<tr><td>45                   </td><td>Male                 </td><td>Fractured Leg        </td><td> 7                   </td><td>General              </td><td>0.23500396           </td><td>Recovered            </td><td>4                    </td><td>0                    </td><td>0                    </td><td>...                  </td><td>Elective             </td><td>0                    </td><td>No                   </td><td>Married              </td><td>High school          </td><td>Yes                  </td><td>Yes                  </td><td>Retired              </td><td>No                   </td><td>Private              </td></tr>\n",
       "\t<tr><td>75                   </td><td>Female               </td><td>Heart Attack         </td><td> 9                   </td><td>General              </td><td>0.98019203           </td><td>Stable               </td><td>2                    </td><td>0                    </td><td>0                    </td><td>...                  </td><td>Elective             </td><td>4                    </td><td>Yes                  </td><td>Divorced             </td><td>College              </td><td>Yes                  </td><td>Yes                  </td><td>Full-time            </td><td>Yes                  </td><td>None                 </td></tr>\n",
       "\t<tr><td>28                   </td><td>Male                 </td><td>Allergic Reaction    </td><td> 2                   </td><td>Specialty            </td><td>0.08619710           </td><td>Recovered            </td><td>5                    </td><td>0                    </td><td>0                    </td><td>...                  </td><td>Emergency            </td><td>1                    </td><td>Yes                  </td><td>Divorced             </td><td>High school          </td><td>No                   </td><td>No                   </td><td>Retired              </td><td>Yes                  </td><td>Private              </td></tr>\n",
       "\t<tr><td>52                   </td><td>Female               </td><td>Respiratory Infection</td><td> 3                   </td><td>Specialty            </td><td>0.26577098           </td><td>Stable               </td><td>4                    </td><td>0                    </td><td>0                    </td><td>...                  </td><td>Urgent               </td><td>3                    </td><td>Yes                  </td><td>Single               </td><td>Graduate             </td><td>Yes                  </td><td>No                   </td><td>Full-time            </td><td>Yes                  </td><td>None                 </td></tr>\n",
       "\t<tr><td>67                   </td><td>Male                 </td><td>Prostate Cancer      </td><td>10                   </td><td>Specialty            </td><td>0.45309312           </td><td>Recovered            </td><td>3                    </td><td>0                    </td><td>0                    </td><td>...                  </td><td>Elective             </td><td>2                    </td><td>Yes                  </td><td>Married              </td><td>College              </td><td>Yes                  </td><td>Yes                  </td><td>Full-time            </td><td>No                   </td><td>Public               </td></tr>\n",
       "\t<tr><td>35                   </td><td>Female               </td><td>Childbirth           </td><td> 4                   </td><td>Teaching             </td><td>0.19759069           </td><td>Recovered            </td><td>4                    </td><td>0                    </td><td>0                    </td><td>...                  </td><td>Urgent               </td><td>3                    </td><td>No                   </td><td>Married              </td><td>College              </td><td>Yes                  </td><td>No                   </td><td>Full-time            </td><td>Yes                  </td><td>None                 </td></tr>\n",
       "\t<tr><td>50                   </td><td>Male                 </td><td>Kidney Stones        </td><td> 5                   </td><td>General              </td><td>0.37309952           </td><td>Recovered            </td><td>3                    </td><td>0                    </td><td>0                    </td><td>...                  </td><td>Urgent               </td><td>4                    </td><td>No                   </td><td>Married              </td><td>High school          </td><td>Yes                  </td><td>No                   </td><td>Full-time            </td><td>No                   </td><td>Public               </td></tr>\n",
       "\t<tr><td>60                   </td><td>Female               </td><td>Osteoarthritis       </td><td> 6                   </td><td>General              </td><td>0.67152909           </td><td>Stable               </td><td>4                    </td><td>0                    </td><td>0                    </td><td>...                  </td><td>Elective             </td><td>2                    </td><td>Yes                  </td><td>Single               </td><td>High school          </td><td>Yes                  </td><td>No                   </td><td>Retired              </td><td>Yes                  </td><td>None                 </td></tr>\n",
       "\t<tr><td>...</td><td>...</td><td>...</td><td>...</td><td>...</td><td>...</td><td>...</td><td>...</td><td>...</td><td>...</td><td>   </td><td>...</td><td>...</td><td>...</td><td>...</td><td>...</td><td>...</td><td>...</td><td>...</td><td>...</td><td>...</td></tr>\n",
       "\t<tr><td>52                   </td><td>Female               </td><td>Respiratory Infection</td><td>66                   </td><td>General              </td><td>0.2679241            </td><td>Stable               </td><td>4                    </td><td>0                    </td><td>0                    </td><td>...                  </td><td>Elective             </td><td>0                    </td><td>No                   </td><td>Married              </td><td>High school          </td><td>No                   </td><td>No                   </td><td>Retired              </td><td>Yes                  </td><td>Private              </td></tr>\n",
       "\t<tr><td>58                   </td><td>Male                 </td><td>Prostate Cancer      </td><td>73                   </td><td>General              </td><td>0.2071369            </td><td>Recovered            </td><td>3                    </td><td>0                    </td><td>0                    </td><td>...                  </td><td>Elective             </td><td>0                    </td><td>No                   </td><td>Married              </td><td>High school          </td><td>No                   </td><td>No                   </td><td>Retired              </td><td>Yes                  </td><td>Private              </td></tr>\n",
       "\t<tr><td>32                   </td><td>Female               </td><td>Childbirth           </td><td>67                   </td><td>General              </td><td>0.3473079            </td><td>Recovered            </td><td>4                    </td><td>0                    </td><td>0                    </td><td>...                  </td><td>Elective             </td><td>0                    </td><td>No                   </td><td>Married              </td><td>High school          </td><td>No                   </td><td>No                   </td><td>Retired              </td><td>Yes                  </td><td>Private              </td></tr>\n",
       "\t<tr><td>55                   </td><td>Male                 </td><td>Kidney Stones        </td><td>68                   </td><td>General              </td><td>0.3549156            </td><td>Recovered            </td><td>3                    </td><td>0                    </td><td>0                    </td><td>...                  </td><td>Elective             </td><td>0                    </td><td>No                   </td><td>Married              </td><td>High school          </td><td>No                   </td><td>No                   </td><td>Retired              </td><td>Yes                  </td><td>Private              </td></tr>\n",
       "\t<tr><td>65                   </td><td>Female               </td><td>Osteoarthritis       </td><td>69                   </td><td>General              </td><td>0.5091051            </td><td>Stable               </td><td>4                    </td><td>3                    </td><td>0                    </td><td>...                  </td><td>Elective             </td><td>0                    </td><td>No                   </td><td>Married              </td><td>High school          </td><td>No                   </td><td>No                   </td><td>Retired              </td><td>Yes                  </td><td>Private              </td></tr>\n",
       "\t<tr><td>55                   </td><td>Female               </td><td>Heart Disease        </td><td>70                   </td><td>General              </td><td>0.9123498            </td><td>Recovered            </td><td>3                    </td><td>0                    </td><td>0                    </td><td>...                  </td><td>Elective             </td><td>0                    </td><td>No                   </td><td>Married              </td><td>High school          </td><td>No                   </td><td>No                   </td><td>Retired              </td><td>Yes                  </td><td>Private              </td></tr>\n",
       "\t<tr><td>62                   </td><td>Male                 </td><td>Diabetes             </td><td>68                   </td><td>General              </td><td>0.5031916            </td><td>Stable               </td><td>4                    </td><td>0                    </td><td>0                    </td><td>...                  </td><td>Elective             </td><td>0                    </td><td>No                   </td><td>Married              </td><td>High school          </td><td>No                   </td><td>No                   </td><td>Retired              </td><td>Yes                  </td><td>Private              </td></tr>\n",
       "\t<tr><td>35                   </td><td>Female               </td><td>Fractured Arm        </td><td>66                   </td><td>General              </td><td>0.7883045            </td><td>Recovered            </td><td>5                    </td><td>0                    </td><td>0                    </td><td>...                  </td><td>Elective             </td><td>0                    </td><td>No                   </td><td>Married              </td><td>High school          </td><td>No                   </td><td>No                   </td><td>Retired              </td><td>Yes                  </td><td>Private              </td></tr>\n",
       "\t<tr><td>78                   </td><td>Male                 </td><td>Stroke               </td><td>73                   </td><td>General              </td><td>0.7559825            </td><td>Stable               </td><td>2                    </td><td>0                    </td><td>0                    </td><td>...                  </td><td>Elective             </td><td>0                    </td><td>No                   </td><td>Married              </td><td>High school          </td><td>No                   </td><td>No                   </td><td>Retired              </td><td>Yes                  </td><td>Private              </td></tr>\n",
       "\t<tr><td>53                   </td><td>Female               </td><td>Cancer               </td><td>75                   </td><td>General              </td><td>0.7945703            </td><td>Recovered            </td><td>4                    </td><td>0                    </td><td>0                    </td><td>...                  </td><td>Elective             </td><td>0                    </td><td>No                   </td><td>Married              </td><td>High school          </td><td>No                   </td><td>No                   </td><td>Retired              </td><td>Yes                  </td><td>Private              </td></tr>\n",
       "\t<tr><td>72                   </td><td>Male                 </td><td>Hypertension         </td><td>69                   </td><td>General              </td><td>0.2271847            </td><td>Stable               </td><td>4                    </td><td>0                    </td><td>0                    </td><td>...                  </td><td>Elective             </td><td>0                    </td><td>No                   </td><td>Married              </td><td>High school          </td><td>No                   </td><td>No                   </td><td>Retired              </td><td>Yes                  </td><td>Private              </td></tr>\n",
       "\t<tr><td>60                   </td><td>Female               </td><td>Appendicitis         </td><td>71                   </td><td>General              </td><td>0.8492949            </td><td>Recovered            </td><td>3                    </td><td>0                    </td><td>0                    </td><td>...                  </td><td>Elective             </td><td>0                    </td><td>No                   </td><td>Married              </td><td>High school          </td><td>No                   </td><td>No                   </td><td>Retired              </td><td>Yes                  </td><td>Private              </td></tr>\n",
       "\t<tr><td>45                   </td><td>Male                 </td><td>Fractured Leg        </td><td>71                   </td><td>General              </td><td>0.1731292            </td><td>Recovered            </td><td>4                    </td><td>0                    </td><td>0                    </td><td>...                  </td><td>Elective             </td><td>0                    </td><td>No                   </td><td>Married              </td><td>High school          </td><td>No                   </td><td>No                   </td><td>Retired              </td><td>Yes                  </td><td>Private              </td></tr>\n",
       "\t<tr><td>75                   </td><td>Female               </td><td>Heart Attack         </td><td>73                   </td><td>General              </td><td>0.9338886            </td><td>Stable               </td><td>2                    </td><td>0                    </td><td>0                    </td><td>...                  </td><td>Elective             </td><td>0                    </td><td>No                   </td><td>Married              </td><td>High school          </td><td>No                   </td><td>No                   </td><td>Retired              </td><td>Yes                  </td><td>Private              </td></tr>\n",
       "\t<tr><td>28                   </td><td>Male                 </td><td>Allergic Reaction    </td><td>67                   </td><td>General              </td><td>0.1893848            </td><td>Recovered            </td><td>5                    </td><td>0                    </td><td>0                    </td><td>...                  </td><td>Elective             </td><td>0                    </td><td>No                   </td><td>Married              </td><td>High school          </td><td>No                   </td><td>No                   </td><td>Retired              </td><td>Yes                  </td><td>Private              </td></tr>\n",
       "\t<tr><td>52                   </td><td>Female               </td><td>Respiratory Infection</td><td>68                   </td><td>General              </td><td>0.2836818            </td><td>Stable               </td><td>4                    </td><td>0                    </td><td>0                    </td><td>...                  </td><td>Elective             </td><td>0                    </td><td>No                   </td><td>Married              </td><td>High school          </td><td>No                   </td><td>No                   </td><td>Retired              </td><td>Yes                  </td><td>Private              </td></tr>\n",
       "\t<tr><td>67                   </td><td>Male                 </td><td>Prostate Cancer      </td><td>74                   </td><td>General              </td><td>0.3147875            </td><td>Recovered            </td><td>3                    </td><td>0                    </td><td>0                    </td><td>...                  </td><td>Elective             </td><td>0                    </td><td>No                   </td><td>Married              </td><td>High school          </td><td>No                   </td><td>No                   </td><td>Retired              </td><td>Yes                  </td><td>Private              </td></tr>\n",
       "\t<tr><td>35                   </td><td>Female               </td><td>Childbirth           </td><td>68                   </td><td>General              </td><td>0.3856125            </td><td>Recovered            </td><td>4                    </td><td>0                    </td><td>0                    </td><td>...                  </td><td>Elective             </td><td>0                    </td><td>No                   </td><td>Married              </td><td>High school          </td><td>No                   </td><td>No                   </td><td>Retired              </td><td>Yes                  </td><td>Private              </td></tr>\n",
       "\t<tr><td>50                   </td><td>Male                 </td><td>Kidney Stones        </td><td>69                   </td><td>General              </td><td>0.2852605            </td><td>Recovered            </td><td>3                    </td><td>0                    </td><td>0                    </td><td>...                  </td><td>Elective             </td><td>0                    </td><td>No                   </td><td>Married              </td><td>High school          </td><td>No                   </td><td>No                   </td><td>Retired              </td><td>Yes                  </td><td>Private              </td></tr>\n",
       "\t<tr><td>60                   </td><td>Female               </td><td>Osteoarthritis       </td><td>70                   </td><td>General              </td><td>0.4357206            </td><td>Stable               </td><td>4                    </td><td>0                    </td><td>0                    </td><td>...                  </td><td>Elective             </td><td>0                    </td><td>No                   </td><td>Married              </td><td>High school          </td><td>No                   </td><td>No                   </td><td>Retired              </td><td>Yes                  </td><td>Private              </td></tr>\n",
       "\t<tr><td>48                   </td><td>Female               </td><td>Heart Disease        </td><td>71                   </td><td>General              </td><td>0.9363710            </td><td>Recovered            </td><td>4                    </td><td>0                    </td><td>0                    </td><td>...                  </td><td>Elective             </td><td>0                    </td><td>No                   </td><td>Married              </td><td>High school          </td><td>No                   </td><td>No                   </td><td>Retired              </td><td>Yes                  </td><td>Private              </td></tr>\n",
       "\t<tr><td>65                   </td><td>Male                 </td><td>Diabetes             </td><td>69                   </td><td>General              </td><td>0.3756762            </td><td>Stable               </td><td>3                    </td><td>0                    </td><td>0                    </td><td>...                  </td><td>Elective             </td><td>0                    </td><td>No                   </td><td>Married              </td><td>High school          </td><td>No                   </td><td>No                   </td><td>Retired              </td><td>Yes                  </td><td>Private              </td></tr>\n",
       "\t<tr><td>30                   </td><td>Female               </td><td>Fractured Arm        </td><td>67                   </td><td>General              </td><td>0.7329992            </td><td>Recovered            </td><td>5                    </td><td>0                    </td><td>0                    </td><td>...                  </td><td>Elective             </td><td>0                    </td><td>No                   </td><td>Married              </td><td>High school          </td><td>No                   </td><td>No                   </td><td>Retired              </td><td>Yes                  </td><td>Private              </td></tr>\n",
       "\t<tr><td>70                   </td><td>Male                 </td><td>Stroke               </td><td>74                   </td><td>General              </td><td>0.6524518            </td><td>Stable               </td><td>2                    </td><td>0                    </td><td>0                    </td><td>...                  </td><td>Elective             </td><td>0                    </td><td>No                   </td><td>Married              </td><td>High school          </td><td>No                   </td><td>No                   </td><td>Retired              </td><td>Yes                  </td><td>Private              </td></tr>\n",
       "\t<tr><td>55                   </td><td>Female               </td><td>Cancer               </td><td>76                   </td><td>General              </td><td>0.8096831            </td><td>Recovered            </td><td>4                    </td><td>0                    </td><td>0                    </td><td>...                  </td><td>Elective             </td><td>0                    </td><td>No                   </td><td>Married              </td><td>High school          </td><td>No                   </td><td>No                   </td><td>Retired              </td><td>Yes                  </td><td>Private              </td></tr>\n",
       "\t<tr><td>68                   </td><td>Male                 </td><td>Hypertension         </td><td>70                   </td><td>General              </td><td>0.1807379            </td><td>Stable               </td><td>4                    </td><td>0                    </td><td>0                    </td><td>...                  </td><td>Elective             </td><td>0                    </td><td>No                   </td><td>Married              </td><td>High school          </td><td>No                   </td><td>No                   </td><td>Retired              </td><td>Yes                  </td><td>Private              </td></tr>\n",
       "\t<tr><td>45                   </td><td>Female               </td><td>Appendicitis         </td><td>72                   </td><td>General              </td><td>0.7014227            </td><td>Recovered            </td><td>3                    </td><td>0                    </td><td>0                    </td><td>...                  </td><td>Elective             </td><td>0                    </td><td>No                   </td><td>Married              </td><td>High school          </td><td>No                   </td><td>No                   </td><td>Retired              </td><td>Yes                  </td><td>Private              </td></tr>\n",
       "\t<tr><td>40                   </td><td>Male                 </td><td>Fractured Leg        </td><td>72                   </td><td>General              </td><td>0.1348683            </td><td>Recovered            </td><td>4                    </td><td>0                    </td><td>0                    </td><td>...                  </td><td>Elective             </td><td>0                    </td><td>No                   </td><td>Married              </td><td>High school          </td><td>No                   </td><td>No                   </td><td>Retired              </td><td>Yes                  </td><td>Private              </td></tr>\n",
       "\t<tr><td>78                   </td><td>Female               </td><td>Heart Attack         </td><td>74                   </td><td>General              </td><td>0.9449415            </td><td>Stable               </td><td>2                    </td><td>0                    </td><td>0                    </td><td>...                  </td><td>Elective             </td><td>0                    </td><td>No                   </td><td>Married              </td><td>High school          </td><td>No                   </td><td>No                   </td><td>Retired              </td><td>Yes                  </td><td>Private              </td></tr>\n",
       "\t<tr><td>25                   </td><td>Male                 </td><td>Allergic Reaction    </td><td>68                   </td><td>General              </td><td>0.1594657            </td><td>Recovered            </td><td>5                    </td><td>0                    </td><td>0                    </td><td>...                  </td><td>Elective             </td><td>0                    </td><td>No                   </td><td>Married              </td><td>High school          </td><td>No                   </td><td>No                   </td><td>Retired              </td><td>Yes                  </td><td>Private              </td></tr>\n",
       "</tbody>\n",
       "</table>\n"
      ],
      "text/latex": [
       "\\begin{tabular}{r|llllllllllllllllllllllll}\n",
       " Age & Gender & Condition & Length\\_of\\_Stay & Hospital\\_Type & Readmission & Outcome & Satisfaction & number\\_outpatient & number\\_emergency & ... & Admission\\_Type & Readmission\\_Count\\_Last\\_Year & Chronic\\_Illness & Marital\\_Status & Education\\_Level & Substance\\_Abuse & Sport\\_Practice & Actual\\_Job & Follow\\_Up\\_After\\_Discharge & Insurance\\\\\n",
       "\\hline\n",
       "\t 45                    & Female                & Heart Disease         &  5                    & General               & 0.96278927            & Recovered             & 4                     & 0                     & 0                     & ...                   & Elective              & 4                     & No                    & Married               & High school           & No                    & Yes                   & Full-time             & No                    & Public               \\\\\n",
       "\t 60                    & Male                  & Diabetes              &  3                    & General               & 0.32008156            & Stable                & 3                     & 0                     & 0                     & ...                   & Elective              & 0                     & No                    & Divorced              & Graduate              & No                    & Yes                   & Unemployed            & Yes                   & Public               \\\\\n",
       "\t 32                    & Female                & Fractured Arm         &  1                    & Teaching              & 0.61565194            & Recovered             & 5                     & 2                     & 0                     & ...                   & Elective              & 1                     & No                    & Single                & Graduate              & No                    & Yes                   & Retired               & Yes                   & None                 \\\\\n",
       "\t 75                    & Male                  & Stroke                &  7                    & Teaching              & 0.59778783            & Stable                & 2                     & 0                     & 0                     & ...                   & Elective              & 4                     & No                    & Divorced              & Graduate              & No                    & Yes                   & Unemployed            & Yes                   & Private              \\\\\n",
       "\t 50                    & Female                & Cancer                & 10                    & General               & 0.94377189            & Recovered             & 4                     & 0                     & 0                     & ...                   & Urgent                & 4                     & Yes                   & Single                & High school           & No                    & Yes                   & Retired               & No                    & Public               \\\\\n",
       "\t 68                    & Male                  & Hypertension          &  2                    & General               & 0.18862296            & Stable                & 4                     & 0                     & 0                     & ...                   & Emergency             & 2                     & Yes                   & Married               & College               & Yes                   & Yes                   & Unemployed            & Yes                   & Private              \\\\\n",
       "\t 55                    & Female                & Appendicitis          &  4                    & Teaching              & 0.60733338            & Recovered             & 3                     & 0                     & 0                     & ...                   & Emergency             & 1                     & Yes                   & Divorced              & High school           & No                    & Yes                   & Full-time             & No                    & Public               \\\\\n",
       "\t 40                    & Male                  & Fractured Leg         &  6                    & Specialty             & 0.11888611            & Recovered             & 4                     & 0                     & 0                     & ...                   & Emergency             & 2                     & No                    & Divorced              & College               & Yes                   & Yes                   & Full-time             & Yes                   & None                 \\\\\n",
       "\t 70                    & Female                & Heart Attack          &  8                    & General               & 0.95264525            & Stable                & 2                     & 0                     & 0                     & ...                   & Emergency             & 1                     & Yes                   & Single                & College               & Yes                   & No                    & Unemployed            & Yes                   & None                 \\\\\n",
       "\t 25                    & Male                  & Allergic Reaction     &  1                    & Teaching              & 0.07132914            & Recovered             & 5                     & 0                     & 0                     & ...                   & Elective              & 2                     & Yes                   & Divorced              & Graduate              & No                    & No                    & Unemployed            & Yes                   & Public               \\\\\n",
       "\t 48                    & Female                & Respiratory Infection &  2                    & Specialty             & 0.30932604            & Stable                & 4                     & 0                     & 0                     & ...                   & Emergency             & 4                     & No                    & Single                & College               & No                    & No                    & Full-time             & Yes                   & None                 \\\\\n",
       "\t 65                    & Male                  & Prostate Cancer       &  9                    & General               & 0.53830444            & Recovered             & 3                     & 0                     & 0                     & ...                   & Urgent                & 4                     & No                    & Single                & High school           & No                    & Yes                   & Retired               & No                    & Public               \\\\\n",
       "\t 30                    & Female                & Childbirth            &  3                    & Specialty             & 0.20972138            & Recovered             & 4                     & 0                     & 1                     & ...                   & Urgent                & 0                     & No                    & Single                & High school           & No                    & Yes                   & Full-time             & No                    & None                 \\\\\n",
       "\t 52                    & Male                  & Kidney Stones         &  4                    & Teaching              & 0.20274427            & Recovered             & 3                     & 0                     & 0                     & ...                   & Emergency             & 2                     & Yes                   & Single                & College               & No                    & No                    & Retired               & Yes                   & Private              \\\\\n",
       "\t 58                    & Female                & Osteoarthritis        &  5                    & General               & 0.27149548            & Stable                & 4                     & 0                     & 0                     & ...                   & Emergency             & 3                     & Yes                   & Married               & Graduate              & Yes                   & No                    & Unemployed            & No                    & None                 \\\\\n",
       "\t 55                    & Female                & Heart Disease         &  6                    & Specialty             & 0.87724390            & Recovered             & 3                     & 0                     & 0                     & ...                   & Urgent                & 0                     & No                    & Single                & Graduate              & No                    & No                    & Unemployed            & Yes                   & Private              \\\\\n",
       "\t 62                    & Male                  & Diabetes              &  4                    & General               & 0.43791042            & Stable                & 4                     & 0                     & 0                     & ...                   & Urgent                & 2                     & No                    & Divorced              & High school           & No                    & Yes                   & Retired               & Yes                   & None                 \\\\\n",
       "\t 35                    & Female                & Fractured Arm         &  2                    & Specialty             & 0.72210606            & Recovered             & 5                     & 0                     & 0                     & ...                   & Elective              & 2                     & Yes                   & Married               & Graduate              & Yes                   & No                    & Unemployed            & Yes                   & Private              \\\\\n",
       "\t 78                    & Male                  & Stroke                &  8                    & Teaching              & 0.55716131            & Stable                & 2                     & 0                     & 0                     & ...                   & Urgent                & 0                     & Yes                   & Divorced              & College               & Yes                   & No                    & Retired               & Yes                   & None                 \\\\\n",
       "\t 53                    & Female                & Cancer                & 11                    & Teaching              & 0.65204761            & Recovered             & 4                     & 0                     & 0                     & ...                   & Elective              & 4                     & No                    & Married               & College               & No                    & Yes                   & Part-time             & No                    & Private              \\\\\n",
       "\t 72                    & Male                  & Hypertension          &  3                    & General               & 0.54894134            & Stable                & 4                     & 0                     & 0                     & ...                   & Elective              & 2                     & No                    & Single                & High school           & Yes                   & No                    & Full-time             & Yes                   & Public               \\\\\n",
       "\t 60                    & Female                & Appendicitis          &  5                    & Specialty             & 0.84088313            & Recovered             & 3                     & 0                     & 0                     & ...                   & Elective              & 4                     & Yes                   & Married               & College               & No                    & Yes                   & Part-time             & Yes                   & Public               \\\\\n",
       "\t 45                    & Male                  & Fractured Leg         &  7                    & General               & 0.23500396            & Recovered             & 4                     & 0                     & 0                     & ...                   & Elective              & 0                     & No                    & Married               & High school           & Yes                   & Yes                   & Retired               & No                    & Private              \\\\\n",
       "\t 75                    & Female                & Heart Attack          &  9                    & General               & 0.98019203            & Stable                & 2                     & 0                     & 0                     & ...                   & Elective              & 4                     & Yes                   & Divorced              & College               & Yes                   & Yes                   & Full-time             & Yes                   & None                 \\\\\n",
       "\t 28                    & Male                  & Allergic Reaction     &  2                    & Specialty             & 0.08619710            & Recovered             & 5                     & 0                     & 0                     & ...                   & Emergency             & 1                     & Yes                   & Divorced              & High school           & No                    & No                    & Retired               & Yes                   & Private              \\\\\n",
       "\t 52                    & Female                & Respiratory Infection &  3                    & Specialty             & 0.26577098            & Stable                & 4                     & 0                     & 0                     & ...                   & Urgent                & 3                     & Yes                   & Single                & Graduate              & Yes                   & No                    & Full-time             & Yes                   & None                 \\\\\n",
       "\t 67                    & Male                  & Prostate Cancer       & 10                    & Specialty             & 0.45309312            & Recovered             & 3                     & 0                     & 0                     & ...                   & Elective              & 2                     & Yes                   & Married               & College               & Yes                   & Yes                   & Full-time             & No                    & Public               \\\\\n",
       "\t 35                    & Female                & Childbirth            &  4                    & Teaching              & 0.19759069            & Recovered             & 4                     & 0                     & 0                     & ...                   & Urgent                & 3                     & No                    & Married               & College               & Yes                   & No                    & Full-time             & Yes                   & None                 \\\\\n",
       "\t 50                    & Male                  & Kidney Stones         &  5                    & General               & 0.37309952            & Recovered             & 3                     & 0                     & 0                     & ...                   & Urgent                & 4                     & No                    & Married               & High school           & Yes                   & No                    & Full-time             & No                    & Public               \\\\\n",
       "\t 60                    & Female                & Osteoarthritis        &  6                    & General               & 0.67152909            & Stable                & 4                     & 0                     & 0                     & ...                   & Elective              & 2                     & Yes                   & Single                & High school           & Yes                   & No                    & Retired               & Yes                   & None                 \\\\\n",
       "\t ... & ... & ... & ... & ... & ... & ... & ... & ... & ... &     & ... & ... & ... & ... & ... & ... & ... & ... & ... & ...\\\\\n",
       "\t 52                    & Female                & Respiratory Infection & 66                    & General               & 0.2679241             & Stable                & 4                     & 0                     & 0                     & ...                   & Elective              & 0                     & No                    & Married               & High school           & No                    & No                    & Retired               & Yes                   & Private              \\\\\n",
       "\t 58                    & Male                  & Prostate Cancer       & 73                    & General               & 0.2071369             & Recovered             & 3                     & 0                     & 0                     & ...                   & Elective              & 0                     & No                    & Married               & High school           & No                    & No                    & Retired               & Yes                   & Private              \\\\\n",
       "\t 32                    & Female                & Childbirth            & 67                    & General               & 0.3473079             & Recovered             & 4                     & 0                     & 0                     & ...                   & Elective              & 0                     & No                    & Married               & High school           & No                    & No                    & Retired               & Yes                   & Private              \\\\\n",
       "\t 55                    & Male                  & Kidney Stones         & 68                    & General               & 0.3549156             & Recovered             & 3                     & 0                     & 0                     & ...                   & Elective              & 0                     & No                    & Married               & High school           & No                    & No                    & Retired               & Yes                   & Private              \\\\\n",
       "\t 65                    & Female                & Osteoarthritis        & 69                    & General               & 0.5091051             & Stable                & 4                     & 3                     & 0                     & ...                   & Elective              & 0                     & No                    & Married               & High school           & No                    & No                    & Retired               & Yes                   & Private              \\\\\n",
       "\t 55                    & Female                & Heart Disease         & 70                    & General               & 0.9123498             & Recovered             & 3                     & 0                     & 0                     & ...                   & Elective              & 0                     & No                    & Married               & High school           & No                    & No                    & Retired               & Yes                   & Private              \\\\\n",
       "\t 62                    & Male                  & Diabetes              & 68                    & General               & 0.5031916             & Stable                & 4                     & 0                     & 0                     & ...                   & Elective              & 0                     & No                    & Married               & High school           & No                    & No                    & Retired               & Yes                   & Private              \\\\\n",
       "\t 35                    & Female                & Fractured Arm         & 66                    & General               & 0.7883045             & Recovered             & 5                     & 0                     & 0                     & ...                   & Elective              & 0                     & No                    & Married               & High school           & No                    & No                    & Retired               & Yes                   & Private              \\\\\n",
       "\t 78                    & Male                  & Stroke                & 73                    & General               & 0.7559825             & Stable                & 2                     & 0                     & 0                     & ...                   & Elective              & 0                     & No                    & Married               & High school           & No                    & No                    & Retired               & Yes                   & Private              \\\\\n",
       "\t 53                    & Female                & Cancer                & 75                    & General               & 0.7945703             & Recovered             & 4                     & 0                     & 0                     & ...                   & Elective              & 0                     & No                    & Married               & High school           & No                    & No                    & Retired               & Yes                   & Private              \\\\\n",
       "\t 72                    & Male                  & Hypertension          & 69                    & General               & 0.2271847             & Stable                & 4                     & 0                     & 0                     & ...                   & Elective              & 0                     & No                    & Married               & High school           & No                    & No                    & Retired               & Yes                   & Private              \\\\\n",
       "\t 60                    & Female                & Appendicitis          & 71                    & General               & 0.8492949             & Recovered             & 3                     & 0                     & 0                     & ...                   & Elective              & 0                     & No                    & Married               & High school           & No                    & No                    & Retired               & Yes                   & Private              \\\\\n",
       "\t 45                    & Male                  & Fractured Leg         & 71                    & General               & 0.1731292             & Recovered             & 4                     & 0                     & 0                     & ...                   & Elective              & 0                     & No                    & Married               & High school           & No                    & No                    & Retired               & Yes                   & Private              \\\\\n",
       "\t 75                    & Female                & Heart Attack          & 73                    & General               & 0.9338886             & Stable                & 2                     & 0                     & 0                     & ...                   & Elective              & 0                     & No                    & Married               & High school           & No                    & No                    & Retired               & Yes                   & Private              \\\\\n",
       "\t 28                    & Male                  & Allergic Reaction     & 67                    & General               & 0.1893848             & Recovered             & 5                     & 0                     & 0                     & ...                   & Elective              & 0                     & No                    & Married               & High school           & No                    & No                    & Retired               & Yes                   & Private              \\\\\n",
       "\t 52                    & Female                & Respiratory Infection & 68                    & General               & 0.2836818             & Stable                & 4                     & 0                     & 0                     & ...                   & Elective              & 0                     & No                    & Married               & High school           & No                    & No                    & Retired               & Yes                   & Private              \\\\\n",
       "\t 67                    & Male                  & Prostate Cancer       & 74                    & General               & 0.3147875             & Recovered             & 3                     & 0                     & 0                     & ...                   & Elective              & 0                     & No                    & Married               & High school           & No                    & No                    & Retired               & Yes                   & Private              \\\\\n",
       "\t 35                    & Female                & Childbirth            & 68                    & General               & 0.3856125             & Recovered             & 4                     & 0                     & 0                     & ...                   & Elective              & 0                     & No                    & Married               & High school           & No                    & No                    & Retired               & Yes                   & Private              \\\\\n",
       "\t 50                    & Male                  & Kidney Stones         & 69                    & General               & 0.2852605             & Recovered             & 3                     & 0                     & 0                     & ...                   & Elective              & 0                     & No                    & Married               & High school           & No                    & No                    & Retired               & Yes                   & Private              \\\\\n",
       "\t 60                    & Female                & Osteoarthritis        & 70                    & General               & 0.4357206             & Stable                & 4                     & 0                     & 0                     & ...                   & Elective              & 0                     & No                    & Married               & High school           & No                    & No                    & Retired               & Yes                   & Private              \\\\\n",
       "\t 48                    & Female                & Heart Disease         & 71                    & General               & 0.9363710             & Recovered             & 4                     & 0                     & 0                     & ...                   & Elective              & 0                     & No                    & Married               & High school           & No                    & No                    & Retired               & Yes                   & Private              \\\\\n",
       "\t 65                    & Male                  & Diabetes              & 69                    & General               & 0.3756762             & Stable                & 3                     & 0                     & 0                     & ...                   & Elective              & 0                     & No                    & Married               & High school           & No                    & No                    & Retired               & Yes                   & Private              \\\\\n",
       "\t 30                    & Female                & Fractured Arm         & 67                    & General               & 0.7329992             & Recovered             & 5                     & 0                     & 0                     & ...                   & Elective              & 0                     & No                    & Married               & High school           & No                    & No                    & Retired               & Yes                   & Private              \\\\\n",
       "\t 70                    & Male                  & Stroke                & 74                    & General               & 0.6524518             & Stable                & 2                     & 0                     & 0                     & ...                   & Elective              & 0                     & No                    & Married               & High school           & No                    & No                    & Retired               & Yes                   & Private              \\\\\n",
       "\t 55                    & Female                & Cancer                & 76                    & General               & 0.8096831             & Recovered             & 4                     & 0                     & 0                     & ...                   & Elective              & 0                     & No                    & Married               & High school           & No                    & No                    & Retired               & Yes                   & Private              \\\\\n",
       "\t 68                    & Male                  & Hypertension          & 70                    & General               & 0.1807379             & Stable                & 4                     & 0                     & 0                     & ...                   & Elective              & 0                     & No                    & Married               & High school           & No                    & No                    & Retired               & Yes                   & Private              \\\\\n",
       "\t 45                    & Female                & Appendicitis          & 72                    & General               & 0.7014227             & Recovered             & 3                     & 0                     & 0                     & ...                   & Elective              & 0                     & No                    & Married               & High school           & No                    & No                    & Retired               & Yes                   & Private              \\\\\n",
       "\t 40                    & Male                  & Fractured Leg         & 72                    & General               & 0.1348683             & Recovered             & 4                     & 0                     & 0                     & ...                   & Elective              & 0                     & No                    & Married               & High school           & No                    & No                    & Retired               & Yes                   & Private              \\\\\n",
       "\t 78                    & Female                & Heart Attack          & 74                    & General               & 0.9449415             & Stable                & 2                     & 0                     & 0                     & ...                   & Elective              & 0                     & No                    & Married               & High school           & No                    & No                    & Retired               & Yes                   & Private              \\\\\n",
       "\t 25                    & Male                  & Allergic Reaction     & 68                    & General               & 0.1594657             & Recovered             & 5                     & 0                     & 0                     & ...                   & Elective              & 0                     & No                    & Married               & High school           & No                    & No                    & Retired               & Yes                   & Private              \\\\\n",
       "\\end{tabular}\n"
      ],
      "text/markdown": [
       "\n",
       "| Age | Gender | Condition | Length_of_Stay | Hospital_Type | Readmission | Outcome | Satisfaction | number_outpatient | number_emergency | ... | Admission_Type | Readmission_Count_Last_Year | Chronic_Illness | Marital_Status | Education_Level | Substance_Abuse | Sport_Practice | Actual_Job | Follow_Up_After_Discharge | Insurance |\n",
       "|---|---|---|---|---|---|---|---|---|---|---|---|---|---|---|---|---|---|---|---|---|\n",
       "| 45                    | Female                | Heart Disease         |  5                    | General               | 0.96278927            | Recovered             | 4                     | 0                     | 0                     | ...                   | Elective              | 4                     | No                    | Married               | High school           | No                    | Yes                   | Full-time             | No                    | Public                |\n",
       "| 60                    | Male                  | Diabetes              |  3                    | General               | 0.32008156            | Stable                | 3                     | 0                     | 0                     | ...                   | Elective              | 0                     | No                    | Divorced              | Graduate              | No                    | Yes                   | Unemployed            | Yes                   | Public                |\n",
       "| 32                    | Female                | Fractured Arm         |  1                    | Teaching              | 0.61565194            | Recovered             | 5                     | 2                     | 0                     | ...                   | Elective              | 1                     | No                    | Single                | Graduate              | No                    | Yes                   | Retired               | Yes                   | None                  |\n",
       "| 75                    | Male                  | Stroke                |  7                    | Teaching              | 0.59778783            | Stable                | 2                     | 0                     | 0                     | ...                   | Elective              | 4                     | No                    | Divorced              | Graduate              | No                    | Yes                   | Unemployed            | Yes                   | Private               |\n",
       "| 50                    | Female                | Cancer                | 10                    | General               | 0.94377189            | Recovered             | 4                     | 0                     | 0                     | ...                   | Urgent                | 4                     | Yes                   | Single                | High school           | No                    | Yes                   | Retired               | No                    | Public                |\n",
       "| 68                    | Male                  | Hypertension          |  2                    | General               | 0.18862296            | Stable                | 4                     | 0                     | 0                     | ...                   | Emergency             | 2                     | Yes                   | Married               | College               | Yes                   | Yes                   | Unemployed            | Yes                   | Private               |\n",
       "| 55                    | Female                | Appendicitis          |  4                    | Teaching              | 0.60733338            | Recovered             | 3                     | 0                     | 0                     | ...                   | Emergency             | 1                     | Yes                   | Divorced              | High school           | No                    | Yes                   | Full-time             | No                    | Public                |\n",
       "| 40                    | Male                  | Fractured Leg         |  6                    | Specialty             | 0.11888611            | Recovered             | 4                     | 0                     | 0                     | ...                   | Emergency             | 2                     | No                    | Divorced              | College               | Yes                   | Yes                   | Full-time             | Yes                   | None                  |\n",
       "| 70                    | Female                | Heart Attack          |  8                    | General               | 0.95264525            | Stable                | 2                     | 0                     | 0                     | ...                   | Emergency             | 1                     | Yes                   | Single                | College               | Yes                   | No                    | Unemployed            | Yes                   | None                  |\n",
       "| 25                    | Male                  | Allergic Reaction     |  1                    | Teaching              | 0.07132914            | Recovered             | 5                     | 0                     | 0                     | ...                   | Elective              | 2                     | Yes                   | Divorced              | Graduate              | No                    | No                    | Unemployed            | Yes                   | Public                |\n",
       "| 48                    | Female                | Respiratory Infection |  2                    | Specialty             | 0.30932604            | Stable                | 4                     | 0                     | 0                     | ...                   | Emergency             | 4                     | No                    | Single                | College               | No                    | No                    | Full-time             | Yes                   | None                  |\n",
       "| 65                    | Male                  | Prostate Cancer       |  9                    | General               | 0.53830444            | Recovered             | 3                     | 0                     | 0                     | ...                   | Urgent                | 4                     | No                    | Single                | High school           | No                    | Yes                   | Retired               | No                    | Public                |\n",
       "| 30                    | Female                | Childbirth            |  3                    | Specialty             | 0.20972138            | Recovered             | 4                     | 0                     | 1                     | ...                   | Urgent                | 0                     | No                    | Single                | High school           | No                    | Yes                   | Full-time             | No                    | None                  |\n",
       "| 52                    | Male                  | Kidney Stones         |  4                    | Teaching              | 0.20274427            | Recovered             | 3                     | 0                     | 0                     | ...                   | Emergency             | 2                     | Yes                   | Single                | College               | No                    | No                    | Retired               | Yes                   | Private               |\n",
       "| 58                    | Female                | Osteoarthritis        |  5                    | General               | 0.27149548            | Stable                | 4                     | 0                     | 0                     | ...                   | Emergency             | 3                     | Yes                   | Married               | Graduate              | Yes                   | No                    | Unemployed            | No                    | None                  |\n",
       "| 55                    | Female                | Heart Disease         |  6                    | Specialty             | 0.87724390            | Recovered             | 3                     | 0                     | 0                     | ...                   | Urgent                | 0                     | No                    | Single                | Graduate              | No                    | No                    | Unemployed            | Yes                   | Private               |\n",
       "| 62                    | Male                  | Diabetes              |  4                    | General               | 0.43791042            | Stable                | 4                     | 0                     | 0                     | ...                   | Urgent                | 2                     | No                    | Divorced              | High school           | No                    | Yes                   | Retired               | Yes                   | None                  |\n",
       "| 35                    | Female                | Fractured Arm         |  2                    | Specialty             | 0.72210606            | Recovered             | 5                     | 0                     | 0                     | ...                   | Elective              | 2                     | Yes                   | Married               | Graduate              | Yes                   | No                    | Unemployed            | Yes                   | Private               |\n",
       "| 78                    | Male                  | Stroke                |  8                    | Teaching              | 0.55716131            | Stable                | 2                     | 0                     | 0                     | ...                   | Urgent                | 0                     | Yes                   | Divorced              | College               | Yes                   | No                    | Retired               | Yes                   | None                  |\n",
       "| 53                    | Female                | Cancer                | 11                    | Teaching              | 0.65204761            | Recovered             | 4                     | 0                     | 0                     | ...                   | Elective              | 4                     | No                    | Married               | College               | No                    | Yes                   | Part-time             | No                    | Private               |\n",
       "| 72                    | Male                  | Hypertension          |  3                    | General               | 0.54894134            | Stable                | 4                     | 0                     | 0                     | ...                   | Elective              | 2                     | No                    | Single                | High school           | Yes                   | No                    | Full-time             | Yes                   | Public                |\n",
       "| 60                    | Female                | Appendicitis          |  5                    | Specialty             | 0.84088313            | Recovered             | 3                     | 0                     | 0                     | ...                   | Elective              | 4                     | Yes                   | Married               | College               | No                    | Yes                   | Part-time             | Yes                   | Public                |\n",
       "| 45                    | Male                  | Fractured Leg         |  7                    | General               | 0.23500396            | Recovered             | 4                     | 0                     | 0                     | ...                   | Elective              | 0                     | No                    | Married               | High school           | Yes                   | Yes                   | Retired               | No                    | Private               |\n",
       "| 75                    | Female                | Heart Attack          |  9                    | General               | 0.98019203            | Stable                | 2                     | 0                     | 0                     | ...                   | Elective              | 4                     | Yes                   | Divorced              | College               | Yes                   | Yes                   | Full-time             | Yes                   | None                  |\n",
       "| 28                    | Male                  | Allergic Reaction     |  2                    | Specialty             | 0.08619710            | Recovered             | 5                     | 0                     | 0                     | ...                   | Emergency             | 1                     | Yes                   | Divorced              | High school           | No                    | No                    | Retired               | Yes                   | Private               |\n",
       "| 52                    | Female                | Respiratory Infection |  3                    | Specialty             | 0.26577098            | Stable                | 4                     | 0                     | 0                     | ...                   | Urgent                | 3                     | Yes                   | Single                | Graduate              | Yes                   | No                    | Full-time             | Yes                   | None                  |\n",
       "| 67                    | Male                  | Prostate Cancer       | 10                    | Specialty             | 0.45309312            | Recovered             | 3                     | 0                     | 0                     | ...                   | Elective              | 2                     | Yes                   | Married               | College               | Yes                   | Yes                   | Full-time             | No                    | Public                |\n",
       "| 35                    | Female                | Childbirth            |  4                    | Teaching              | 0.19759069            | Recovered             | 4                     | 0                     | 0                     | ...                   | Urgent                | 3                     | No                    | Married               | College               | Yes                   | No                    | Full-time             | Yes                   | None                  |\n",
       "| 50                    | Male                  | Kidney Stones         |  5                    | General               | 0.37309952            | Recovered             | 3                     | 0                     | 0                     | ...                   | Urgent                | 4                     | No                    | Married               | High school           | Yes                   | No                    | Full-time             | No                    | Public                |\n",
       "| 60                    | Female                | Osteoarthritis        |  6                    | General               | 0.67152909            | Stable                | 4                     | 0                     | 0                     | ...                   | Elective              | 2                     | Yes                   | Single                | High school           | Yes                   | No                    | Retired               | Yes                   | None                  |\n",
       "| ... | ... | ... | ... | ... | ... | ... | ... | ... | ... |     | ... | ... | ... | ... | ... | ... | ... | ... | ... | ... |\n",
       "| 52                    | Female                | Respiratory Infection | 66                    | General               | 0.2679241             | Stable                | 4                     | 0                     | 0                     | ...                   | Elective              | 0                     | No                    | Married               | High school           | No                    | No                    | Retired               | Yes                   | Private               |\n",
       "| 58                    | Male                  | Prostate Cancer       | 73                    | General               | 0.2071369             | Recovered             | 3                     | 0                     | 0                     | ...                   | Elective              | 0                     | No                    | Married               | High school           | No                    | No                    | Retired               | Yes                   | Private               |\n",
       "| 32                    | Female                | Childbirth            | 67                    | General               | 0.3473079             | Recovered             | 4                     | 0                     | 0                     | ...                   | Elective              | 0                     | No                    | Married               | High school           | No                    | No                    | Retired               | Yes                   | Private               |\n",
       "| 55                    | Male                  | Kidney Stones         | 68                    | General               | 0.3549156             | Recovered             | 3                     | 0                     | 0                     | ...                   | Elective              | 0                     | No                    | Married               | High school           | No                    | No                    | Retired               | Yes                   | Private               |\n",
       "| 65                    | Female                | Osteoarthritis        | 69                    | General               | 0.5091051             | Stable                | 4                     | 3                     | 0                     | ...                   | Elective              | 0                     | No                    | Married               | High school           | No                    | No                    | Retired               | Yes                   | Private               |\n",
       "| 55                    | Female                | Heart Disease         | 70                    | General               | 0.9123498             | Recovered             | 3                     | 0                     | 0                     | ...                   | Elective              | 0                     | No                    | Married               | High school           | No                    | No                    | Retired               | Yes                   | Private               |\n",
       "| 62                    | Male                  | Diabetes              | 68                    | General               | 0.5031916             | Stable                | 4                     | 0                     | 0                     | ...                   | Elective              | 0                     | No                    | Married               | High school           | No                    | No                    | Retired               | Yes                   | Private               |\n",
       "| 35                    | Female                | Fractured Arm         | 66                    | General               | 0.7883045             | Recovered             | 5                     | 0                     | 0                     | ...                   | Elective              | 0                     | No                    | Married               | High school           | No                    | No                    | Retired               | Yes                   | Private               |\n",
       "| 78                    | Male                  | Stroke                | 73                    | General               | 0.7559825             | Stable                | 2                     | 0                     | 0                     | ...                   | Elective              | 0                     | No                    | Married               | High school           | No                    | No                    | Retired               | Yes                   | Private               |\n",
       "| 53                    | Female                | Cancer                | 75                    | General               | 0.7945703             | Recovered             | 4                     | 0                     | 0                     | ...                   | Elective              | 0                     | No                    | Married               | High school           | No                    | No                    | Retired               | Yes                   | Private               |\n",
       "| 72                    | Male                  | Hypertension          | 69                    | General               | 0.2271847             | Stable                | 4                     | 0                     | 0                     | ...                   | Elective              | 0                     | No                    | Married               | High school           | No                    | No                    | Retired               | Yes                   | Private               |\n",
       "| 60                    | Female                | Appendicitis          | 71                    | General               | 0.8492949             | Recovered             | 3                     | 0                     | 0                     | ...                   | Elective              | 0                     | No                    | Married               | High school           | No                    | No                    | Retired               | Yes                   | Private               |\n",
       "| 45                    | Male                  | Fractured Leg         | 71                    | General               | 0.1731292             | Recovered             | 4                     | 0                     | 0                     | ...                   | Elective              | 0                     | No                    | Married               | High school           | No                    | No                    | Retired               | Yes                   | Private               |\n",
       "| 75                    | Female                | Heart Attack          | 73                    | General               | 0.9338886             | Stable                | 2                     | 0                     | 0                     | ...                   | Elective              | 0                     | No                    | Married               | High school           | No                    | No                    | Retired               | Yes                   | Private               |\n",
       "| 28                    | Male                  | Allergic Reaction     | 67                    | General               | 0.1893848             | Recovered             | 5                     | 0                     | 0                     | ...                   | Elective              | 0                     | No                    | Married               | High school           | No                    | No                    | Retired               | Yes                   | Private               |\n",
       "| 52                    | Female                | Respiratory Infection | 68                    | General               | 0.2836818             | Stable                | 4                     | 0                     | 0                     | ...                   | Elective              | 0                     | No                    | Married               | High school           | No                    | No                    | Retired               | Yes                   | Private               |\n",
       "| 67                    | Male                  | Prostate Cancer       | 74                    | General               | 0.3147875             | Recovered             | 3                     | 0                     | 0                     | ...                   | Elective              | 0                     | No                    | Married               | High school           | No                    | No                    | Retired               | Yes                   | Private               |\n",
       "| 35                    | Female                | Childbirth            | 68                    | General               | 0.3856125             | Recovered             | 4                     | 0                     | 0                     | ...                   | Elective              | 0                     | No                    | Married               | High school           | No                    | No                    | Retired               | Yes                   | Private               |\n",
       "| 50                    | Male                  | Kidney Stones         | 69                    | General               | 0.2852605             | Recovered             | 3                     | 0                     | 0                     | ...                   | Elective              | 0                     | No                    | Married               | High school           | No                    | No                    | Retired               | Yes                   | Private               |\n",
       "| 60                    | Female                | Osteoarthritis        | 70                    | General               | 0.4357206             | Stable                | 4                     | 0                     | 0                     | ...                   | Elective              | 0                     | No                    | Married               | High school           | No                    | No                    | Retired               | Yes                   | Private               |\n",
       "| 48                    | Female                | Heart Disease         | 71                    | General               | 0.9363710             | Recovered             | 4                     | 0                     | 0                     | ...                   | Elective              | 0                     | No                    | Married               | High school           | No                    | No                    | Retired               | Yes                   | Private               |\n",
       "| 65                    | Male                  | Diabetes              | 69                    | General               | 0.3756762             | Stable                | 3                     | 0                     | 0                     | ...                   | Elective              | 0                     | No                    | Married               | High school           | No                    | No                    | Retired               | Yes                   | Private               |\n",
       "| 30                    | Female                | Fractured Arm         | 67                    | General               | 0.7329992             | Recovered             | 5                     | 0                     | 0                     | ...                   | Elective              | 0                     | No                    | Married               | High school           | No                    | No                    | Retired               | Yes                   | Private               |\n",
       "| 70                    | Male                  | Stroke                | 74                    | General               | 0.6524518             | Stable                | 2                     | 0                     | 0                     | ...                   | Elective              | 0                     | No                    | Married               | High school           | No                    | No                    | Retired               | Yes                   | Private               |\n",
       "| 55                    | Female                | Cancer                | 76                    | General               | 0.8096831             | Recovered             | 4                     | 0                     | 0                     | ...                   | Elective              | 0                     | No                    | Married               | High school           | No                    | No                    | Retired               | Yes                   | Private               |\n",
       "| 68                    | Male                  | Hypertension          | 70                    | General               | 0.1807379             | Stable                | 4                     | 0                     | 0                     | ...                   | Elective              | 0                     | No                    | Married               | High school           | No                    | No                    | Retired               | Yes                   | Private               |\n",
       "| 45                    | Female                | Appendicitis          | 72                    | General               | 0.7014227             | Recovered             | 3                     | 0                     | 0                     | ...                   | Elective              | 0                     | No                    | Married               | High school           | No                    | No                    | Retired               | Yes                   | Private               |\n",
       "| 40                    | Male                  | Fractured Leg         | 72                    | General               | 0.1348683             | Recovered             | 4                     | 0                     | 0                     | ...                   | Elective              | 0                     | No                    | Married               | High school           | No                    | No                    | Retired               | Yes                   | Private               |\n",
       "| 78                    | Female                | Heart Attack          | 74                    | General               | 0.9449415             | Stable                | 2                     | 0                     | 0                     | ...                   | Elective              | 0                     | No                    | Married               | High school           | No                    | No                    | Retired               | Yes                   | Private               |\n",
       "| 25                    | Male                  | Allergic Reaction     | 68                    | General               | 0.1594657             | Recovered             | 5                     | 0                     | 0                     | ...                   | Elective              | 0                     | No                    | Married               | High school           | No                    | No                    | Retired               | Yes                   | Private               |\n",
       "\n"
      ],
      "text/plain": [
       "    Age Gender Condition             Length_of_Stay Hospital_Type Readmission\n",
       "1   45  Female Heart Disease          5             General       0.96278927 \n",
       "2   60  Male   Diabetes               3             General       0.32008156 \n",
       "3   32  Female Fractured Arm          1             Teaching      0.61565194 \n",
       "4   75  Male   Stroke                 7             Teaching      0.59778783 \n",
       "5   50  Female Cancer                10             General       0.94377189 \n",
       "6   68  Male   Hypertension           2             General       0.18862296 \n",
       "7   55  Female Appendicitis           4             Teaching      0.60733338 \n",
       "8   40  Male   Fractured Leg          6             Specialty     0.11888611 \n",
       "9   70  Female Heart Attack           8             General       0.95264525 \n",
       "10  25  Male   Allergic Reaction      1             Teaching      0.07132914 \n",
       "11  48  Female Respiratory Infection  2             Specialty     0.30932604 \n",
       "12  65  Male   Prostate Cancer        9             General       0.53830444 \n",
       "13  30  Female Childbirth             3             Specialty     0.20972138 \n",
       "14  52  Male   Kidney Stones          4             Teaching      0.20274427 \n",
       "15  58  Female Osteoarthritis         5             General       0.27149548 \n",
       "16  55  Female Heart Disease          6             Specialty     0.87724390 \n",
       "17  62  Male   Diabetes               4             General       0.43791042 \n",
       "18  35  Female Fractured Arm          2             Specialty     0.72210606 \n",
       "19  78  Male   Stroke                 8             Teaching      0.55716131 \n",
       "20  53  Female Cancer                11             Teaching      0.65204761 \n",
       "21  72  Male   Hypertension           3             General       0.54894134 \n",
       "22  60  Female Appendicitis           5             Specialty     0.84088313 \n",
       "23  45  Male   Fractured Leg          7             General       0.23500396 \n",
       "24  75  Female Heart Attack           9             General       0.98019203 \n",
       "25  28  Male   Allergic Reaction      2             Specialty     0.08619710 \n",
       "26  52  Female Respiratory Infection  3             Specialty     0.26577098 \n",
       "27  67  Male   Prostate Cancer       10             Specialty     0.45309312 \n",
       "28  35  Female Childbirth             4             Teaching      0.19759069 \n",
       "29  50  Male   Kidney Stones          5             General       0.37309952 \n",
       "30  60  Female Osteoarthritis         6             General       0.67152909 \n",
       "... ... ...    ...                   ...            ...           ...        \n",
       "955 52  Female Respiratory Infection 66             General       0.2679241  \n",
       "956 58  Male   Prostate Cancer       73             General       0.2071369  \n",
       "957 32  Female Childbirth            67             General       0.3473079  \n",
       "958 55  Male   Kidney Stones         68             General       0.3549156  \n",
       "959 65  Female Osteoarthritis        69             General       0.5091051  \n",
       "960 55  Female Heart Disease         70             General       0.9123498  \n",
       "961 62  Male   Diabetes              68             General       0.5031916  \n",
       "962 35  Female Fractured Arm         66             General       0.7883045  \n",
       "963 78  Male   Stroke                73             General       0.7559825  \n",
       "964 53  Female Cancer                75             General       0.7945703  \n",
       "965 72  Male   Hypertension          69             General       0.2271847  \n",
       "966 60  Female Appendicitis          71             General       0.8492949  \n",
       "967 45  Male   Fractured Leg         71             General       0.1731292  \n",
       "968 75  Female Heart Attack          73             General       0.9338886  \n",
       "969 28  Male   Allergic Reaction     67             General       0.1893848  \n",
       "970 52  Female Respiratory Infection 68             General       0.2836818  \n",
       "971 67  Male   Prostate Cancer       74             General       0.3147875  \n",
       "972 35  Female Childbirth            68             General       0.3856125  \n",
       "973 50  Male   Kidney Stones         69             General       0.2852605  \n",
       "974 60  Female Osteoarthritis        70             General       0.4357206  \n",
       "975 48  Female Heart Disease         71             General       0.9363710  \n",
       "976 65  Male   Diabetes              69             General       0.3756762  \n",
       "977 30  Female Fractured Arm         67             General       0.7329992  \n",
       "978 70  Male   Stroke                74             General       0.6524518  \n",
       "979 55  Female Cancer                76             General       0.8096831  \n",
       "980 68  Male   Hypertension          70             General       0.1807379  \n",
       "981 45  Female Appendicitis          72             General       0.7014227  \n",
       "982 40  Male   Fractured Leg         72             General       0.1348683  \n",
       "983 78  Female Heart Attack          74             General       0.9449415  \n",
       "984 25  Male   Allergic Reaction     68             General       0.1594657  \n",
       "    Outcome   Satisfaction number_outpatient number_emergency ...\n",
       "1   Recovered 4            0                 0                ...\n",
       "2   Stable    3            0                 0                ...\n",
       "3   Recovered 5            2                 0                ...\n",
       "4   Stable    2            0                 0                ...\n",
       "5   Recovered 4            0                 0                ...\n",
       "6   Stable    4            0                 0                ...\n",
       "7   Recovered 3            0                 0                ...\n",
       "8   Recovered 4            0                 0                ...\n",
       "9   Stable    2            0                 0                ...\n",
       "10  Recovered 5            0                 0                ...\n",
       "11  Stable    4            0                 0                ...\n",
       "12  Recovered 3            0                 0                ...\n",
       "13  Recovered 4            0                 1                ...\n",
       "14  Recovered 3            0                 0                ...\n",
       "15  Stable    4            0                 0                ...\n",
       "16  Recovered 3            0                 0                ...\n",
       "17  Stable    4            0                 0                ...\n",
       "18  Recovered 5            0                 0                ...\n",
       "19  Stable    2            0                 0                ...\n",
       "20  Recovered 4            0                 0                ...\n",
       "21  Stable    4            0                 0                ...\n",
       "22  Recovered 3            0                 0                ...\n",
       "23  Recovered 4            0                 0                ...\n",
       "24  Stable    2            0                 0                ...\n",
       "25  Recovered 5            0                 0                ...\n",
       "26  Stable    4            0                 0                ...\n",
       "27  Recovered 3            0                 0                ...\n",
       "28  Recovered 4            0                 0                ...\n",
       "29  Recovered 3            0                 0                ...\n",
       "30  Stable    4            0                 0                ...\n",
       "... ...       ...          ...               ...                 \n",
       "955 Stable    4            0                 0                ...\n",
       "956 Recovered 3            0                 0                ...\n",
       "957 Recovered 4            0                 0                ...\n",
       "958 Recovered 3            0                 0                ...\n",
       "959 Stable    4            3                 0                ...\n",
       "960 Recovered 3            0                 0                ...\n",
       "961 Stable    4            0                 0                ...\n",
       "962 Recovered 5            0                 0                ...\n",
       "963 Stable    2            0                 0                ...\n",
       "964 Recovered 4            0                 0                ...\n",
       "965 Stable    4            0                 0                ...\n",
       "966 Recovered 3            0                 0                ...\n",
       "967 Recovered 4            0                 0                ...\n",
       "968 Stable    2            0                 0                ...\n",
       "969 Recovered 5            0                 0                ...\n",
       "970 Stable    4            0                 0                ...\n",
       "971 Recovered 3            0                 0                ...\n",
       "972 Recovered 4            0                 0                ...\n",
       "973 Recovered 3            0                 0                ...\n",
       "974 Stable    4            0                 0                ...\n",
       "975 Recovered 4            0                 0                ...\n",
       "976 Stable    3            0                 0                ...\n",
       "977 Recovered 5            0                 0                ...\n",
       "978 Stable    2            0                 0                ...\n",
       "979 Recovered 4            0                 0                ...\n",
       "980 Stable    4            0                 0                ...\n",
       "981 Recovered 3            0                 0                ...\n",
       "982 Recovered 4            0                 0                ...\n",
       "983 Stable    2            0                 0                ...\n",
       "984 Recovered 5            0                 0                ...\n",
       "    Admission_Type Readmission_Count_Last_Year Chronic_Illness Marital_Status\n",
       "1   Elective       4                           No              Married       \n",
       "2   Elective       0                           No              Divorced      \n",
       "3   Elective       1                           No              Single        \n",
       "4   Elective       4                           No              Divorced      \n",
       "5   Urgent         4                           Yes             Single        \n",
       "6   Emergency      2                           Yes             Married       \n",
       "7   Emergency      1                           Yes             Divorced      \n",
       "8   Emergency      2                           No              Divorced      \n",
       "9   Emergency      1                           Yes             Single        \n",
       "10  Elective       2                           Yes             Divorced      \n",
       "11  Emergency      4                           No              Single        \n",
       "12  Urgent         4                           No              Single        \n",
       "13  Urgent         0                           No              Single        \n",
       "14  Emergency      2                           Yes             Single        \n",
       "15  Emergency      3                           Yes             Married       \n",
       "16  Urgent         0                           No              Single        \n",
       "17  Urgent         2                           No              Divorced      \n",
       "18  Elective       2                           Yes             Married       \n",
       "19  Urgent         0                           Yes             Divorced      \n",
       "20  Elective       4                           No              Married       \n",
       "21  Elective       2                           No              Single        \n",
       "22  Elective       4                           Yes             Married       \n",
       "23  Elective       0                           No              Married       \n",
       "24  Elective       4                           Yes             Divorced      \n",
       "25  Emergency      1                           Yes             Divorced      \n",
       "26  Urgent         3                           Yes             Single        \n",
       "27  Elective       2                           Yes             Married       \n",
       "28  Urgent         3                           No              Married       \n",
       "29  Urgent         4                           No              Married       \n",
       "30  Elective       2                           Yes             Single        \n",
       "... ...            ...                         ...             ...           \n",
       "955 Elective       0                           No              Married       \n",
       "956 Elective       0                           No              Married       \n",
       "957 Elective       0                           No              Married       \n",
       "958 Elective       0                           No              Married       \n",
       "959 Elective       0                           No              Married       \n",
       "960 Elective       0                           No              Married       \n",
       "961 Elective       0                           No              Married       \n",
       "962 Elective       0                           No              Married       \n",
       "963 Elective       0                           No              Married       \n",
       "964 Elective       0                           No              Married       \n",
       "965 Elective       0                           No              Married       \n",
       "966 Elective       0                           No              Married       \n",
       "967 Elective       0                           No              Married       \n",
       "968 Elective       0                           No              Married       \n",
       "969 Elective       0                           No              Married       \n",
       "970 Elective       0                           No              Married       \n",
       "971 Elective       0                           No              Married       \n",
       "972 Elective       0                           No              Married       \n",
       "973 Elective       0                           No              Married       \n",
       "974 Elective       0                           No              Married       \n",
       "975 Elective       0                           No              Married       \n",
       "976 Elective       0                           No              Married       \n",
       "977 Elective       0                           No              Married       \n",
       "978 Elective       0                           No              Married       \n",
       "979 Elective       0                           No              Married       \n",
       "980 Elective       0                           No              Married       \n",
       "981 Elective       0                           No              Married       \n",
       "982 Elective       0                           No              Married       \n",
       "983 Elective       0                           No              Married       \n",
       "984 Elective       0                           No              Married       \n",
       "    Education_Level Substance_Abuse Sport_Practice Actual_Job\n",
       "1   High school     No              Yes            Full-time \n",
       "2   Graduate        No              Yes            Unemployed\n",
       "3   Graduate        No              Yes            Retired   \n",
       "4   Graduate        No              Yes            Unemployed\n",
       "5   High school     No              Yes            Retired   \n",
       "6   College         Yes             Yes            Unemployed\n",
       "7   High school     No              Yes            Full-time \n",
       "8   College         Yes             Yes            Full-time \n",
       "9   College         Yes             No             Unemployed\n",
       "10  Graduate        No              No             Unemployed\n",
       "11  College         No              No             Full-time \n",
       "12  High school     No              Yes            Retired   \n",
       "13  High school     No              Yes            Full-time \n",
       "14  College         No              No             Retired   \n",
       "15  Graduate        Yes             No             Unemployed\n",
       "16  Graduate        No              No             Unemployed\n",
       "17  High school     No              Yes            Retired   \n",
       "18  Graduate        Yes             No             Unemployed\n",
       "19  College         Yes             No             Retired   \n",
       "20  College         No              Yes            Part-time \n",
       "21  High school     Yes             No             Full-time \n",
       "22  College         No              Yes            Part-time \n",
       "23  High school     Yes             Yes            Retired   \n",
       "24  College         Yes             Yes            Full-time \n",
       "25  High school     No              No             Retired   \n",
       "26  Graduate        Yes             No             Full-time \n",
       "27  College         Yes             Yes            Full-time \n",
       "28  College         Yes             No             Full-time \n",
       "29  High school     Yes             No             Full-time \n",
       "30  High school     Yes             No             Retired   \n",
       "... ...             ...             ...            ...       \n",
       "955 High school     No              No             Retired   \n",
       "956 High school     No              No             Retired   \n",
       "957 High school     No              No             Retired   \n",
       "958 High school     No              No             Retired   \n",
       "959 High school     No              No             Retired   \n",
       "960 High school     No              No             Retired   \n",
       "961 High school     No              No             Retired   \n",
       "962 High school     No              No             Retired   \n",
       "963 High school     No              No             Retired   \n",
       "964 High school     No              No             Retired   \n",
       "965 High school     No              No             Retired   \n",
       "966 High school     No              No             Retired   \n",
       "967 High school     No              No             Retired   \n",
       "968 High school     No              No             Retired   \n",
       "969 High school     No              No             Retired   \n",
       "970 High school     No              No             Retired   \n",
       "971 High school     No              No             Retired   \n",
       "972 High school     No              No             Retired   \n",
       "973 High school     No              No             Retired   \n",
       "974 High school     No              No             Retired   \n",
       "975 High school     No              No             Retired   \n",
       "976 High school     No              No             Retired   \n",
       "977 High school     No              No             Retired   \n",
       "978 High school     No              No             Retired   \n",
       "979 High school     No              No             Retired   \n",
       "980 High school     No              No             Retired   \n",
       "981 High school     No              No             Retired   \n",
       "982 High school     No              No             Retired   \n",
       "983 High school     No              No             Retired   \n",
       "984 High school     No              No             Retired   \n",
       "    Follow_Up_After_Discharge Insurance\n",
       "1   No                        Public   \n",
       "2   Yes                       Public   \n",
       "3   Yes                       None     \n",
       "4   Yes                       Private  \n",
       "5   No                        Public   \n",
       "6   Yes                       Private  \n",
       "7   No                        Public   \n",
       "8   Yes                       None     \n",
       "9   Yes                       None     \n",
       "10  Yes                       Public   \n",
       "11  Yes                       None     \n",
       "12  No                        Public   \n",
       "13  No                        None     \n",
       "14  Yes                       Private  \n",
       "15  No                        None     \n",
       "16  Yes                       Private  \n",
       "17  Yes                       None     \n",
       "18  Yes                       Private  \n",
       "19  Yes                       None     \n",
       "20  No                        Private  \n",
       "21  Yes                       Public   \n",
       "22  Yes                       Public   \n",
       "23  No                        Private  \n",
       "24  Yes                       None     \n",
       "25  Yes                       Private  \n",
       "26  Yes                       None     \n",
       "27  No                        Public   \n",
       "28  Yes                       None     \n",
       "29  No                        Public   \n",
       "30  Yes                       None     \n",
       "... ...                       ...      \n",
       "955 Yes                       Private  \n",
       "956 Yes                       Private  \n",
       "957 Yes                       Private  \n",
       "958 Yes                       Private  \n",
       "959 Yes                       Private  \n",
       "960 Yes                       Private  \n",
       "961 Yes                       Private  \n",
       "962 Yes                       Private  \n",
       "963 Yes                       Private  \n",
       "964 Yes                       Private  \n",
       "965 Yes                       Private  \n",
       "966 Yes                       Private  \n",
       "967 Yes                       Private  \n",
       "968 Yes                       Private  \n",
       "969 Yes                       Private  \n",
       "970 Yes                       Private  \n",
       "971 Yes                       Private  \n",
       "972 Yes                       Private  \n",
       "973 Yes                       Private  \n",
       "974 Yes                       Private  \n",
       "975 Yes                       Private  \n",
       "976 Yes                       Private  \n",
       "977 Yes                       Private  \n",
       "978 Yes                       Private  \n",
       "979 Yes                       Private  \n",
       "980 Yes                       Private  \n",
       "981 Yes                       Private  \n",
       "982 Yes                       Private  \n",
       "983 Yes                       Private  \n",
       "984 Yes                       Private  "
      ]
     },
     "metadata": {},
     "output_type": "display_data"
    }
   ],
   "source": [
    "P_Data$Readmission <- predict(MODEL, newdata = P_Data, type = \"response\")  #====== subset without FY 2020 Predict\n",
    "View(P_Data)"
   ]
  }
 ],
 "metadata": {
  "kernelspec": {
   "display_name": "R",
   "language": "R",
   "name": "ir"
  },
  "language_info": {
   "codemirror_mode": "r",
   "file_extension": ".r",
   "mimetype": "text/x-r-source",
   "name": "R",
   "pygments_lexer": "r",
   "version": "3.6.1"
  }
 },
 "nbformat": 4,
 "nbformat_minor": 5
}
